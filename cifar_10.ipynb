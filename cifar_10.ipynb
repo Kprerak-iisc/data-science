{
 "cells": [
  {
   "cell_type": "code",
   "execution_count": 1,
   "metadata": {},
   "outputs": [
    {
     "name": "stderr",
     "output_type": "stream",
     "text": [
      "Using TensorFlow backend.\n",
      "C:\\ProgramData\\Anaconda3\\envs\\py35\\lib\\site-packages\\tensorflow\\python\\framework\\dtypes.py:526: FutureWarning: Passing (type, 1) or '1type' as a synonym of type is deprecated; in a future version of numpy, it will be understood as (type, (1,)) / '(1,)type'.\n",
      "  _np_qint8 = np.dtype([(\"qint8\", np.int8, 1)])\n",
      "C:\\ProgramData\\Anaconda3\\envs\\py35\\lib\\site-packages\\tensorflow\\python\\framework\\dtypes.py:527: FutureWarning: Passing (type, 1) or '1type' as a synonym of type is deprecated; in a future version of numpy, it will be understood as (type, (1,)) / '(1,)type'.\n",
      "  _np_quint8 = np.dtype([(\"quint8\", np.uint8, 1)])\n",
      "C:\\ProgramData\\Anaconda3\\envs\\py35\\lib\\site-packages\\tensorflow\\python\\framework\\dtypes.py:528: FutureWarning: Passing (type, 1) or '1type' as a synonym of type is deprecated; in a future version of numpy, it will be understood as (type, (1,)) / '(1,)type'.\n",
      "  _np_qint16 = np.dtype([(\"qint16\", np.int16, 1)])\n",
      "C:\\ProgramData\\Anaconda3\\envs\\py35\\lib\\site-packages\\tensorflow\\python\\framework\\dtypes.py:529: FutureWarning: Passing (type, 1) or '1type' as a synonym of type is deprecated; in a future version of numpy, it will be understood as (type, (1,)) / '(1,)type'.\n",
      "  _np_quint16 = np.dtype([(\"quint16\", np.uint16, 1)])\n",
      "C:\\ProgramData\\Anaconda3\\envs\\py35\\lib\\site-packages\\tensorflow\\python\\framework\\dtypes.py:530: FutureWarning: Passing (type, 1) or '1type' as a synonym of type is deprecated; in a future version of numpy, it will be understood as (type, (1,)) / '(1,)type'.\n",
      "  _np_qint32 = np.dtype([(\"qint32\", np.int32, 1)])\n",
      "C:\\ProgramData\\Anaconda3\\envs\\py35\\lib\\site-packages\\tensorflow\\python\\framework\\dtypes.py:535: FutureWarning: Passing (type, 1) or '1type' as a synonym of type is deprecated; in a future version of numpy, it will be understood as (type, (1,)) / '(1,)type'.\n",
      "  np_resource = np.dtype([(\"resource\", np.ubyte, 1)])\n"
     ]
    }
   ],
   "source": [
    "import numpy as np\n",
    "from keras.datasets import cifar10\n",
    "from keras.layers import Dense\n",
    "from keras.layers import Dropout\n",
    "from keras.models import Sequential\n",
    "from keras.layers import Flatten\n",
    "from matplotlib import pyplot as plt\n",
    "import sys\n",
    "from keras.layers import Conv2D\n",
    "from keras.layers import MaxPooling2D\n",
    "from keras.utils import to_categorical\n"
   ]
  },
  {
   "cell_type": "code",
   "execution_count": 2,
   "metadata": {},
   "outputs": [
    {
     "data": {
      "text/plain": [
       "'1.13.1'"
      ]
     },
     "execution_count": 2,
     "metadata": {},
     "output_type": "execute_result"
    }
   ],
   "source": [
    "import tensorflow as tf\n",
    "tf.__version__"
   ]
  },
  {
   "cell_type": "code",
   "execution_count": 3,
   "metadata": {},
   "outputs": [
    {
     "name": "stdout",
     "output_type": "stream",
     "text": [
      "[name: \"/device:CPU:0\"\n",
      "device_type: \"CPU\"\n",
      "memory_limit: 268435456\n",
      "locality {\n",
      "}\n",
      "incarnation: 7945860764310198892\n",
      ", name: \"/device:GPU:0\"\n",
      "device_type: \"GPU\"\n",
      "memory_limit: 4864514457\n",
      "locality {\n",
      "  bus_id: 1\n",
      "  links {\n",
      "  }\n",
      "}\n",
      "incarnation: 11094957296601496385\n",
      "physical_device_desc: \"device: 0, name: GeForce GTX 1660 Ti, pci bus id: 0000:01:00.0, compute capability: 7.5\"\n",
      "]\n"
     ]
    }
   ],
   "source": [
    "from tensorflow.python.client import device_lib\n",
    "print(device_lib.list_local_devices())"
   ]
  },
  {
   "cell_type": "code",
   "execution_count": 3,
   "metadata": {},
   "outputs": [],
   "source": [
    "import keras.optimizers as op\n",
    "from sklearn.model_selection import train_test_split"
   ]
  },
  {
   "cell_type": "code",
   "execution_count": 4,
   "metadata": {},
   "outputs": [],
   "source": [
    "(trainX, trainY), (testX, testY) = cifar10.load_data()"
   ]
  },
  {
   "cell_type": "code",
   "execution_count": 5,
   "metadata": {},
   "outputs": [],
   "source": [
    "trainY1=to_categorical(trainY)\n",
    "testY1=to_categorical(testY)\n"
   ]
  },
  {
   "cell_type": "code",
   "execution_count": 6,
   "metadata": {},
   "outputs": [
    {
     "data": {
      "image/png": "[encoded data removed]",
      "text/plain": [
       "<Figure size 432x288 with 4 Axes>"
      ]
     },
     "metadata": {
      "needs_background": "light"
     },
     "output_type": "display_data"
    }
   ],
   "source": [
    "plt.subplot(221)\n",
    "plt.imshow(trainX[0],cmap=plt.get_cmap('gray'))\n",
    "plt.subplot(222)\n",
    "plt.imshow(trainX[1],cmap=plt.get_cmap('gray'))\n",
    "plt.subplot(223)\n",
    "plt.imshow(trainX[2],cmap=plt.get_cmap('gray'))\n",
    "plt.subplot(224)\n",
    "plt.imshow(trainX[3],cmap=plt.get_cmap('gray'))\n",
    "plt.show()"
   ]
  },
  {
   "cell_type": "code",
   "execution_count": 8,
   "metadata": {},
   "outputs": [
    {
     "data": {
      "text/plain": [
       "((50000, 32, 32, 3), (10000, 32, 32, 3))"
      ]
     },
     "execution_count": 8,
     "metadata": {},
     "output_type": "execute_result"
    }
   ],
   "source": [
    "trainX1= trainX.astype('float32')\n",
    "testX1 = testX.astype('float32')\n",
    "trainX1 = trainX1 / 255.0\n",
    "testX1 = testX1 / 255.0\n",
    "trainX1.shape, testX1.shape"
   ]
  },
  {
   "cell_type": "code",
   "execution_count": 9,
   "metadata": {},
   "outputs": [],
   "source": [
    "def base_model1():\n",
    "    model=Sequential()\n",
    "    model.add(Conv2D(32,(3,3),activation='relu',kernel_initializer='he_uniform',padding='same',input_shape=(32,32,3)))\n",
    "    model.add(Conv2D(32,(3,3),activation='relu',kernel_initializer='he_uniform',padding='same'))\n",
    "    model.add(MaxPooling2D((2,2)))\n",
    "    model.add(Flatten())\n",
    "    model.add(Dense(128,activation='relu',kernel_initializer='he_uniform'))\n",
    "    model.add(Dense(10,activation='softmax'))\n",
    "    opti=op.SGD(lr=0.001,momentum=0.9)\n",
    "    model.compile(optimizer=opti,loss='categorical_crossentropy',metrics=['accuracy'])\n",
    "    return model"
   ]
  },
  {
   "cell_type": "code",
   "execution_count": 10,
   "metadata": {},
   "outputs": [],
   "source": [
    "trainX2,testX2,trainY2,testY2=train_test_split(trainX1,trainY1,test_size=0.3,random_state=42)"
   ]
  },
  {
   "cell_type": "code",
   "execution_count": 11,
   "metadata": {},
   "outputs": [
    {
     "data": {
      "text/plain": [
       "((35000, 32, 32, 3), (15000, 32, 32, 3), (35000, 10), (15000, 10))"
      ]
     },
     "execution_count": 11,
     "metadata": {},
     "output_type": "execute_result"
    }
   ],
   "source": [
    "trainX2.shape,testX2.shape,trainY2.shape,testY2.shape\n"
   ]
  },
  {
   "cell_type": "code",
   "execution_count": null,
   "metadata": {},
   "outputs": [
    {
     "name": "stdout",
     "output_type": "stream",
     "text": [
      "WARNING:tensorflow:From C:\\ProgramData\\Anaconda3\\envs\\py35\\lib\\site-packages\\tensorflow\\python\\ops\\resource_variable_ops.py:435: colocate_with (from tensorflow.python.framework.ops) is deprecated and will be removed in a future version.\n",
      "Instructions for updating:\n",
      "Colocations handled automatically by placer.\n",
      "WARNING:tensorflow:From C:\\ProgramData\\Anaconda3\\envs\\py35\\lib\\site-packages\\tensorflow\\python\\ops\\math_ops.py:3066: to_int32 (from tensorflow.python.ops.math_ops) is deprecated and will be removed in a future version.\n",
      "Instructions for updating:\n",
      "Use tf.cast instead.\n",
      "Train on 35000 samples, validate on 15000 samples\n",
      "Epoch 1/100\n"
     ]
    }
   ],
   "source": [
    "model=base_model1()\n",
    "history=model.fit(trainX2,trainY2,epochs=100,batch_size=64,validation_data=(testX2,testY2),verbose=2)\n"
   ]
  },
  {
   "cell_type": "code",
   "execution_count": 13,
   "metadata": {},
   "outputs": [
    {
     "name": "stdout",
     "output_type": "stream",
     "text": [
      "63.8700008392334\n"
     ]
    }
   ],
   "source": [
    "_,acc=model.evaluate(testX1,testY1,verbose=0)\n",
    "print(acc*100)"
   ]
  },
  {
   "cell_type": "code",
   "execution_count": 15,
   "metadata": {},
   "outputs": [
    {
     "data": {
      "text/plain": [
       "[<matplotlib.lines.Line2D at 0x229c97834e0>]"
      ]
     },
     "execution_count": 15,
     "metadata": {},
     "output_type": "execute_result"
    },
    {
     "data": {
      "image/png": "[encoded data removed]",
      "text/plain": [
       "<Figure size 432x288 with 2 Axes>"
      ]
     },
     "metadata": {
      "needs_background": "light"
     },
     "output_type": "display_data"
    }
   ],
   "source": [
    "plt.subplot(211)\n",
    "plt.title('Crossentropy Loss')\n",
    "plt.plot(history.history['loss'],color='blue',label='train')\n",
    "plt.plot(history.history['val_loss'],color='orange',label='test')\n",
    "plt.subplot(212)\n",
    "plt.title('Classification Accuracy')\n",
    "plt.plot(history.history['accuracy'], color='blue', label='train')\n",
    "plt.plot(history.history['val_accuracy'], color='orange', label='test')"
   ]
  },
  {
   "cell_type": "code",
   "execution_count": 22,
   "metadata": {},
   "outputs": [],
   "source": [
    "def base_model2():\n",
    "    model = Sequential()\n",
    "    model.add(Conv2D(32, (3, 3), activation='relu', kernel_initializer='he_uniform', padding='same', input_shape=(32, 32, 3)))\n",
    "    model.add(Conv2D(32, (3, 3), activation='relu', kernel_initializer='he_uniform', padding='same'))\n",
    "    model.add(MaxPooling2D((2, 2)))\n",
    "    model.add(Dropout(0.2))\n",
    "    model.add(Conv2D(64, (3, 3), activation='relu', kernel_initializer='he_uniform', padding='same'))\n",
    "    model.add(Conv2D(64, (3, 3), activation='relu', kernel_initializer='he_uniform', padding='same'))\n",
    "    model.add(MaxPooling2D((2, 2)))\n",
    "    model.add(Dropout(0.2))\n",
    "    model.add(Conv2D(128, (3, 3), activation='relu', kernel_initializer='he_uniform', padding='same'))\n",
    "    model.add(Conv2D(128, (3, 3), activation='relu', kernel_initializer='he_uniform', padding='same'))\n",
    "    model.add(MaxPooling2D((2, 2)))\n",
    "    model.add(Dropout(0.2))\n",
    "    model.add(Flatten())\n",
    "    model.add(Dense(128, activation='relu', kernel_initializer='he_uniform'))\n",
    "    model.add(Dropout(0.2))\n",
    "    model.add(Dense(10, activation='softmax'))\n",
    "    # compile model\n",
    "    opti = op.SGD(lr=0.001, momentum=0.9)\n",
    "    model.compile(optimizer=opti, loss='categorical_crossentropy', metrics=['accuracy'])\n",
    "    return model"
   ]
  },
  {
   "cell_type": "code",
   "execution_count": 23,
   "metadata": {},
   "outputs": [
    {
     "name": "stdout",
     "output_type": "stream",
     "text": [
      "Train on 35000 samples, validate on 15000 samples\n",
      "Epoch 1/100\n",
      " - 21s - loss: 2.1130 - accuracy: 0.2061 - val_loss: 1.8685 - val_accuracy: 0.3415\n",
      "Epoch 2/100\n",
      " - 21s - loss: 1.8119 - accuracy: 0.3314 - val_loss: 1.6996 - val_accuracy: 0.3811\n",
      "Epoch 3/100\n",
      " - 22s - loss: 1.6622 - accuracy: 0.3880 - val_loss: 1.5610 - val_accuracy: 0.4279\n",
      "Epoch 4/100\n",
      " - 22s - loss: 1.5634 - accuracy: 0.4261 - val_loss: 1.4478 - val_accuracy: 0.4774\n",
      "Epoch 5/100\n",
      " - 22s - loss: 1.4829 - accuracy: 0.4553 - val_loss: 1.4028 - val_accuracy: 0.5001\n",
      "Epoch 6/100\n",
      " - 22s - loss: 1.4183 - accuracy: 0.4863 - val_loss: 1.3372 - val_accuracy: 0.5233\n",
      "Epoch 7/100\n",
      " - 22s - loss: 1.3661 - accuracy: 0.5026 - val_loss: 1.2559 - val_accuracy: 0.5541\n",
      "Epoch 8/100\n",
      " - 20s - loss: 1.3081 - accuracy: 0.5256 - val_loss: 1.2369 - val_accuracy: 0.5529\n",
      "Epoch 9/100\n",
      " - 22s - loss: 1.2693 - accuracy: 0.5414 - val_loss: 1.1568 - val_accuracy: 0.5875\n",
      "Epoch 10/100\n",
      " - 22s - loss: 1.2199 - accuracy: 0.5613 - val_loss: 1.1110 - val_accuracy: 0.6058\n",
      "Epoch 11/100\n",
      " - 21s - loss: 1.1800 - accuracy: 0.5751 - val_loss: 1.1340 - val_accuracy: 0.5951\n",
      "Epoch 12/100\n",
      " - 23s - loss: 1.1449 - accuracy: 0.5888 - val_loss: 1.0653 - val_accuracy: 0.6231\n",
      "Epoch 13/100\n",
      " - 23s - loss: 1.1050 - accuracy: 0.6035 - val_loss: 1.0768 - val_accuracy: 0.6226\n",
      "Epoch 14/100\n",
      " - 22s - loss: 1.0658 - accuracy: 0.6180 - val_loss: 0.9685 - val_accuracy: 0.6589\n",
      "Epoch 15/100\n",
      " - 21s - loss: 1.0367 - accuracy: 0.6301 - val_loss: 0.9466 - val_accuracy: 0.6619\n",
      "Epoch 16/100\n",
      " - 20s - loss: 1.0062 - accuracy: 0.6430 - val_loss: 0.9354 - val_accuracy: 0.6668\n",
      "Epoch 17/100\n",
      " - 22s - loss: 0.9835 - accuracy: 0.6482 - val_loss: 0.8968 - val_accuracy: 0.6854\n",
      "Epoch 18/100\n",
      " - 23s - loss: 0.9604 - accuracy: 0.6572 - val_loss: 0.9451 - val_accuracy: 0.6681\n",
      "Epoch 19/100\n",
      " - 22s - loss: 0.9357 - accuracy: 0.6672 - val_loss: 0.8471 - val_accuracy: 0.6989\n",
      "Epoch 20/100\n",
      " - 22s - loss: 0.9165 - accuracy: 0.6742 - val_loss: 0.8394 - val_accuracy: 0.7037\n",
      "Epoch 21/100\n",
      " - 22s - loss: 0.8897 - accuracy: 0.6832 - val_loss: 0.8178 - val_accuracy: 0.7142\n",
      "Epoch 22/100\n",
      " - 22s - loss: 0.8712 - accuracy: 0.6907 - val_loss: 0.8090 - val_accuracy: 0.7171\n",
      "Epoch 23/100\n",
      " - 23s - loss: 0.8528 - accuracy: 0.6997 - val_loss: 0.7748 - val_accuracy: 0.7251\n",
      "Epoch 24/100\n",
      " - 20s - loss: 0.8366 - accuracy: 0.7058 - val_loss: 0.7826 - val_accuracy: 0.7259\n",
      "Epoch 25/100\n",
      " - 21s - loss: 0.8170 - accuracy: 0.7131 - val_loss: 0.7659 - val_accuracy: 0.7314\n",
      "Epoch 26/100\n",
      " - 21s - loss: 0.8019 - accuracy: 0.7158 - val_loss: 0.7518 - val_accuracy: 0.7375\n",
      "Epoch 27/100\n",
      " - 22s - loss: 0.7825 - accuracy: 0.7230 - val_loss: 0.7277 - val_accuracy: 0.7437\n",
      "Epoch 28/100\n",
      " - 21s - loss: 0.7660 - accuracy: 0.7312 - val_loss: 0.7208 - val_accuracy: 0.7491\n",
      "Epoch 29/100\n",
      " - 21s - loss: 0.7594 - accuracy: 0.7303 - val_loss: 0.7198 - val_accuracy: 0.7483\n",
      "Epoch 30/100\n",
      " - 21s - loss: 0.7399 - accuracy: 0.7390 - val_loss: 0.7427 - val_accuracy: 0.7427\n",
      "Epoch 31/100\n",
      " - 22s - loss: 0.7237 - accuracy: 0.7466 - val_loss: 0.6963 - val_accuracy: 0.7552\n",
      "Epoch 32/100\n",
      " - 23s - loss: 0.7134 - accuracy: 0.7480 - val_loss: 0.7130 - val_accuracy: 0.7498\n",
      "Epoch 33/100\n",
      " - 22s - loss: 0.6996 - accuracy: 0.7504 - val_loss: 0.6847 - val_accuracy: 0.7620\n",
      "Epoch 34/100\n",
      " - 23s - loss: 0.6895 - accuracy: 0.7565 - val_loss: 0.6824 - val_accuracy: 0.7627\n",
      "Epoch 35/100\n",
      " - 23s - loss: 0.6779 - accuracy: 0.7585 - val_loss: 0.6821 - val_accuracy: 0.7611\n",
      "Epoch 36/100\n",
      " - 22s - loss: 0.6647 - accuracy: 0.7652 - val_loss: 0.6690 - val_accuracy: 0.7703\n",
      "Epoch 37/100\n",
      " - 22s - loss: 0.6555 - accuracy: 0.7673 - val_loss: 0.6527 - val_accuracy: 0.7749\n",
      "Epoch 38/100\n",
      " - 23s - loss: 0.6449 - accuracy: 0.7715 - val_loss: 0.6512 - val_accuracy: 0.7759\n",
      "Epoch 39/100\n",
      " - 22s - loss: 0.6295 - accuracy: 0.7767 - val_loss: 0.6451 - val_accuracy: 0.7771\n",
      "Epoch 40/100\n",
      " - 22s - loss: 0.6222 - accuracy: 0.7777 - val_loss: 0.6781 - val_accuracy: 0.7681\n",
      "Epoch 41/100\n",
      " - 21s - loss: 0.6079 - accuracy: 0.7832 - val_loss: 0.6367 - val_accuracy: 0.7795\n",
      "Epoch 42/100\n",
      " - 22s - loss: 0.6011 - accuracy: 0.7885 - val_loss: 0.6391 - val_accuracy: 0.7821\n",
      "Epoch 43/100\n",
      " - 21s - loss: 0.5864 - accuracy: 0.7903 - val_loss: 0.6396 - val_accuracy: 0.7801\n",
      "Epoch 44/100\n",
      " - 21s - loss: 0.5847 - accuracy: 0.7939 - val_loss: 0.6362 - val_accuracy: 0.7813\n",
      "Epoch 45/100\n",
      " - 23s - loss: 0.5716 - accuracy: 0.7968 - val_loss: 0.6224 - val_accuracy: 0.7873\n",
      "Epoch 46/100\n",
      " - 22s - loss: 0.5701 - accuracy: 0.7999 - val_loss: 0.6190 - val_accuracy: 0.7879\n",
      "Epoch 47/100\n",
      " - 20s - loss: 0.5547 - accuracy: 0.8042 - val_loss: 0.6154 - val_accuracy: 0.7903\n",
      "Epoch 48/100\n",
      " - 21s - loss: 0.5510 - accuracy: 0.8057 - val_loss: 0.6105 - val_accuracy: 0.7926\n",
      "Epoch 49/100\n",
      " - 21s - loss: 0.5421 - accuracy: 0.8072 - val_loss: 0.6146 - val_accuracy: 0.7891\n",
      "Epoch 50/100\n",
      " - 21s - loss: 0.5307 - accuracy: 0.8140 - val_loss: 0.6393 - val_accuracy: 0.7832\n",
      "Epoch 51/100\n",
      " - 21s - loss: 0.5231 - accuracy: 0.8135 - val_loss: 0.5911 - val_accuracy: 0.7977\n",
      "Epoch 52/100\n",
      " - 22s - loss: 0.5137 - accuracy: 0.8159 - val_loss: 0.6188 - val_accuracy: 0.7899\n",
      "Epoch 53/100\n",
      " - 21s - loss: 0.5090 - accuracy: 0.8173 - val_loss: 0.6159 - val_accuracy: 0.7908\n",
      "Epoch 54/100\n",
      " - 20s - loss: 0.4979 - accuracy: 0.8230 - val_loss: 0.6073 - val_accuracy: 0.7963\n",
      "Epoch 55/100\n",
      " - 21s - loss: 0.4923 - accuracy: 0.8245 - val_loss: 0.6027 - val_accuracy: 0.7931\n",
      "Epoch 56/100\n",
      " - 21s - loss: 0.4859 - accuracy: 0.8277 - val_loss: 0.6008 - val_accuracy: 0.7967\n",
      "Epoch 57/100\n",
      " - 21s - loss: 0.4829 - accuracy: 0.8255 - val_loss: 0.6188 - val_accuracy: 0.7886\n",
      "Epoch 58/100\n",
      " - 22s - loss: 0.4715 - accuracy: 0.8313 - val_loss: 0.6016 - val_accuracy: 0.7963\n",
      "Epoch 59/100\n",
      " - 23s - loss: 0.4661 - accuracy: 0.8339 - val_loss: 0.6129 - val_accuracy: 0.7954\n",
      "Epoch 60/100\n",
      " - 21s - loss: 0.4618 - accuracy: 0.8342 - val_loss: 0.6104 - val_accuracy: 0.7985\n",
      "Epoch 61/100\n",
      " - 22s - loss: 0.4512 - accuracy: 0.8378 - val_loss: 0.6004 - val_accuracy: 0.7989\n",
      "Epoch 62/100\n",
      " - 22s - loss: 0.4412 - accuracy: 0.8413 - val_loss: 0.5974 - val_accuracy: 0.7998\n",
      "Epoch 63/100\n",
      " - 22s - loss: 0.4417 - accuracy: 0.8405 - val_loss: 0.5973 - val_accuracy: 0.8005\n",
      "Epoch 64/100\n",
      " - 23s - loss: 0.4338 - accuracy: 0.8455 - val_loss: 0.5815 - val_accuracy: 0.8078\n",
      "Epoch 65/100\n",
      " - 22s - loss: 0.4295 - accuracy: 0.8454 - val_loss: 0.5948 - val_accuracy: 0.8019\n",
      "Epoch 66/100\n",
      " - 22s - loss: 0.4143 - accuracy: 0.8523 - val_loss: 0.5907 - val_accuracy: 0.8048\n",
      "Epoch 67/100\n",
      " - 23s - loss: 0.4139 - accuracy: 0.8523 - val_loss: 0.5834 - val_accuracy: 0.8070\n",
      "Epoch 68/100\n",
      " - 23s - loss: 0.4061 - accuracy: 0.8546 - val_loss: 0.6144 - val_accuracy: 0.8003\n",
      "Epoch 69/100\n",
      " - 23s - loss: 0.4029 - accuracy: 0.8557 - val_loss: 0.6163 - val_accuracy: 0.8024\n",
      "Epoch 70/100\n",
      " - 24s - loss: 0.3988 - accuracy: 0.8574 - val_loss: 0.5814 - val_accuracy: 0.8089\n",
      "Epoch 71/100\n",
      " - 21s - loss: 0.3852 - accuracy: 0.8629 - val_loss: 0.5846 - val_accuracy: 0.8080\n",
      "Epoch 72/100\n",
      " - 23s - loss: 0.3849 - accuracy: 0.8599 - val_loss: 0.6027 - val_accuracy: 0.8015\n",
      "Epoch 73/100\n",
      " - 24s - loss: 0.3765 - accuracy: 0.8638 - val_loss: 0.6001 - val_accuracy: 0.8050\n",
      "Epoch 74/100\n",
      " - 23s - loss: 0.3696 - accuracy: 0.8657 - val_loss: 0.5875 - val_accuracy: 0.8073\n",
      "Epoch 75/100\n",
      " - 23s - loss: 0.3694 - accuracy: 0.8659 - val_loss: 0.5841 - val_accuracy: 0.8085\n",
      "Epoch 76/100\n",
      " - 21s - loss: 0.3634 - accuracy: 0.8695 - val_loss: 0.6007 - val_accuracy: 0.8077\n",
      "Epoch 77/100\n",
      " - 21s - loss: 0.3616 - accuracy: 0.8692 - val_loss: 0.5927 - val_accuracy: 0.8077\n",
      "Epoch 78/100\n",
      " - 21s - loss: 0.3506 - accuracy: 0.8735 - val_loss: 0.6173 - val_accuracy: 0.8067\n",
      "Epoch 79/100\n",
      " - 22s - loss: 0.3472 - accuracy: 0.8767 - val_loss: 0.6253 - val_accuracy: 0.8037\n",
      "Epoch 80/100\n",
      " - 21s - loss: 0.3381 - accuracy: 0.8780 - val_loss: 0.5981 - val_accuracy: 0.8099\n",
      "Epoch 81/100\n",
      " - 21s - loss: 0.3422 - accuracy: 0.8765 - val_loss: 0.5893 - val_accuracy: 0.8104\n",
      "Epoch 82/100\n",
      " - 22s - loss: 0.3359 - accuracy: 0.8780 - val_loss: 0.6060 - val_accuracy: 0.8090\n",
      "Epoch 83/100\n",
      " - 22s - loss: 0.3265 - accuracy: 0.8826 - val_loss: 0.6055 - val_accuracy: 0.8082\n",
      "Epoch 84/100\n",
      " - 21s - loss: 0.3227 - accuracy: 0.8832 - val_loss: 0.6007 - val_accuracy: 0.8112\n",
      "Epoch 85/100\n",
      " - 22s - loss: 0.3200 - accuracy: 0.8840 - val_loss: 0.6053 - val_accuracy: 0.8091\n"
     ]
    },
    {
     "name": "stdout",
     "output_type": "stream",
     "text": [
      "Epoch 86/100\n",
      " - 22s - loss: 0.3090 - accuracy: 0.8892 - val_loss: 0.6101 - val_accuracy: 0.8126\n",
      "Epoch 87/100\n",
      " - 23s - loss: 0.3152 - accuracy: 0.8854 - val_loss: 0.6039 - val_accuracy: 0.8126\n",
      "Epoch 88/100\n",
      " - 21s - loss: 0.3040 - accuracy: 0.8891 - val_loss: 0.6204 - val_accuracy: 0.8123\n",
      "Epoch 89/100\n",
      " - 21s - loss: 0.3004 - accuracy: 0.8927 - val_loss: 0.6183 - val_accuracy: 0.8095\n",
      "Epoch 90/100\n",
      " - 20s - loss: 0.2952 - accuracy: 0.8923 - val_loss: 0.6184 - val_accuracy: 0.8076\n",
      "Epoch 91/100\n",
      " - 21s - loss: 0.2920 - accuracy: 0.8947 - val_loss: 0.5964 - val_accuracy: 0.8149\n",
      "Epoch 92/100\n",
      " - 21s - loss: 0.2824 - accuracy: 0.8982 - val_loss: 0.6131 - val_accuracy: 0.8167\n",
      "Epoch 93/100\n",
      " - 21s - loss: 0.2847 - accuracy: 0.8985 - val_loss: 0.6149 - val_accuracy: 0.8128\n",
      "Epoch 94/100\n",
      " - 21s - loss: 0.2827 - accuracy: 0.8991 - val_loss: 0.6084 - val_accuracy: 0.8153\n",
      "Epoch 95/100\n",
      " - 20s - loss: 0.2818 - accuracy: 0.8970 - val_loss: 0.6220 - val_accuracy: 0.8131\n",
      "Epoch 96/100\n",
      " - 20s - loss: 0.2717 - accuracy: 0.9008 - val_loss: 0.6294 - val_accuracy: 0.8159\n",
      "Epoch 97/100\n",
      " - 21s - loss: 0.2703 - accuracy: 0.9026 - val_loss: 0.6452 - val_accuracy: 0.8088\n",
      "Epoch 98/100\n",
      " - 20s - loss: 0.2648 - accuracy: 0.9051 - val_loss: 0.6239 - val_accuracy: 0.8135\n",
      "Epoch 99/100\n",
      " - 21s - loss: 0.2625 - accuracy: 0.9063 - val_loss: 0.6183 - val_accuracy: 0.8146\n",
      "Epoch 100/100\n",
      " - 18s - loss: 0.2553 - accuracy: 0.9063 - val_loss: 0.6421 - val_accuracy: 0.8124\n"
     ]
    }
   ],
   "source": [
    "model2=base_model2()\n",
    "history=model2.fit(trainX2,trainY2,epochs=100,batch_size=64,validation_data=(testX2,testY2),verbose=2)"
   ]
  },
  {
   "cell_type": "code",
   "execution_count": 24,
   "metadata": {},
   "outputs": [
    {
     "name": "stdout",
     "output_type": "stream",
     "text": [
      "81.01999759674072\n"
     ]
    }
   ],
   "source": [
    "_,acc=model2.evaluate(testX1,testY1,verbose=0)\n",
    "print(acc*100)"
   ]
  },
  {
   "cell_type": "code",
   "execution_count": 32,
   "metadata": {},
   "outputs": [],
   "source": [
    "model2.save('final_model.h5')"
   ]
  },
  {
   "cell_type": "code",
   "execution_count": 12,
   "metadata": {},
   "outputs": [
    {
     "name": "stdout",
     "output_type": "stream",
     "text": [
      "WARNING:tensorflow:From C:\\ProgramData\\Anaconda3\\envs\\py35\\lib\\site-packages\\tensorflow\\python\\ops\\resource_variable_ops.py:435: colocate_with (from tensorflow.python.framework.ops) is deprecated and will be removed in a future version.\n",
      "Instructions for updating:\n",
      "Colocations handled automatically by placer.\n",
      "WARNING:tensorflow:From C:\\ProgramData\\Anaconda3\\envs\\py35\\lib\\site-packages\\tensorflow\\python\\ops\\math_ops.py:3066: to_int32 (from tensorflow.python.ops.math_ops) is deprecated and will be removed in a future version.\n",
      "Instructions for updating:\n",
      "Use tf.cast instead.\n"
     ]
    }
   ],
   "source": [
    "from keras.models import load_model    \n",
    "model_fin = load_model('final_model.h5')"
   ]
  },
  {
   "cell_type": "code",
   "execution_count": 13,
   "metadata": {},
   "outputs": [
    {
     "name": "stdout",
     "output_type": "stream",
     "text": [
      "> 81.020\n"
     ]
    }
   ],
   "source": [
    "_, acc = model_fin.evaluate(testX1, testY1, verbose=0)\n",
    "print('> %.3f' % (acc * 100.0))"
   ]
  },
  {
   "cell_type": "code",
   "execution_count": 15,
   "metadata": {},
   "outputs": [],
   "source": [
    "from keras.preprocessing.image import load_img\n",
    "from keras.preprocessing.image import img_to_array\n",
    "from sklearn.preprocessing import LabelEncoder\n",
    "img=load_img('sample_image.png',target_size=(32,32))\n",
    "img=img_to_array(img)\n",
    "img=img.reshape(1,32,32,3)\n",
    "img=img.astype('float32')\n",
    "img=img/255.0\n"
   ]
  },
  {
   "cell_type": "code",
   "execution_count": 16,
   "metadata": {},
   "outputs": [],
   "source": [
    "result = model_fin.predict_classes(img)"
   ]
  },
  {
   "cell_type": "code",
   "execution_count": 17,
   "metadata": {},
   "outputs": [
    {
     "data": {
      "text/plain": [
       "array([4], dtype=int64)"
      ]
     },
     "execution_count": 17,
     "metadata": {},
     "output_type": "execute_result"
    }
   ],
   "source": [
    "result"
   ]
  },
  {
   "cell_type": "code",
   "execution_count": 2,
   "metadata": {},
   "outputs": [
    {
     "ename": "NameError",
     "evalue": "name 'testX' is not defined",
     "output_type": "error",
     "traceback": [
      "\u001b[1;31m---------------------------------------------------------------------------\u001b[0m",
      "\u001b[1;31mNameError\u001b[0m                                 Traceback (most recent call last)",
      "\u001b[1;32m<ipython-input-2-6dbe3bede4bb>\u001b[0m in \u001b[0;36m<module>\u001b[1;34m\u001b[0m\n\u001b[0;32m      1\u001b[0m \u001b[0mplt\u001b[0m\u001b[1;33m.\u001b[0m\u001b[0msubplot\u001b[0m\u001b[1;33m(\u001b[0m\u001b[1;36m221\u001b[0m\u001b[1;33m)\u001b[0m\u001b[1;33m\u001b[0m\u001b[0m\n\u001b[1;32m----> 2\u001b[1;33m \u001b[0mplt\u001b[0m\u001b[1;33m.\u001b[0m\u001b[0mimshow\u001b[0m\u001b[1;33m(\u001b[0m\u001b[0mtestX\u001b[0m\u001b[1;33m[\u001b[0m\u001b[1;36m0\u001b[0m\u001b[1;33m]\u001b[0m\u001b[1;33m,\u001b[0m\u001b[0mcmap\u001b[0m\u001b[1;33m=\u001b[0m\u001b[0mplt\u001b[0m\u001b[1;33m.\u001b[0m\u001b[0mget_cmap\u001b[0m\u001b[1;33m(\u001b[0m\u001b[1;34m'gray'\u001b[0m\u001b[1;33m)\u001b[0m\u001b[1;33m)\u001b[0m\u001b[1;33m\u001b[0m\u001b[0m\n\u001b[0m\u001b[0;32m      3\u001b[0m \u001b[0mplt\u001b[0m\u001b[1;33m.\u001b[0m\u001b[0msubplot\u001b[0m\u001b[1;33m(\u001b[0m\u001b[1;36m222\u001b[0m\u001b[1;33m)\u001b[0m\u001b[1;33m\u001b[0m\u001b[0m\n\u001b[0;32m      4\u001b[0m \u001b[0mplt\u001b[0m\u001b[1;33m.\u001b[0m\u001b[0mimshow\u001b[0m\u001b[1;33m(\u001b[0m\u001b[0mtestX\u001b[0m\u001b[1;33m[\u001b[0m\u001b[1;36m1\u001b[0m\u001b[1;33m]\u001b[0m\u001b[1;33m,\u001b[0m\u001b[0mcmap\u001b[0m\u001b[1;33m=\u001b[0m\u001b[0mplt\u001b[0m\u001b[1;33m.\u001b[0m\u001b[0mget_cmap\u001b[0m\u001b[1;33m(\u001b[0m\u001b[1;34m'gray'\u001b[0m\u001b[1;33m)\u001b[0m\u001b[1;33m)\u001b[0m\u001b[1;33m\u001b[0m\u001b[0m\n\u001b[0;32m      5\u001b[0m \u001b[0mplt\u001b[0m\u001b[1;33m.\u001b[0m\u001b[0msubplot\u001b[0m\u001b[1;33m(\u001b[0m\u001b[1;36m223\u001b[0m\u001b[1;33m)\u001b[0m\u001b[1;33m\u001b[0m\u001b[0m\n",
      "\u001b[1;31mNameError\u001b[0m: name 'testX' is not defined"
     ]
    },
    {
     "data": {
      "image/png": "[encoded data removed]",
      "text/plain": [
       "<Figure size 432x288 with 1 Axes>"
      ]
     },
     "metadata": {
      "needs_background": "light"
     },
     "output_type": "display_data"
    }
   ],
   "source": [
    "plt.subplot(221)\n",
    "plt.imshow(testX[0],cmap=plt.get_cmap('gray'))\n",
    "plt.subplot(222)\n",
    "plt.imshow(testX[1],cmap=plt.get_cmap('gray'))\n",
    "plt.subplot(223)\n",
    "plt.imshow(testX[2],cmap=plt.get_cmap('gray'))\n",
    "plt.subplot(224)\n",
    "plt.imshow(testX[3],cmap=plt.get_cmap('gray'))\n",
    "plt.show()"
   ]
  },
  {
   "cell_type": "code",
   "execution_count": 20,
   "metadata": {},
   "outputs": [
    {
     "data": {
      "text/plain": [
       "(array([3]), array([8]), array([8]), array([0]))"
      ]
     },
     "execution_count": 20,
     "metadata": {},
     "output_type": "execute_result"
    }
   ],
   "source": [
    "testY[0],testY[1],testY[2],testY[3]"
   ]
  },
  {
   "cell_type": "code",
   "execution_count": 21,
   "metadata": {},
   "outputs": [],
   "source": [
    "y_pred=model_fin.predict_classes(testX)"
   ]
  },
  {
   "cell_type": "code",
   "execution_count": 23,
   "metadata": {},
   "outputs": [
    {
     "data": {
      "text/plain": [
       "(3, 8, 8, 0)"
      ]
     },
     "execution_count": 23,
     "metadata": {},
     "output_type": "execute_result"
    }
   ],
   "source": [
    "y_pred[0],y_pred[1],y_pred[2],y_pred[3]"
   ]
  },
  {
   "cell_type": "code",
   "execution_count": 35,
   "metadata": {},
   "outputs": [
    {
     "data": {
      "text/plain": [
       "array([3, 8, 8, ..., 5, 1, 7], dtype=int64)"
      ]
     },
     "execution_count": 35,
     "metadata": {},
     "output_type": "execute_result"
    }
   ],
   "source": []
  },
  {
   "cell_type": "code",
   "execution_count": 42,
   "metadata": {},
   "outputs": [],
   "source": [
    "match=['airplane', 'automobile', 'bird', 'cat', 'deer', 'dog', 'frog', 'horse', 'ship', 'truck']\n",
    "val_list = list()\n",
    "for val in y_pred:\n",
    "    val_list.append(match[val])"
   ]
  },
  {
   "cell_type": "code",
   "execution_count": 48,
   "metadata": {},
   "outputs": [
    {
     "data": {
      "text/plain": [
       "'ship'"
      ]
     },
     "execution_count": 48,
     "metadata": {},
     "output_type": "execute_result"
    }
   ],
   "source": [
    "val_list[2]"
   ]
  },
  {
   "cell_type": "code",
   "execution_count": 38,
   "metadata": {},
   "outputs": [
    {
     "data": {
      "text/plain": [
       "'airplane'"
      ]
     },
     "execution_count": 38,
     "metadata": {},
     "output_type": "execute_result"
    }
   ],
   "source": [
    "match[0]"
   ]
  }
 ],
 "metadata": {
  "kernelspec": {
   "display_name": "py35",
   "language": "python",
   "name": "py35"
  },
  "language_info": {
   "codemirror_mode": {
    "name": "ipython",
    "version": 3
   },
   "file_extension": ".py",
   "mimetype": "text/x-python",
   "name": "python",
   "nbconvert_exporter": "python",
   "pygments_lexer": "ipython3",
   "version": "3.5.6"
  }
 },
 "nbformat": 4,
 "nbformat_minor": 2
}
