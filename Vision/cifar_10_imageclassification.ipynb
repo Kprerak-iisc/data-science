{
  "nbformat": 4,
  "nbformat_minor": 0,
  "metadata": {
    "kernelspec": {
      "display_name": "py35",
      "language": "python",
      "name": "py35"
    },
    "language_info": {
      "codemirror_mode": {
        "name": "ipython",
        "version": 3
      },
      "file_extension": ".py",
      "mimetype": "text/x-python",
      "name": "python",
      "nbconvert_exporter": "python",
      "pygments_lexer": "ipython3",
      "version": "3.5.6"
    },
    "colab": {
      "name": "cifar_10.ipynb",
      "provenance": [],
      "include_colab_link": true
    }
  },
  "cells": [
    {
      "cell_type": "markdown",
      "metadata": {
        "id": "view-in-github",
        "colab_type": "text"
      },
      "source": [
        "<a href=\"https://colab.research.google.com/github/Kprerak-iisc/data-science/blob/master/cifar_10_imageclassification.ipynb\" target=\"_parent\"><img src=\"https://colab.research.google.com/assets/colab-badge.svg\" alt=\"Open In Colab\"/></a>"
      ]
    },
    {
      "cell_type": "code",
      "metadata": {
        "id": "b7-IiuEigmm6",
        "colab_type": "code",
        "colab": {},
        "outputId": "312baed6-78ca-476d-98e6-bb9702dbdceb"
      },
      "source": [
        "import numpy as np\n",
        "from keras.datasets import cifar10\n",
        "from keras.layers import Dense\n",
        "from keras.layers import Dropout\n",
        "from keras.models import Sequential\n",
        "from keras.layers import Flatten\n",
        "from matplotlib import pyplot as plt\n",
        "import sys\n",
        "from keras.layers import Conv2D\n",
        "from keras.layers import MaxPooling2D\n",
        "from keras.utils import to_categorical\n"
      ],
      "execution_count": null,
      "outputs": [
        {
          "output_type": "stream",
          "text": [
            "Using TensorFlow backend.\n",
            "C:\\ProgramData\\Anaconda3\\envs\\py35\\lib\\site-packages\\tensorflow\\python\\framework\\dtypes.py:526: FutureWarning: Passing (type, 1) or '1type' as a synonym of type is deprecated; in a future version of numpy, it will be understood as (type, (1,)) / '(1,)type'.\n",
            "  _np_qint8 = np.dtype([(\"qint8\", np.int8, 1)])\n",
            "C:\\ProgramData\\Anaconda3\\envs\\py35\\lib\\site-packages\\tensorflow\\python\\framework\\dtypes.py:527: FutureWarning: Passing (type, 1) or '1type' as a synonym of type is deprecated; in a future version of numpy, it will be understood as (type, (1,)) / '(1,)type'.\n",
            "  _np_quint8 = np.dtype([(\"quint8\", np.uint8, 1)])\n",
            "C:\\ProgramData\\Anaconda3\\envs\\py35\\lib\\site-packages\\tensorflow\\python\\framework\\dtypes.py:528: FutureWarning: Passing (type, 1) or '1type' as a synonym of type is deprecated; in a future version of numpy, it will be understood as (type, (1,)) / '(1,)type'.\n",
            "  _np_qint16 = np.dtype([(\"qint16\", np.int16, 1)])\n",
            "C:\\ProgramData\\Anaconda3\\envs\\py35\\lib\\site-packages\\tensorflow\\python\\framework\\dtypes.py:529: FutureWarning: Passing (type, 1) or '1type' as a synonym of type is deprecated; in a future version of numpy, it will be understood as (type, (1,)) / '(1,)type'.\n",
            "  _np_quint16 = np.dtype([(\"quint16\", np.uint16, 1)])\n",
            "C:\\ProgramData\\Anaconda3\\envs\\py35\\lib\\site-packages\\tensorflow\\python\\framework\\dtypes.py:530: FutureWarning: Passing (type, 1) or '1type' as a synonym of type is deprecated; in a future version of numpy, it will be understood as (type, (1,)) / '(1,)type'.\n",
            "  _np_qint32 = np.dtype([(\"qint32\", np.int32, 1)])\n",
            "C:\\ProgramData\\Anaconda3\\envs\\py35\\lib\\site-packages\\tensorflow\\python\\framework\\dtypes.py:535: FutureWarning: Passing (type, 1) or '1type' as a synonym of type is deprecated; in a future version of numpy, it will be understood as (type, (1,)) / '(1,)type'.\n",
            "  np_resource = np.dtype([(\"resource\", np.ubyte, 1)])\n"
          ],
          "name": "stderr"
        }
      ]
    },
    {
      "cell_type": "code",
      "metadata": {
        "id": "wegNtm3UgmnE",
        "colab_type": "code",
        "colab": {},
        "outputId": "65826c67-3fcd-4695-db52-3d64988f8985"
      },
      "source": [
        "import tensorflow as tf\n",
        "tf.__version__"
      ],
      "execution_count": null,
      "outputs": [
        {
          "output_type": "execute_result",
          "data": {
            "text/plain": [
              "'1.13.1'"
            ]
          },
          "metadata": {
            "tags": []
          },
          "execution_count": 2
        }
      ]
    },
    {
      "cell_type": "code",
      "metadata": {
        "id": "ha-TR4AogmnG",
        "colab_type": "code",
        "colab": {},
        "outputId": "e1e37af5-a87a-4baa-e450-47c3072522f1"
      },
      "source": [
        "from tensorflow.python.client import device_lib\n",
        "print(device_lib.list_local_devices())"
      ],
      "execution_count": null,
      "outputs": [
        {
          "output_type": "stream",
          "text": [
            "[name: \"/device:CPU:0\"\n",
            "device_type: \"CPU\"\n",
            "memory_limit: 268435456\n",
            "locality {\n",
            "}\n",
            "incarnation: 7945860764310198892\n",
            ", name: \"/device:GPU:0\"\n",
            "device_type: \"GPU\"\n",
            "memory_limit: 4864514457\n",
            "locality {\n",
            "  bus_id: 1\n",
            "  links {\n",
            "  }\n",
            "}\n",
            "incarnation: 11094957296601496385\n",
            "physical_device_desc: \"device: 0, name: GeForce GTX 1660 Ti, pci bus id: 0000:01:00.0, compute capability: 7.5\"\n",
            "]\n"
          ],
          "name": "stdout"
        }
      ]
    },
    {
      "cell_type": "code",
      "metadata": {
        "id": "N_7zM7BTgmnJ",
        "colab_type": "code",
        "colab": {}
      },
      "source": [
        "import keras.optimizers as op\n",
        "from sklearn.model_selection import train_test_split"
      ],
      "execution_count": null,
      "outputs": []
    },
    {
      "cell_type": "code",
      "metadata": {
        "id": "KtCGwGkigmnP",
        "colab_type": "code",
        "colab": {}
      },
      "source": [
        "(trainX, trainY), (testX, testY) = cifar10.load_data()"
      ],
      "execution_count": null,
      "outputs": []
    },
    {
      "cell_type": "code",
      "metadata": {
        "id": "xupyaUGugmnV",
        "colab_type": "code",
        "colab": {}
      },
      "source": [
        "trainY1=to_categorical(trainY)\n",
        "testY1=to_categorical(testY)\n"
      ],
      "execution_count": null,
      "outputs": []
    },
    {
      "cell_type": "code",
      "metadata": {
        "id": "XLaoO5TAgmna",
        "colab_type": "code",
        "colab": {},
        "outputId": "f804638e-95c1-462d-a069-b647a5afd6fa"
      },
      "source": [
        "plt.subplot(221)\n",
        "plt.imshow(trainX[0],cmap=plt.get_cmap('gray'))\n",
        "plt.subplot(222)\n",
        "plt.imshow(trainX[1],cmap=plt.get_cmap('gray'))\n",
        "plt.subplot(223)\n",
        "plt.imshow(trainX[2],cmap=plt.get_cmap('gray'))\n",
        "plt.subplot(224)\n",
        "plt.imshow(trainX[3],cmap=plt.get_cmap('gray'))\n",
        "plt.show()"
      ],
      "execution_count": null,
      "outputs": [
        {
          "output_type": "display_data",
          "data": {
            "image/png": "[encoded data removed]",
            "text/plain": [
              "<Figure size 432x288 with 4 Axes>"
            ]
          },
          "metadata": {
            "tags": [],
            "needs_background": "light"
          }
        }
      ]
    },
    {
      "cell_type": "code",
      "metadata": {
        "id": "jhilajpKgmnh",
        "colab_type": "code",
        "colab": {},
        "outputId": "4aff63db-f839-4531-eda3-2dab0ee7d039"
      },
      "source": [
        "trainX1= trainX.astype('float32')\n",
        "testX1 = testX.astype('float32')\n",
        "trainX1 = trainX1 / 255.0\n",
        "testX1 = testX1 / 255.0\n",
        "trainX1.shape, testX1.shape"
      ],
      "execution_count": null,
      "outputs": [
        {
          "output_type": "execute_result",
          "data": {
            "text/plain": [
              "((50000, 32, 32, 3), (10000, 32, 32, 3))"
            ]
          },
          "metadata": {
            "tags": []
          },
          "execution_count": 8
        }
      ]
    },
    {
      "cell_type": "code",
      "metadata": {
        "id": "pcQ48UFygmnn",
        "colab_type": "code",
        "colab": {}
      },
      "source": [
        "def base_model1():\n",
        "    model=Sequential()\n",
        "    model.add(Conv2D(32,(3,3),activation='relu',kernel_initializer='he_uniform',padding='same',input_shape=(32,32,3)))\n",
        "    model.add(Conv2D(32,(3,3),activation='relu',kernel_initializer='he_uniform',padding='same'))\n",
        "    model.add(MaxPooling2D((2,2)))\n",
        "    model.add(Flatten())\n",
        "    model.add(Dense(128,activation='relu',kernel_initializer='he_uniform'))\n",
        "    model.add(Dense(10,activation='softmax'))\n",
        "    opti=op.SGD(lr=0.001,momentum=0.9)\n",
        "    model.compile(optimizer=opti,loss='categorical_crossentropy',metrics=['accuracy'])\n",
        "    return model"
      ],
      "execution_count": null,
      "outputs": []
    },
    {
      "cell_type": "code",
      "metadata": {
        "id": "D8jT59W_gmns",
        "colab_type": "code",
        "colab": {}
      },
      "source": [
        "trainX2,testX2,trainY2,testY2=train_test_split(trainX1,trainY1,test_size=0.3,random_state=42)"
      ],
      "execution_count": null,
      "outputs": []
    },
    {
      "cell_type": "code",
      "metadata": {
        "id": "gq3wRrltgmnx",
        "colab_type": "code",
        "colab": {},
        "outputId": "9dc02406-4f4e-4eb4-84a9-9383b3756a84"
      },
      "source": [
        "trainX2.shape,testX2.shape,trainY2.shape,testY2.shape\n"
      ],
      "execution_count": null,
      "outputs": [
        {
          "output_type": "execute_result",
          "data": {
            "text/plain": [
              "((35000, 32, 32, 3), (15000, 32, 32, 3), (35000, 10), (15000, 10))"
            ]
          },
          "metadata": {
            "tags": []
          },
          "execution_count": 11
        }
      ]
    },
    {
      "cell_type": "code",
      "metadata": {
        "id": "SLbX2CQDgmn2",
        "colab_type": "code",
        "colab": {},
        "outputId": "09df95fd-bde5-40f0-f383-200c884926b9"
      },
      "source": [
        "model=base_model1()\n",
        "history=model.fit(trainX2,trainY2,epochs=100,batch_size=64,validation_data=(testX2,testY2),verbose=2)\n"
      ],
      "execution_count": null,
      "outputs": [
        {
          "output_type": "stream",
          "text": [
            "WARNING:tensorflow:From C:\\ProgramData\\Anaconda3\\envs\\py35\\lib\\site-packages\\tensorflow\\python\\ops\\resource_variable_ops.py:435: colocate_with (from tensorflow.python.framework.ops) is deprecated and will be removed in a future version.\n",
            "Instructions for updating:\n",
            "Colocations handled automatically by placer.\n",
            "WARNING:tensorflow:From C:\\ProgramData\\Anaconda3\\envs\\py35\\lib\\site-packages\\tensorflow\\python\\ops\\math_ops.py:3066: to_int32 (from tensorflow.python.ops.math_ops) is deprecated and will be removed in a future version.\n",
            "Instructions for updating:\n",
            "Use tf.cast instead.\n",
            "Train on 35000 samples, validate on 15000 samples\n",
            "Epoch 1/100\n",
            " - 5s - loss: 1.9009 - accuracy: 0.3225 - val_loss: 1.6502 - val_accuracy: 0.4137\n",
            "Epoch 2/100\n",
            " - 4s - loss: 1.5531 - accuracy: 0.4481 - val_loss: 1.4742 - val_accuracy: 0.4781\n",
            "Epoch 3/100\n",
            " - 4s - loss: 1.4007 - accuracy: 0.5041 - val_loss: 1.3301 - val_accuracy: 0.5215\n",
            "Epoch 4/100\n",
            " - 4s - loss: 1.2977 - accuracy: 0.5395 - val_loss: 1.2780 - val_accuracy: 0.5465\n",
            "Epoch 5/100\n",
            " - 4s - loss: 1.2166 - accuracy: 0.5721 - val_loss: 1.2125 - val_accuracy: 0.5727\n",
            "Epoch 6/100\n",
            " - 4s - loss: 1.1507 - accuracy: 0.5950 - val_loss: 1.1685 - val_accuracy: 0.5912\n",
            "Epoch 7/100\n",
            " - 4s - loss: 1.0872 - accuracy: 0.6184 - val_loss: 1.1249 - val_accuracy: 0.6069\n",
            "Epoch 8/100\n",
            " - 4s - loss: 1.0331 - accuracy: 0.6381 - val_loss: 1.0993 - val_accuracy: 0.6182\n",
            "Epoch 9/100\n",
            " - 4s - loss: 0.9779 - accuracy: 0.6592 - val_loss: 1.1150 - val_accuracy: 0.6080\n",
            "Epoch 10/100\n",
            " - 4s - loss: 0.9319 - accuracy: 0.6767 - val_loss: 1.0852 - val_accuracy: 0.6208\n",
            "Epoch 11/100\n",
            " - 4s - loss: 0.8836 - accuracy: 0.6923 - val_loss: 1.0623 - val_accuracy: 0.6302\n",
            "Epoch 12/100\n",
            " - 4s - loss: 0.8427 - accuracy: 0.7093 - val_loss: 1.0241 - val_accuracy: 0.6483\n",
            "Epoch 13/100\n",
            " - 4s - loss: 0.7963 - accuracy: 0.7248 - val_loss: 1.0441 - val_accuracy: 0.6399\n",
            "Epoch 14/100\n",
            " - 4s - loss: 0.7505 - accuracy: 0.7428 - val_loss: 1.0341 - val_accuracy: 0.6430\n",
            "Epoch 15/100\n",
            " - 4s - loss: 0.7044 - accuracy: 0.7589 - val_loss: 1.0384 - val_accuracy: 0.6449\n",
            "Epoch 16/100\n",
            " - 4s - loss: 0.6598 - accuracy: 0.7726 - val_loss: 1.0592 - val_accuracy: 0.6474\n",
            "Epoch 17/100\n",
            " - 4s - loss: 0.6214 - accuracy: 0.7896 - val_loss: 1.0865 - val_accuracy: 0.6448\n",
            "Epoch 18/100\n",
            " - 4s - loss: 0.5723 - accuracy: 0.8100 - val_loss: 1.0424 - val_accuracy: 0.6605\n",
            "Epoch 19/100\n",
            " - 4s - loss: 0.5346 - accuracy: 0.8178 - val_loss: 1.0944 - val_accuracy: 0.6467\n",
            "Epoch 20/100\n",
            " - 4s - loss: 0.4868 - accuracy: 0.8376 - val_loss: 1.1019 - val_accuracy: 0.6505\n",
            "Epoch 21/100\n",
            " - 4s - loss: 0.4475 - accuracy: 0.8533 - val_loss: 1.1580 - val_accuracy: 0.6463\n",
            "Epoch 22/100\n",
            " - 4s - loss: 0.4079 - accuracy: 0.8669 - val_loss: 1.1270 - val_accuracy: 0.6611\n",
            "Epoch 23/100\n",
            " - 4s - loss: 0.3659 - accuracy: 0.8819 - val_loss: 1.1821 - val_accuracy: 0.6562\n",
            "Epoch 24/100\n",
            " - 4s - loss: 0.3227 - accuracy: 0.8989 - val_loss: 1.2330 - val_accuracy: 0.6528\n",
            "Epoch 25/100\n",
            " - 4s - loss: 0.2859 - accuracy: 0.9114 - val_loss: 1.2785 - val_accuracy: 0.6484\n",
            "Epoch 26/100\n",
            " - 4s - loss: 0.2475 - accuracy: 0.9261 - val_loss: 1.3274 - val_accuracy: 0.6451\n",
            "Epoch 27/100\n",
            " - 4s - loss: 0.2165 - accuracy: 0.9373 - val_loss: 1.4045 - val_accuracy: 0.6357\n",
            "Epoch 28/100\n",
            " - 4s - loss: 0.1924 - accuracy: 0.9461 - val_loss: 1.4082 - val_accuracy: 0.6493\n",
            "Epoch 29/100\n",
            " - 4s - loss: 0.1552 - accuracy: 0.9601 - val_loss: 1.4851 - val_accuracy: 0.6454\n",
            "Epoch 30/100\n",
            " - 4s - loss: 0.1320 - accuracy: 0.9680 - val_loss: 1.5195 - val_accuracy: 0.6473\n",
            "Epoch 31/100\n",
            " - 4s - loss: 0.1085 - accuracy: 0.9763 - val_loss: 1.5648 - val_accuracy: 0.6469\n",
            "Epoch 32/100\n",
            " - 4s - loss: 0.0896 - accuracy: 0.9817 - val_loss: 1.6122 - val_accuracy: 0.6441\n",
            "Epoch 33/100\n",
            " - 4s - loss: 0.0756 - accuracy: 0.9862 - val_loss: 1.6676 - val_accuracy: 0.6469\n",
            "Epoch 34/100\n",
            " - 4s - loss: 0.0584 - accuracy: 0.9919 - val_loss: 1.7305 - val_accuracy: 0.6433\n",
            "Epoch 35/100\n",
            " - 4s - loss: 0.0440 - accuracy: 0.9955 - val_loss: 1.7735 - val_accuracy: 0.6469\n",
            "Epoch 36/100\n",
            " - 4s - loss: 0.0362 - accuracy: 0.9969 - val_loss: 1.8083 - val_accuracy: 0.6521\n",
            "Epoch 37/100\n",
            " - 4s - loss: 0.0302 - accuracy: 0.9981 - val_loss: 1.8657 - val_accuracy: 0.6449\n",
            "Epoch 38/100\n",
            " - 4s - loss: 0.0255 - accuracy: 0.9986 - val_loss: 1.9028 - val_accuracy: 0.6448\n",
            "Epoch 39/100\n",
            " - 4s - loss: 0.0200 - accuracy: 0.9990 - val_loss: 1.9414 - val_accuracy: 0.6442\n",
            "Epoch 40/100\n",
            " - 4s - loss: 0.0172 - accuracy: 0.9990 - val_loss: 1.9732 - val_accuracy: 0.6439\n",
            "Epoch 41/100\n",
            " - 4s - loss: 0.0145 - accuracy: 0.9996 - val_loss: 2.0004 - val_accuracy: 0.6441\n",
            "Epoch 42/100\n",
            " - 4s - loss: 0.0127 - accuracy: 0.9996 - val_loss: 2.0169 - val_accuracy: 0.6483\n",
            "Epoch 43/100\n",
            " - 4s - loss: 0.0112 - accuracy: 0.9997 - val_loss: 2.0652 - val_accuracy: 0.6441\n",
            "Epoch 44/100\n",
            " - 4s - loss: 0.0101 - accuracy: 0.9998 - val_loss: 2.0662 - val_accuracy: 0.6475\n",
            "Epoch 45/100\n",
            " - 4s - loss: 0.0087 - accuracy: 0.9999 - val_loss: 2.0969 - val_accuracy: 0.6469\n",
            "Epoch 46/100\n",
            " - 4s - loss: 0.0081 - accuracy: 0.9998 - val_loss: 2.1119 - val_accuracy: 0.6476\n",
            "Epoch 47/100\n",
            " - 5s - loss: 0.0073 - accuracy: 0.9999 - val_loss: 2.1449 - val_accuracy: 0.6449\n",
            "Epoch 48/100\n",
            " - 4s - loss: 0.0068 - accuracy: 1.0000 - val_loss: 2.1529 - val_accuracy: 0.6470\n",
            "Epoch 49/100\n",
            " - 4s - loss: 0.0062 - accuracy: 1.0000 - val_loss: 2.1718 - val_accuracy: 0.6463\n",
            "Epoch 50/100\n",
            " - 4s - loss: 0.0057 - accuracy: 1.0000 - val_loss: 2.1865 - val_accuracy: 0.6465\n",
            "Epoch 51/100\n",
            " - 4s - loss: 0.0054 - accuracy: 0.9999 - val_loss: 2.2019 - val_accuracy: 0.6479\n",
            "Epoch 52/100\n",
            " - 4s - loss: 0.0050 - accuracy: 1.0000 - val_loss: 2.2130 - val_accuracy: 0.6457\n",
            "Epoch 53/100\n",
            " - 4s - loss: 0.0046 - accuracy: 1.0000 - val_loss: 2.2265 - val_accuracy: 0.6461\n",
            "Epoch 54/100\n",
            " - 4s - loss: 0.0044 - accuracy: 1.0000 - val_loss: 2.2453 - val_accuracy: 0.6469\n",
            "Epoch 55/100\n",
            " - 4s - loss: 0.0042 - accuracy: 1.0000 - val_loss: 2.2547 - val_accuracy: 0.6465\n",
            "Epoch 56/100\n",
            " - 4s - loss: 0.0040 - accuracy: 1.0000 - val_loss: 2.2675 - val_accuracy: 0.6455\n",
            "Epoch 57/100\n",
            " - 4s - loss: 0.0039 - accuracy: 1.0000 - val_loss: 2.2797 - val_accuracy: 0.6455\n",
            "Epoch 58/100\n",
            " - 4s - loss: 0.0036 - accuracy: 1.0000 - val_loss: 2.2916 - val_accuracy: 0.6469\n",
            "Epoch 59/100\n",
            " - 4s - loss: 0.0034 - accuracy: 1.0000 - val_loss: 2.2992 - val_accuracy: 0.6465\n",
            "Epoch 60/100\n",
            " - 4s - loss: 0.0034 - accuracy: 1.0000 - val_loss: 2.3110 - val_accuracy: 0.6466\n",
            "Epoch 61/100\n",
            " - 4s - loss: 0.0031 - accuracy: 1.0000 - val_loss: 2.3214 - val_accuracy: 0.6462\n",
            "Epoch 62/100\n",
            " - 4s - loss: 0.0030 - accuracy: 1.0000 - val_loss: 2.3315 - val_accuracy: 0.6469\n",
            "Epoch 63/100\n",
            " - 4s - loss: 0.0029 - accuracy: 1.0000 - val_loss: 2.3360 - val_accuracy: 0.6465\n",
            "Epoch 64/100\n",
            " - 4s - loss: 0.0027 - accuracy: 1.0000 - val_loss: 2.3464 - val_accuracy: 0.6465\n",
            "Epoch 65/100\n",
            " - 4s - loss: 0.0027 - accuracy: 1.0000 - val_loss: 2.3572 - val_accuracy: 0.6462\n",
            "Epoch 66/100\n",
            " - 4s - loss: 0.0025 - accuracy: 1.0000 - val_loss: 2.3652 - val_accuracy: 0.6458\n",
            "Epoch 67/100\n",
            " - 4s - loss: 0.0025 - accuracy: 1.0000 - val_loss: 2.3731 - val_accuracy: 0.6447\n",
            "Epoch 68/100\n",
            " - 4s - loss: 0.0024 - accuracy: 1.0000 - val_loss: 2.3846 - val_accuracy: 0.6468\n",
            "Epoch 69/100\n",
            " - 4s - loss: 0.0023 - accuracy: 1.0000 - val_loss: 2.3908 - val_accuracy: 0.6456\n",
            "Epoch 70/100\n",
            " - 4s - loss: 0.0022 - accuracy: 1.0000 - val_loss: 2.3970 - val_accuracy: 0.6454\n",
            "Epoch 71/100\n",
            " - 4s - loss: 0.0022 - accuracy: 1.0000 - val_loss: 2.4063 - val_accuracy: 0.6446\n",
            "Epoch 72/100\n",
            " - 4s - loss: 0.0021 - accuracy: 1.0000 - val_loss: 2.4130 - val_accuracy: 0.6457\n",
            "Epoch 73/100\n",
            " - 4s - loss: 0.0020 - accuracy: 1.0000 - val_loss: 2.4194 - val_accuracy: 0.6455\n",
            "Epoch 74/100\n",
            " - 4s - loss: 0.0020 - accuracy: 1.0000 - val_loss: 2.4245 - val_accuracy: 0.6467\n",
            "Epoch 75/100\n",
            " - 4s - loss: 0.0019 - accuracy: 1.0000 - val_loss: 2.4288 - val_accuracy: 0.6454\n",
            "Epoch 76/100\n",
            " - 4s - loss: 0.0019 - accuracy: 1.0000 - val_loss: 2.4392 - val_accuracy: 0.6448\n",
            "Epoch 77/100\n",
            " - 4s - loss: 0.0018 - accuracy: 1.0000 - val_loss: 2.4448 - val_accuracy: 0.6470\n",
            "Epoch 78/100\n",
            " - 4s - loss: 0.0018 - accuracy: 1.0000 - val_loss: 2.4507 - val_accuracy: 0.6465\n",
            "Epoch 79/100\n",
            " - 4s - loss: 0.0017 - accuracy: 1.0000 - val_loss: 2.4582 - val_accuracy: 0.6449\n",
            "Epoch 80/100\n",
            " - 4s - loss: 0.0017 - accuracy: 1.0000 - val_loss: 2.4626 - val_accuracy: 0.6469\n"
          ],
          "name": "stdout"
        },
        {
          "output_type": "stream",
          "text": [
            "Epoch 81/100\n",
            " - 4s - loss: 0.0016 - accuracy: 1.0000 - val_loss: 2.4670 - val_accuracy: 0.6465\n",
            "Epoch 82/100\n",
            " - 4s - loss: 0.0016 - accuracy: 1.0000 - val_loss: 2.4740 - val_accuracy: 0.6458\n",
            "Epoch 83/100\n",
            " - 4s - loss: 0.0015 - accuracy: 1.0000 - val_loss: 2.4788 - val_accuracy: 0.6458\n",
            "Epoch 84/100\n",
            " - 4s - loss: 0.0015 - accuracy: 1.0000 - val_loss: 2.4832 - val_accuracy: 0.6461\n",
            "Epoch 85/100\n",
            " - 4s - loss: 0.0015 - accuracy: 1.0000 - val_loss: 2.4908 - val_accuracy: 0.6466\n",
            "Epoch 86/100\n",
            " - 4s - loss: 0.0014 - accuracy: 1.0000 - val_loss: 2.4930 - val_accuracy: 0.6454\n",
            "Epoch 87/100\n",
            " - 4s - loss: 0.0014 - accuracy: 1.0000 - val_loss: 2.4990 - val_accuracy: 0.6449\n",
            "Epoch 88/100\n",
            " - 4s - loss: 0.0014 - accuracy: 1.0000 - val_loss: 2.5030 - val_accuracy: 0.6453\n",
            "Epoch 89/100\n",
            " - 4s - loss: 0.0013 - accuracy: 1.0000 - val_loss: 2.5080 - val_accuracy: 0.6456\n",
            "Epoch 90/100\n",
            " - 4s - loss: 0.0013 - accuracy: 1.0000 - val_loss: 2.5136 - val_accuracy: 0.6461\n",
            "Epoch 91/100\n",
            " - 4s - loss: 0.0013 - accuracy: 1.0000 - val_loss: 2.5161 - val_accuracy: 0.6451\n",
            "Epoch 92/100\n",
            " - 4s - loss: 0.0013 - accuracy: 1.0000 - val_loss: 2.5240 - val_accuracy: 0.6458\n",
            "Epoch 93/100\n",
            " - 4s - loss: 0.0012 - accuracy: 1.0000 - val_loss: 2.5245 - val_accuracy: 0.6460\n",
            "Epoch 94/100\n",
            " - 4s - loss: 0.0012 - accuracy: 1.0000 - val_loss: 2.5324 - val_accuracy: 0.6458\n",
            "Epoch 95/100\n",
            " - 4s - loss: 0.0012 - accuracy: 1.0000 - val_loss: 2.5364 - val_accuracy: 0.6453\n",
            "Epoch 96/100\n",
            " - 4s - loss: 0.0012 - accuracy: 1.0000 - val_loss: 2.5390 - val_accuracy: 0.6457\n",
            "Epoch 97/100\n",
            " - 4s - loss: 0.0011 - accuracy: 1.0000 - val_loss: 2.5440 - val_accuracy: 0.6456\n",
            "Epoch 98/100\n",
            " - 4s - loss: 0.0011 - accuracy: 1.0000 - val_loss: 2.5490 - val_accuracy: 0.6459\n",
            "Epoch 99/100\n",
            " - 4s - loss: 0.0011 - accuracy: 1.0000 - val_loss: 2.5507 - val_accuracy: 0.6459\n",
            "Epoch 100/100\n",
            " - 4s - loss: 0.0011 - accuracy: 1.0000 - val_loss: 2.5557 - val_accuracy: 0.6452\n"
          ],
          "name": "stdout"
        }
      ]
    },
    {
      "cell_type": "code",
      "metadata": {
        "id": "O9_5lBkcgmn6",
        "colab_type": "code",
        "colab": {},
        "outputId": "05371ffb-5b6e-4391-8e86-d05876f1c35e"
      },
      "source": [
        "_,acc=model.evaluate(testX1,testY1,verbose=0)\n",
        "print(acc*100)"
      ],
      "execution_count": null,
      "outputs": [
        {
          "output_type": "stream",
          "text": [
            "63.8700008392334\n"
          ],
          "name": "stdout"
        }
      ]
    },
    {
      "cell_type": "code",
      "metadata": {
        "id": "Y3WhvkO-gmn-",
        "colab_type": "code",
        "colab": {},
        "outputId": "ea2c39e7-8bb0-4e55-ff08-88177c1818c5"
      },
      "source": [
        "plt.subplot(211)\n",
        "plt.title('Crossentropy Loss')\n",
        "plt.plot(history.history['loss'],color='blue',label='train')\n",
        "plt.plot(history.history['val_loss'],color='orange',label='test')\n",
        "plt.subplot(212)\n",
        "plt.title('Classification Accuracy')\n",
        "plt.plot(history.history['accuracy'], color='blue', label='train')\n",
        "plt.plot(history.history['val_accuracy'], color='orange', label='test')"
      ],
      "execution_count": null,
      "outputs": [
        {
          "output_type": "execute_result",
          "data": {
            "text/plain": [
              "[<matplotlib.lines.Line2D at 0x229c97834e0>]"
            ]
          },
          "metadata": {
            "tags": []
          },
          "execution_count": 15
        },
        {
          "output_type": "display_data",
          "data": {
            "image/png": "[encoded data removed]",
            "text/plain": [
              "<Figure size 432x288 with 2 Axes>"
            ]
          },
          "metadata": {
            "tags": [],
            "needs_background": "light"
          }
        }
      ]
    },
    {
      "cell_type": "code",
      "metadata": {
        "id": "fsGT-1C-gmoD",
        "colab_type": "code",
        "colab": {}
      },
      "source": [
        "def base_model2():\n",
        "    model = Sequential()\n",
        "    model.add(Conv2D(32, (3, 3), activation='relu', kernel_initializer='he_uniform', padding='same', input_shape=(32, 32, 3)))\n",
        "    model.add(Conv2D(32, (3, 3), activation='relu', kernel_initializer='he_uniform', padding='same'))\n",
        "    model.add(MaxPooling2D((2, 2)))\n",
        "    model.add(Dropout(0.2))\n",
        "    model.add(Conv2D(64, (3, 3), activation='relu', kernel_initializer='he_uniform', padding='same'))\n",
        "    model.add(Conv2D(64, (3, 3), activation='relu', kernel_initializer='he_uniform', padding='same'))\n",
        "    model.add(MaxPooling2D((2, 2)))\n",
        "    model.add(Dropout(0.2))\n",
        "    model.add(Conv2D(128, (3, 3), activation='relu', kernel_initializer='he_uniform', padding='same'))\n",
        "    model.add(Conv2D(128, (3, 3), activation='relu', kernel_initializer='he_uniform', padding='same'))\n",
        "    model.add(MaxPooling2D((2, 2)))\n",
        "    model.add(Dropout(0.2))\n",
        "    model.add(Flatten())\n",
        "    model.add(Dense(128, activation='relu', kernel_initializer='he_uniform'))\n",
        "    model.add(Dropout(0.2))\n",
        "    model.add(Dense(10, activation='softmax'))\n",
        "    # compile model\n",
        "    opti = op.SGD(lr=0.001, momentum=0.9)\n",
        "    model.compile(optimizer=opti, loss='categorical_crossentropy', metrics=['accuracy'])\n",
        "    return model"
      ],
      "execution_count": null,
      "outputs": []
    },
    {
      "cell_type": "code",
      "metadata": {
        "id": "vebM_x4QgmoH",
        "colab_type": "code",
        "colab": {},
        "outputId": "07d2a932-37b5-4dac-a2e0-1c8eb32f2cd7"
      },
      "source": [
        "model2=base_model2()\n",
        "history=model2.fit(trainX2,trainY2,epochs=100,batch_size=64,validation_data=(testX2,testY2),verbose=2)"
      ],
      "execution_count": null,
      "outputs": [
        {
          "output_type": "stream",
          "text": [
            "Train on 35000 samples, validate on 15000 samples\n",
            "Epoch 1/100\n",
            " - 21s - loss: 2.1130 - accuracy: 0.2061 - val_loss: 1.8685 - val_accuracy: 0.3415\n",
            "Epoch 2/100\n",
            " - 21s - loss: 1.8119 - accuracy: 0.3314 - val_loss: 1.6996 - val_accuracy: 0.3811\n",
            "Epoch 3/100\n",
            " - 22s - loss: 1.6622 - accuracy: 0.3880 - val_loss: 1.5610 - val_accuracy: 0.4279\n",
            "Epoch 4/100\n",
            " - 22s - loss: 1.5634 - accuracy: 0.4261 - val_loss: 1.4478 - val_accuracy: 0.4774\n",
            "Epoch 5/100\n",
            " - 22s - loss: 1.4829 - accuracy: 0.4553 - val_loss: 1.4028 - val_accuracy: 0.5001\n",
            "Epoch 6/100\n",
            " - 22s - loss: 1.4183 - accuracy: 0.4863 - val_loss: 1.3372 - val_accuracy: 0.5233\n",
            "Epoch 7/100\n",
            " - 22s - loss: 1.3661 - accuracy: 0.5026 - val_loss: 1.2559 - val_accuracy: 0.5541\n",
            "Epoch 8/100\n",
            " - 20s - loss: 1.3081 - accuracy: 0.5256 - val_loss: 1.2369 - val_accuracy: 0.5529\n",
            "Epoch 9/100\n",
            " - 22s - loss: 1.2693 - accuracy: 0.5414 - val_loss: 1.1568 - val_accuracy: 0.5875\n",
            "Epoch 10/100\n",
            " - 22s - loss: 1.2199 - accuracy: 0.5613 - val_loss: 1.1110 - val_accuracy: 0.6058\n",
            "Epoch 11/100\n",
            " - 21s - loss: 1.1800 - accuracy: 0.5751 - val_loss: 1.1340 - val_accuracy: 0.5951\n",
            "Epoch 12/100\n",
            " - 23s - loss: 1.1449 - accuracy: 0.5888 - val_loss: 1.0653 - val_accuracy: 0.6231\n",
            "Epoch 13/100\n",
            " - 23s - loss: 1.1050 - accuracy: 0.6035 - val_loss: 1.0768 - val_accuracy: 0.6226\n",
            "Epoch 14/100\n",
            " - 22s - loss: 1.0658 - accuracy: 0.6180 - val_loss: 0.9685 - val_accuracy: 0.6589\n",
            "Epoch 15/100\n",
            " - 21s - loss: 1.0367 - accuracy: 0.6301 - val_loss: 0.9466 - val_accuracy: 0.6619\n",
            "Epoch 16/100\n",
            " - 20s - loss: 1.0062 - accuracy: 0.6430 - val_loss: 0.9354 - val_accuracy: 0.6668\n",
            "Epoch 17/100\n",
            " - 22s - loss: 0.9835 - accuracy: 0.6482 - val_loss: 0.8968 - val_accuracy: 0.6854\n",
            "Epoch 18/100\n",
            " - 23s - loss: 0.9604 - accuracy: 0.6572 - val_loss: 0.9451 - val_accuracy: 0.6681\n",
            "Epoch 19/100\n",
            " - 22s - loss: 0.9357 - accuracy: 0.6672 - val_loss: 0.8471 - val_accuracy: 0.6989\n",
            "Epoch 20/100\n",
            " - 22s - loss: 0.9165 - accuracy: 0.6742 - val_loss: 0.8394 - val_accuracy: 0.7037\n",
            "Epoch 21/100\n",
            " - 22s - loss: 0.8897 - accuracy: 0.6832 - val_loss: 0.8178 - val_accuracy: 0.7142\n",
            "Epoch 22/100\n",
            " - 22s - loss: 0.8712 - accuracy: 0.6907 - val_loss: 0.8090 - val_accuracy: 0.7171\n",
            "Epoch 23/100\n",
            " - 23s - loss: 0.8528 - accuracy: 0.6997 - val_loss: 0.7748 - val_accuracy: 0.7251\n",
            "Epoch 24/100\n",
            " - 20s - loss: 0.8366 - accuracy: 0.7058 - val_loss: 0.7826 - val_accuracy: 0.7259\n",
            "Epoch 25/100\n",
            " - 21s - loss: 0.8170 - accuracy: 0.7131 - val_loss: 0.7659 - val_accuracy: 0.7314\n",
            "Epoch 26/100\n",
            " - 21s - loss: 0.8019 - accuracy: 0.7158 - val_loss: 0.7518 - val_accuracy: 0.7375\n",
            "Epoch 27/100\n",
            " - 22s - loss: 0.7825 - accuracy: 0.7230 - val_loss: 0.7277 - val_accuracy: 0.7437\n",
            "Epoch 28/100\n",
            " - 21s - loss: 0.7660 - accuracy: 0.7312 - val_loss: 0.7208 - val_accuracy: 0.7491\n",
            "Epoch 29/100\n",
            " - 21s - loss: 0.7594 - accuracy: 0.7303 - val_loss: 0.7198 - val_accuracy: 0.7483\n",
            "Epoch 30/100\n",
            " - 21s - loss: 0.7399 - accuracy: 0.7390 - val_loss: 0.7427 - val_accuracy: 0.7427\n",
            "Epoch 31/100\n",
            " - 22s - loss: 0.7237 - accuracy: 0.7466 - val_loss: 0.6963 - val_accuracy: 0.7552\n",
            "Epoch 32/100\n",
            " - 23s - loss: 0.7134 - accuracy: 0.7480 - val_loss: 0.7130 - val_accuracy: 0.7498\n",
            "Epoch 33/100\n",
            " - 22s - loss: 0.6996 - accuracy: 0.7504 - val_loss: 0.6847 - val_accuracy: 0.7620\n",
            "Epoch 34/100\n",
            " - 23s - loss: 0.6895 - accuracy: 0.7565 - val_loss: 0.6824 - val_accuracy: 0.7627\n",
            "Epoch 35/100\n",
            " - 23s - loss: 0.6779 - accuracy: 0.7585 - val_loss: 0.6821 - val_accuracy: 0.7611\n",
            "Epoch 36/100\n",
            " - 22s - loss: 0.6647 - accuracy: 0.7652 - val_loss: 0.6690 - val_accuracy: 0.7703\n",
            "Epoch 37/100\n",
            " - 22s - loss: 0.6555 - accuracy: 0.7673 - val_loss: 0.6527 - val_accuracy: 0.7749\n",
            "Epoch 38/100\n",
            " - 23s - loss: 0.6449 - accuracy: 0.7715 - val_loss: 0.6512 - val_accuracy: 0.7759\n",
            "Epoch 39/100\n",
            " - 22s - loss: 0.6295 - accuracy: 0.7767 - val_loss: 0.6451 - val_accuracy: 0.7771\n",
            "Epoch 40/100\n",
            " - 22s - loss: 0.6222 - accuracy: 0.7777 - val_loss: 0.6781 - val_accuracy: 0.7681\n",
            "Epoch 41/100\n",
            " - 21s - loss: 0.6079 - accuracy: 0.7832 - val_loss: 0.6367 - val_accuracy: 0.7795\n",
            "Epoch 42/100\n",
            " - 22s - loss: 0.6011 - accuracy: 0.7885 - val_loss: 0.6391 - val_accuracy: 0.7821\n",
            "Epoch 43/100\n",
            " - 21s - loss: 0.5864 - accuracy: 0.7903 - val_loss: 0.6396 - val_accuracy: 0.7801\n",
            "Epoch 44/100\n",
            " - 21s - loss: 0.5847 - accuracy: 0.7939 - val_loss: 0.6362 - val_accuracy: 0.7813\n",
            "Epoch 45/100\n",
            " - 23s - loss: 0.5716 - accuracy: 0.7968 - val_loss: 0.6224 - val_accuracy: 0.7873\n",
            "Epoch 46/100\n",
            " - 22s - loss: 0.5701 - accuracy: 0.7999 - val_loss: 0.6190 - val_accuracy: 0.7879\n",
            "Epoch 47/100\n",
            " - 20s - loss: 0.5547 - accuracy: 0.8042 - val_loss: 0.6154 - val_accuracy: 0.7903\n",
            "Epoch 48/100\n",
            " - 21s - loss: 0.5510 - accuracy: 0.8057 - val_loss: 0.6105 - val_accuracy: 0.7926\n",
            "Epoch 49/100\n",
            " - 21s - loss: 0.5421 - accuracy: 0.8072 - val_loss: 0.6146 - val_accuracy: 0.7891\n",
            "Epoch 50/100\n",
            " - 21s - loss: 0.5307 - accuracy: 0.8140 - val_loss: 0.6393 - val_accuracy: 0.7832\n",
            "Epoch 51/100\n",
            " - 21s - loss: 0.5231 - accuracy: 0.8135 - val_loss: 0.5911 - val_accuracy: 0.7977\n",
            "Epoch 52/100\n",
            " - 22s - loss: 0.5137 - accuracy: 0.8159 - val_loss: 0.6188 - val_accuracy: 0.7899\n",
            "Epoch 53/100\n",
            " - 21s - loss: 0.5090 - accuracy: 0.8173 - val_loss: 0.6159 - val_accuracy: 0.7908\n",
            "Epoch 54/100\n",
            " - 20s - loss: 0.4979 - accuracy: 0.8230 - val_loss: 0.6073 - val_accuracy: 0.7963\n",
            "Epoch 55/100\n",
            " - 21s - loss: 0.4923 - accuracy: 0.8245 - val_loss: 0.6027 - val_accuracy: 0.7931\n",
            "Epoch 56/100\n",
            " - 21s - loss: 0.4859 - accuracy: 0.8277 - val_loss: 0.6008 - val_accuracy: 0.7967\n",
            "Epoch 57/100\n",
            " - 21s - loss: 0.4829 - accuracy: 0.8255 - val_loss: 0.6188 - val_accuracy: 0.7886\n",
            "Epoch 58/100\n",
            " - 22s - loss: 0.4715 - accuracy: 0.8313 - val_loss: 0.6016 - val_accuracy: 0.7963\n",
            "Epoch 59/100\n",
            " - 23s - loss: 0.4661 - accuracy: 0.8339 - val_loss: 0.6129 - val_accuracy: 0.7954\n",
            "Epoch 60/100\n",
            " - 21s - loss: 0.4618 - accuracy: 0.8342 - val_loss: 0.6104 - val_accuracy: 0.7985\n",
            "Epoch 61/100\n",
            " - 22s - loss: 0.4512 - accuracy: 0.8378 - val_loss: 0.6004 - val_accuracy: 0.7989\n",
            "Epoch 62/100\n",
            " - 22s - loss: 0.4412 - accuracy: 0.8413 - val_loss: 0.5974 - val_accuracy: 0.7998\n",
            "Epoch 63/100\n",
            " - 22s - loss: 0.4417 - accuracy: 0.8405 - val_loss: 0.5973 - val_accuracy: 0.8005\n",
            "Epoch 64/100\n",
            " - 23s - loss: 0.4338 - accuracy: 0.8455 - val_loss: 0.5815 - val_accuracy: 0.8078\n",
            "Epoch 65/100\n",
            " - 22s - loss: 0.4295 - accuracy: 0.8454 - val_loss: 0.5948 - val_accuracy: 0.8019\n",
            "Epoch 66/100\n",
            " - 22s - loss: 0.4143 - accuracy: 0.8523 - val_loss: 0.5907 - val_accuracy: 0.8048\n",
            "Epoch 67/100\n",
            " - 23s - loss: 0.4139 - accuracy: 0.8523 - val_loss: 0.5834 - val_accuracy: 0.8070\n",
            "Epoch 68/100\n",
            " - 23s - loss: 0.4061 - accuracy: 0.8546 - val_loss: 0.6144 - val_accuracy: 0.8003\n",
            "Epoch 69/100\n",
            " - 23s - loss: 0.4029 - accuracy: 0.8557 - val_loss: 0.6163 - val_accuracy: 0.8024\n",
            "Epoch 70/100\n",
            " - 24s - loss: 0.3988 - accuracy: 0.8574 - val_loss: 0.5814 - val_accuracy: 0.8089\n",
            "Epoch 71/100\n",
            " - 21s - loss: 0.3852 - accuracy: 0.8629 - val_loss: 0.5846 - val_accuracy: 0.8080\n",
            "Epoch 72/100\n",
            " - 23s - loss: 0.3849 - accuracy: 0.8599 - val_loss: 0.6027 - val_accuracy: 0.8015\n",
            "Epoch 73/100\n",
            " - 24s - loss: 0.3765 - accuracy: 0.8638 - val_loss: 0.6001 - val_accuracy: 0.8050\n",
            "Epoch 74/100\n",
            " - 23s - loss: 0.3696 - accuracy: 0.8657 - val_loss: 0.5875 - val_accuracy: 0.8073\n",
            "Epoch 75/100\n",
            " - 23s - loss: 0.3694 - accuracy: 0.8659 - val_loss: 0.5841 - val_accuracy: 0.8085\n",
            "Epoch 76/100\n",
            " - 21s - loss: 0.3634 - accuracy: 0.8695 - val_loss: 0.6007 - val_accuracy: 0.8077\n",
            "Epoch 77/100\n",
            " - 21s - loss: 0.3616 - accuracy: 0.8692 - val_loss: 0.5927 - val_accuracy: 0.8077\n",
            "Epoch 78/100\n",
            " - 21s - loss: 0.3506 - accuracy: 0.8735 - val_loss: 0.6173 - val_accuracy: 0.8067\n",
            "Epoch 79/100\n",
            " - 22s - loss: 0.3472 - accuracy: 0.8767 - val_loss: 0.6253 - val_accuracy: 0.8037\n",
            "Epoch 80/100\n",
            " - 21s - loss: 0.3381 - accuracy: 0.8780 - val_loss: 0.5981 - val_accuracy: 0.8099\n",
            "Epoch 81/100\n",
            " - 21s - loss: 0.3422 - accuracy: 0.8765 - val_loss: 0.5893 - val_accuracy: 0.8104\n",
            "Epoch 82/100\n",
            " - 22s - loss: 0.3359 - accuracy: 0.8780 - val_loss: 0.6060 - val_accuracy: 0.8090\n",
            "Epoch 83/100\n",
            " - 22s - loss: 0.3265 - accuracy: 0.8826 - val_loss: 0.6055 - val_accuracy: 0.8082\n",
            "Epoch 84/100\n",
            " - 21s - loss: 0.3227 - accuracy: 0.8832 - val_loss: 0.6007 - val_accuracy: 0.8112\n",
            "Epoch 85/100\n",
            " - 22s - loss: 0.3200 - accuracy: 0.8840 - val_loss: 0.6053 - val_accuracy: 0.8091\n"
          ],
          "name": "stdout"
        },
        {
          "output_type": "stream",
          "text": [
            "Epoch 86/100\n",
            " - 22s - loss: 0.3090 - accuracy: 0.8892 - val_loss: 0.6101 - val_accuracy: 0.8126\n",
            "Epoch 87/100\n",
            " - 23s - loss: 0.3152 - accuracy: 0.8854 - val_loss: 0.6039 - val_accuracy: 0.8126\n",
            "Epoch 88/100\n",
            " - 21s - loss: 0.3040 - accuracy: 0.8891 - val_loss: 0.6204 - val_accuracy: 0.8123\n",
            "Epoch 89/100\n",
            " - 21s - loss: 0.3004 - accuracy: 0.8927 - val_loss: 0.6183 - val_accuracy: 0.8095\n",
            "Epoch 90/100\n",
            " - 20s - loss: 0.2952 - accuracy: 0.8923 - val_loss: 0.6184 - val_accuracy: 0.8076\n",
            "Epoch 91/100\n",
            " - 21s - loss: 0.2920 - accuracy: 0.8947 - val_loss: 0.5964 - val_accuracy: 0.8149\n",
            "Epoch 92/100\n",
            " - 21s - loss: 0.2824 - accuracy: 0.8982 - val_loss: 0.6131 - val_accuracy: 0.8167\n",
            "Epoch 93/100\n",
            " - 21s - loss: 0.2847 - accuracy: 0.8985 - val_loss: 0.6149 - val_accuracy: 0.8128\n",
            "Epoch 94/100\n",
            " - 21s - loss: 0.2827 - accuracy: 0.8991 - val_loss: 0.6084 - val_accuracy: 0.8153\n",
            "Epoch 95/100\n",
            " - 20s - loss: 0.2818 - accuracy: 0.8970 - val_loss: 0.6220 - val_accuracy: 0.8131\n",
            "Epoch 96/100\n",
            " - 20s - loss: 0.2717 - accuracy: 0.9008 - val_loss: 0.6294 - val_accuracy: 0.8159\n",
            "Epoch 97/100\n",
            " - 21s - loss: 0.2703 - accuracy: 0.9026 - val_loss: 0.6452 - val_accuracy: 0.8088\n",
            "Epoch 98/100\n",
            " - 20s - loss: 0.2648 - accuracy: 0.9051 - val_loss: 0.6239 - val_accuracy: 0.8135\n",
            "Epoch 99/100\n",
            " - 21s - loss: 0.2625 - accuracy: 0.9063 - val_loss: 0.6183 - val_accuracy: 0.8146\n",
            "Epoch 100/100\n",
            " - 18s - loss: 0.2553 - accuracy: 0.9063 - val_loss: 0.6421 - val_accuracy: 0.8124\n"
          ],
          "name": "stdout"
        }
      ]
    },
    {
      "cell_type": "code",
      "metadata": {
        "id": "Ont_y-w-gmoK",
        "colab_type": "code",
        "colab": {},
        "outputId": "87c8188e-3bb5-40ac-8d55-f8c5948b1043"
      },
      "source": [
        "_,acc=model2.evaluate(testX1,testY1,verbose=0)\n",
        "print(acc*100)"
      ],
      "execution_count": null,
      "outputs": [
        {
          "output_type": "stream",
          "text": [
            "81.01999759674072\n"
          ],
          "name": "stdout"
        }
      ]
    },
    {
      "cell_type": "code",
      "metadata": {
        "id": "AvB12eQfgmoN",
        "colab_type": "code",
        "colab": {}
      },
      "source": [
        "model2.save('final_model.h5')"
      ],
      "execution_count": null,
      "outputs": []
    },
    {
      "cell_type": "code",
      "metadata": {
        "id": "YLG36eLugmoQ",
        "colab_type": "code",
        "colab": {},
        "outputId": "22791b4f-2166-4fe3-979a-3e020861527b"
      },
      "source": [
        "from keras.models import load_model    \n",
        "model_fin = load_model('final_model.h5')"
      ],
      "execution_count": null,
      "outputs": [
        {
          "output_type": "stream",
          "text": [
            "WARNING:tensorflow:From C:\\ProgramData\\Anaconda3\\envs\\py35\\lib\\site-packages\\tensorflow\\python\\ops\\resource_variable_ops.py:435: colocate_with (from tensorflow.python.framework.ops) is deprecated and will be removed in a future version.\n",
            "Instructions for updating:\n",
            "Colocations handled automatically by placer.\n",
            "WARNING:tensorflow:From C:\\ProgramData\\Anaconda3\\envs\\py35\\lib\\site-packages\\tensorflow\\python\\ops\\math_ops.py:3066: to_int32 (from tensorflow.python.ops.math_ops) is deprecated and will be removed in a future version.\n",
            "Instructions for updating:\n",
            "Use tf.cast instead.\n"
          ],
          "name": "stdout"
        }
      ]
    },
    {
      "cell_type": "code",
      "metadata": {
        "id": "jDNwilGAgmoU",
        "colab_type": "code",
        "colab": {},
        "outputId": "271073cc-327f-4997-8a16-a28558924a45"
      },
      "source": [
        "_, acc = model_fin.evaluate(testX1, testY1, verbose=0)\n",
        "print('> %.3f' % (acc * 100.0))"
      ],
      "execution_count": null,
      "outputs": [
        {
          "output_type": "stream",
          "text": [
            "> 81.020\n"
          ],
          "name": "stdout"
        }
      ]
    },
    {
      "cell_type": "code",
      "metadata": {
        "id": "09EiMfnEgmoW",
        "colab_type": "code",
        "colab": {}
      },
      "source": [
        "from keras.preprocessing.image import load_img\n",
        "from keras.preprocessing.image import img_to_array\n",
        "from sklearn.preprocessing import LabelEncoder\n",
        "img=load_img('sample_image.png',target_size=(32,32))\n",
        "img=img_to_array(img)\n",
        "img=img.reshape(1,32,32,3)\n",
        "img=img.astype('float32')\n",
        "img=img/255.0\n"
      ],
      "execution_count": null,
      "outputs": []
    },
    {
      "cell_type": "code",
      "metadata": {
        "id": "pUseduX5gmoY",
        "colab_type": "code",
        "colab": {}
      },
      "source": [
        "result = model_fin.predict_classes(img)"
      ],
      "execution_count": null,
      "outputs": []
    },
    {
      "cell_type": "code",
      "metadata": {
        "id": "vBKmRqYBgmoa",
        "colab_type": "code",
        "colab": {},
        "outputId": "0004586c-7b16-4e5b-938e-6b53d0e1c9cc"
      },
      "source": [
        "result"
      ],
      "execution_count": null,
      "outputs": [
        {
          "output_type": "execute_result",
          "data": {
            "text/plain": [
              "array([4], dtype=int64)"
            ]
          },
          "metadata": {
            "tags": []
          },
          "execution_count": 17
        }
      ]
    },
    {
      "cell_type": "code",
      "metadata": {
        "id": "lRCfIUcogmod",
        "colab_type": "code",
        "colab": {},
        "outputId": "491195f1-2ee6-4d7d-fe35-d2631552a6ee"
      },
      "source": [
        "plt.subplot(221)\n",
        "plt.imshow(testX[0],cmap=plt.get_cmap('gray'))\n",
        "plt.subplot(222)\n",
        "plt.imshow(testX[1],cmap=plt.get_cmap('gray'))\n",
        "plt.subplot(223)\n",
        "plt.imshow(testX[2],cmap=plt.get_cmap('gray'))\n",
        "plt.subplot(224)\n",
        "plt.imshow(testX[3],cmap=plt.get_cmap('gray'))\n",
        "plt.show()"
      ],
      "execution_count": null,
      "outputs": [
        {
          "output_type": "display_data",
          "data": {
            "image/png": "[encoded data removed]",
            "text/plain": [
              "<Figure size 432x288 with 4 Axes>"
            ]
          },
          "metadata": {
            "tags": [],
            "needs_background": "light"
          }
        }
      ]
    },
    {
      "cell_type": "code",
      "metadata": {
        "id": "vD29kp8rgmoi",
        "colab_type": "code",
        "colab": {},
        "outputId": "c41b4bda-d074-4d60-80b2-f5005028beb5"
      },
      "source": [
        "testY[0],testY[1],testY[2],testY[3]"
      ],
      "execution_count": null,
      "outputs": [
        {
          "output_type": "execute_result",
          "data": {
            "text/plain": [
              "(array([3]), array([8]), array([8]), array([0]))"
            ]
          },
          "metadata": {
            "tags": []
          },
          "execution_count": 20
        }
      ]
    },
    {
      "cell_type": "code",
      "metadata": {
        "id": "Ww2uywZigmol",
        "colab_type": "code",
        "colab": {}
      },
      "source": [
        "y_pred=model_fin.predict_classes(testX)"
      ],
      "execution_count": null,
      "outputs": []
    },
    {
      "cell_type": "code",
      "metadata": {
        "id": "dJN-gYjZgmon",
        "colab_type": "code",
        "colab": {},
        "outputId": "05680962-252b-4867-c3b9-45db11f6a6a1"
      },
      "source": [
        "y_pred[0],y_pred[1],y_pred[2],y_pred[3]"
      ],
      "execution_count": null,
      "outputs": [
        {
          "output_type": "execute_result",
          "data": {
            "text/plain": [
              "(3, 8, 8, 0)"
            ]
          },
          "metadata": {
            "tags": []
          },
          "execution_count": 23
        }
      ]
    },
    {
      "cell_type": "code",
      "metadata": {
        "id": "FVKCIwaygmor",
        "colab_type": "code",
        "colab": {},
        "outputId": "8df7afbb-bb99-47e1-b2b6-d08dcaf94361"
      },
      "source": [
        ""
      ],
      "execution_count": null,
      "outputs": [
        {
          "output_type": "execute_result",
          "data": {
            "text/plain": [
              "array([3, 8, 8, ..., 5, 1, 7], dtype=int64)"
            ]
          },
          "metadata": {
            "tags": []
          },
          "execution_count": 35
        }
      ]
    },
    {
      "cell_type": "code",
      "metadata": {
        "id": "mlL-YJS6gmou",
        "colab_type": "code",
        "colab": {}
      },
      "source": [
        "match=['airplane', 'automobile', 'bird', 'cat', 'deer', 'dog', 'frog', 'horse', 'ship', 'truck']\n",
        "val_list = list()\n",
        "for val in y_pred:\n",
        "    val_list.append(match[val])"
      ],
      "execution_count": null,
      "outputs": []
    },
    {
      "cell_type": "code",
      "metadata": {
        "id": "k7RroVcQgmox",
        "colab_type": "code",
        "colab": {},
        "outputId": "4887e322-fecb-4472-b02e-2a47315b5a6f"
      },
      "source": [
        "val_list[2]"
      ],
      "execution_count": null,
      "outputs": [
        {
          "output_type": "execute_result",
          "data": {
            "text/plain": [
              "'ship'"
            ]
          },
          "metadata": {
            "tags": []
          },
          "execution_count": 48
        }
      ]
    },
    {
      "cell_type": "code",
      "metadata": {
        "id": "OSCRWj3Ggmo0",
        "colab_type": "code",
        "colab": {},
        "outputId": "88a6e75a-624e-495d-9217-3787b1191182"
      },
      "source": [
        "match[0]"
      ],
      "execution_count": null,
      "outputs": [
        {
          "output_type": "execute_result",
          "data": {
            "text/plain": [
              "'airplane'"
            ]
          },
          "metadata": {
            "tags": []
          },
          "execution_count": 38
        }
      ]
    }
  ]
}
