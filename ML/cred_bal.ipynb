{
  "nbformat": 4,
  "nbformat_minor": 0,
  "metadata": {
    "colab": {
      "name": "cred_bal.ipynb",
      "provenance": [],
      "collapsed_sections": [],
      "authorship_tag": "ABX9TyPkTsU11pt0cbCprAqLLyvT",
      "include_colab_link": true
    },
    "kernelspec": {
      "name": "python3",
      "display_name": "Python 3"
    },
    "accelerator": "GPU"
  },
  "cells": [
    {
      "cell_type": "markdown",
      "metadata": {
        "id": "view-in-github",
        "colab_type": "text"
      },
      "source": [
        "<a href=\"https://colab.research.google.com/github/Kprerak-iisc/data-science/blob/master/cred_bal.ipynb\" target=\"_parent\"><img src=\"https://colab.research.google.com/assets/colab-badge.svg\" alt=\"Open In Colab\"/></a>"
      ]
    },
    {
      "cell_type": "code",
      "metadata": {
        "id": "OHCWy5wy8i2v",
        "colab_type": "code",
        "colab": {
          "base_uri": "https://localhost:8080/",
          "height": 121
        },
        "outputId": "294746ab-00aa-450b-ae2d-cb157978d035"
      },
      "source": [
        "from google.colab import drive\n",
        "drive.mount('/content/gdrive')"
      ],
      "execution_count": 1,
      "outputs": [
        {
          "output_type": "stream",
          "text": [
            "Go to this URL in a browser: https://accounts.google.com/o/oauth2/auth?client_id=947318989803-6bn6qk8qdgf4n4g3pfee6491hc0brc4i.apps.googleusercontent.com&redirect_uri=urn%3aietf%3awg%3aoauth%3a2.0%3aoob&scope=email%20https%3a%2f%2fwww.googleapis.com%2fauth%2fdocs.test%20https%3a%2f%2fwww.googleapis.com%2fauth%2fdrive%20https%3a%2f%2fwww.googleapis.com%2fauth%2fdrive.photos.readonly%20https%3a%2f%2fwww.googleapis.com%2fauth%2fpeopleapi.readonly&response_type=code\n",
            "\n",
            "Enter your authorization code:\n",
            "··········\n",
            "Mounted at /content/gdrive\n"
          ],
          "name": "stdout"
        }
      ]
    },
    {
      "cell_type": "code",
      "metadata": {
        "id": "0dMlXW7k84OU",
        "colab_type": "code",
        "colab": {
          "base_uri": "https://localhost:8080/",
          "height": 34
        },
        "outputId": "1ef31998-2923-41bd-a140-59cac226055a"
      },
      "source": [
        "!ls /content/gdrive/'My Drive/Colab Notebooks/credit_balance'"
      ],
      "execution_count": 3,
      "outputs": [
        {
          "output_type": "stream",
          "text": [
            "cred_bal.ipynb\tdata\n"
          ],
          "name": "stdout"
        }
      ]
    },
    {
      "cell_type": "code",
      "metadata": {
        "id": "YKvyPdXL9KWZ",
        "colab_type": "code",
        "colab": {
          "base_uri": "https://localhost:8080/",
          "height": 70
        },
        "outputId": "277ae543-c301-4d17-f7bf-9b1d45981b97"
      },
      "source": [
        "import numpy as np\n",
        "import pandas as pd \n",
        "import seaborn as sns\n",
        "import matplotlib.pyplot as plt\n",
        "import statsmodels.api as sm\n",
        "import statsmodels.formula.api as smf\n",
        "%matplotlib inline\n",
        "\n",
        "col_list = ['#005f9a', '#00CDCD', '#f1bdbf']\n",
        "sns.set_palette(col_list)"
      ],
      "execution_count": 4,
      "outputs": [
        {
          "output_type": "stream",
          "text": [
            "/usr/local/lib/python3.6/dist-packages/statsmodels/tools/_testing.py:19: FutureWarning: pandas.util.testing is deprecated. Use the functions in the public API at pandas.testing instead.\n",
            "  import pandas.util.testing as tm\n"
          ],
          "name": "stderr"
        }
      ]
    },
    {
      "cell_type": "code",
      "metadata": {
        "id": "L0Ix5sE49Qr_",
        "colab_type": "code",
        "colab": {}
      },
      "source": [
        "credit_df = pd.read_csv('/content/gdrive/My Drive/Colab Notebooks/credit_balance/data/Credit.csv', index_col=0)"
      ],
      "execution_count": 9,
      "outputs": []
    },
    {
      "cell_type": "code",
      "metadata": {
        "id": "ioPkpyZQ-OCe",
        "colab_type": "code",
        "colab": {
          "base_uri": "https://localhost:8080/",
          "height": 195
        },
        "outputId": "55345d68-abff-443c-a300-8949f6a62d22"
      },
      "source": [
        "credit_df.head()"
      ],
      "execution_count": 10,
      "outputs": [
        {
          "output_type": "execute_result",
          "data": {
            "text/html": [
              "<div>\n",
              "<style scoped>\n",
              "    .dataframe tbody tr th:only-of-type {\n",
              "        vertical-align: middle;\n",
              "    }\n",
              "\n",
              "    .dataframe tbody tr th {\n",
              "        vertical-align: top;\n",
              "    }\n",
              "\n",
              "    .dataframe thead th {\n",
              "        text-align: right;\n",
              "    }\n",
              "</style>\n",
              "<table border=\"1\" class=\"dataframe\">\n",
              "  <thead>\n",
              "    <tr style=\"text-align: right;\">\n",
              "      <th></th>\n",
              "      <th>Income</th>\n",
              "      <th>Limit</th>\n",
              "      <th>Rating</th>\n",
              "      <th>Cards</th>\n",
              "      <th>Age</th>\n",
              "      <th>Education</th>\n",
              "      <th>Gender</th>\n",
              "      <th>Student</th>\n",
              "      <th>Married</th>\n",
              "      <th>Ethnicity</th>\n",
              "      <th>Balance</th>\n",
              "    </tr>\n",
              "  </thead>\n",
              "  <tbody>\n",
              "    <tr>\n",
              "      <th>1</th>\n",
              "      <td>14.891</td>\n",
              "      <td>3606</td>\n",
              "      <td>283</td>\n",
              "      <td>2</td>\n",
              "      <td>34</td>\n",
              "      <td>11</td>\n",
              "      <td>Male</td>\n",
              "      <td>No</td>\n",
              "      <td>Yes</td>\n",
              "      <td>Caucasian</td>\n",
              "      <td>333</td>\n",
              "    </tr>\n",
              "    <tr>\n",
              "      <th>2</th>\n",
              "      <td>106.025</td>\n",
              "      <td>6645</td>\n",
              "      <td>483</td>\n",
              "      <td>3</td>\n",
              "      <td>82</td>\n",
              "      <td>15</td>\n",
              "      <td>Female</td>\n",
              "      <td>Yes</td>\n",
              "      <td>Yes</td>\n",
              "      <td>Asian</td>\n",
              "      <td>903</td>\n",
              "    </tr>\n",
              "    <tr>\n",
              "      <th>3</th>\n",
              "      <td>104.593</td>\n",
              "      <td>7075</td>\n",
              "      <td>514</td>\n",
              "      <td>4</td>\n",
              "      <td>71</td>\n",
              "      <td>11</td>\n",
              "      <td>Male</td>\n",
              "      <td>No</td>\n",
              "      <td>No</td>\n",
              "      <td>Asian</td>\n",
              "      <td>580</td>\n",
              "    </tr>\n",
              "    <tr>\n",
              "      <th>4</th>\n",
              "      <td>148.924</td>\n",
              "      <td>9504</td>\n",
              "      <td>681</td>\n",
              "      <td>3</td>\n",
              "      <td>36</td>\n",
              "      <td>11</td>\n",
              "      <td>Female</td>\n",
              "      <td>No</td>\n",
              "      <td>No</td>\n",
              "      <td>Asian</td>\n",
              "      <td>964</td>\n",
              "    </tr>\n",
              "    <tr>\n",
              "      <th>5</th>\n",
              "      <td>55.882</td>\n",
              "      <td>4897</td>\n",
              "      <td>357</td>\n",
              "      <td>2</td>\n",
              "      <td>68</td>\n",
              "      <td>16</td>\n",
              "      <td>Male</td>\n",
              "      <td>No</td>\n",
              "      <td>Yes</td>\n",
              "      <td>Caucasian</td>\n",
              "      <td>331</td>\n",
              "    </tr>\n",
              "  </tbody>\n",
              "</table>\n",
              "</div>"
            ],
            "text/plain": [
              "    Income  Limit  Rating  Cards  ...  Student  Married  Ethnicity Balance\n",
              "1   14.891   3606     283      2  ...       No      Yes  Caucasian     333\n",
              "2  106.025   6645     483      3  ...      Yes      Yes      Asian     903\n",
              "3  104.593   7075     514      4  ...       No       No      Asian     580\n",
              "4  148.924   9504     681      3  ...       No       No      Asian     964\n",
              "5   55.882   4897     357      2  ...       No      Yes  Caucasian     331\n",
              "\n",
              "[5 rows x 11 columns]"
            ]
          },
          "metadata": {
            "tags": []
          },
          "execution_count": 10
        }
      ]
    },
    {
      "cell_type": "code",
      "metadata": {
        "id": "Z3-DRmOq-Q6s",
        "colab_type": "code",
        "colab": {
          "base_uri": "https://localhost:8080/",
          "height": 218
        },
        "outputId": "f75f2d6c-5703-403f-eb59-3efa4dec1889"
      },
      "source": [
        "credit_df.count()"
      ],
      "execution_count": 11,
      "outputs": [
        {
          "output_type": "execute_result",
          "data": {
            "text/plain": [
              "Income       400\n",
              "Limit        400\n",
              "Rating       400\n",
              "Cards        400\n",
              "Age          400\n",
              "Education    400\n",
              "Gender       400\n",
              "Student      400\n",
              "Married      400\n",
              "Ethnicity    400\n",
              "Balance      400\n",
              "dtype: int64"
            ]
          },
          "metadata": {
            "tags": []
          },
          "execution_count": 11
        }
      ]
    },
    {
      "cell_type": "markdown",
      "metadata": {
        "id": "HQfBZijq-HLY",
        "colab_type": "text"
      },
      "source": [
        "Categorical variable processing"
      ]
    },
    {
      "cell_type": "code",
      "metadata": {
        "id": "WWWB9fXA-EAC",
        "colab_type": "code",
        "colab": {}
      },
      "source": [
        "credit_df.Gender = credit_df.Gender.astype('category')\n",
        "credit_df.Student = credit_df.Student.astype('category')\n",
        "credit_df.Married = credit_df.Married.astype('category')\n",
        "credit_df.Ethnicity = credit_df.Ethnicity.astype('category')"
      ],
      "execution_count": 12,
      "outputs": []
    },
    {
      "cell_type": "code",
      "metadata": {
        "id": "4JoX88iZ_Zjo",
        "colab_type": "code",
        "colab": {
          "base_uri": "https://localhost:8080/",
          "height": 284
        },
        "outputId": "ce26b580-f1d1-4a01-d4e4-8c38de147dea"
      },
      "source": [
        "credit_df.describe()"
      ],
      "execution_count": 13,
      "outputs": [
        {
          "output_type": "execute_result",
          "data": {
            "text/html": [
              "<div>\n",
              "<style scoped>\n",
              "    .dataframe tbody tr th:only-of-type {\n",
              "        vertical-align: middle;\n",
              "    }\n",
              "\n",
              "    .dataframe tbody tr th {\n",
              "        vertical-align: top;\n",
              "    }\n",
              "\n",
              "    .dataframe thead th {\n",
              "        text-align: right;\n",
              "    }\n",
              "</style>\n",
              "<table border=\"1\" class=\"dataframe\">\n",
              "  <thead>\n",
              "    <tr style=\"text-align: right;\">\n",
              "      <th></th>\n",
              "      <th>Income</th>\n",
              "      <th>Limit</th>\n",
              "      <th>Rating</th>\n",
              "      <th>Cards</th>\n",
              "      <th>Age</th>\n",
              "      <th>Education</th>\n",
              "      <th>Balance</th>\n",
              "    </tr>\n",
              "  </thead>\n",
              "  <tbody>\n",
              "    <tr>\n",
              "      <th>count</th>\n",
              "      <td>400.000000</td>\n",
              "      <td>400.000000</td>\n",
              "      <td>400.000000</td>\n",
              "      <td>400.000000</td>\n",
              "      <td>400.000000</td>\n",
              "      <td>400.000000</td>\n",
              "      <td>400.000000</td>\n",
              "    </tr>\n",
              "    <tr>\n",
              "      <th>mean</th>\n",
              "      <td>45.218885</td>\n",
              "      <td>4735.600000</td>\n",
              "      <td>354.940000</td>\n",
              "      <td>2.957500</td>\n",
              "      <td>55.667500</td>\n",
              "      <td>13.450000</td>\n",
              "      <td>520.015000</td>\n",
              "    </tr>\n",
              "    <tr>\n",
              "      <th>std</th>\n",
              "      <td>35.244273</td>\n",
              "      <td>2308.198848</td>\n",
              "      <td>154.724143</td>\n",
              "      <td>1.371275</td>\n",
              "      <td>17.249807</td>\n",
              "      <td>3.125207</td>\n",
              "      <td>459.758877</td>\n",
              "    </tr>\n",
              "    <tr>\n",
              "      <th>min</th>\n",
              "      <td>10.354000</td>\n",
              "      <td>855.000000</td>\n",
              "      <td>93.000000</td>\n",
              "      <td>1.000000</td>\n",
              "      <td>23.000000</td>\n",
              "      <td>5.000000</td>\n",
              "      <td>0.000000</td>\n",
              "    </tr>\n",
              "    <tr>\n",
              "      <th>25%</th>\n",
              "      <td>21.007250</td>\n",
              "      <td>3088.000000</td>\n",
              "      <td>247.250000</td>\n",
              "      <td>2.000000</td>\n",
              "      <td>41.750000</td>\n",
              "      <td>11.000000</td>\n",
              "      <td>68.750000</td>\n",
              "    </tr>\n",
              "    <tr>\n",
              "      <th>50%</th>\n",
              "      <td>33.115500</td>\n",
              "      <td>4622.500000</td>\n",
              "      <td>344.000000</td>\n",
              "      <td>3.000000</td>\n",
              "      <td>56.000000</td>\n",
              "      <td>14.000000</td>\n",
              "      <td>459.500000</td>\n",
              "    </tr>\n",
              "    <tr>\n",
              "      <th>75%</th>\n",
              "      <td>57.470750</td>\n",
              "      <td>5872.750000</td>\n",
              "      <td>437.250000</td>\n",
              "      <td>4.000000</td>\n",
              "      <td>70.000000</td>\n",
              "      <td>16.000000</td>\n",
              "      <td>863.000000</td>\n",
              "    </tr>\n",
              "    <tr>\n",
              "      <th>max</th>\n",
              "      <td>186.634000</td>\n",
              "      <td>13913.000000</td>\n",
              "      <td>982.000000</td>\n",
              "      <td>9.000000</td>\n",
              "      <td>98.000000</td>\n",
              "      <td>20.000000</td>\n",
              "      <td>1999.000000</td>\n",
              "    </tr>\n",
              "  </tbody>\n",
              "</table>\n",
              "</div>"
            ],
            "text/plain": [
              "           Income         Limit  ...   Education      Balance\n",
              "count  400.000000    400.000000  ...  400.000000   400.000000\n",
              "mean    45.218885   4735.600000  ...   13.450000   520.015000\n",
              "std     35.244273   2308.198848  ...    3.125207   459.758877\n",
              "min     10.354000    855.000000  ...    5.000000     0.000000\n",
              "25%     21.007250   3088.000000  ...   11.000000    68.750000\n",
              "50%     33.115500   4622.500000  ...   14.000000   459.500000\n",
              "75%     57.470750   5872.750000  ...   16.000000   863.000000\n",
              "max    186.634000  13913.000000  ...   20.000000  1999.000000\n",
              "\n",
              "[8 rows x 7 columns]"
            ]
          },
          "metadata": {
            "tags": []
          },
          "execution_count": 13
        }
      ]
    },
    {
      "cell_type": "code",
      "metadata": {
        "id": "L3RMe0R7_eqn",
        "colab_type": "code",
        "colab": {
          "base_uri": "https://localhost:8080/",
          "height": 166
        },
        "outputId": "3b5c7b76-7274-4b59-ec5e-2a611880b024"
      },
      "source": [
        "credit_df.describe(include=['category'])"
      ],
      "execution_count": 14,
      "outputs": [
        {
          "output_type": "execute_result",
          "data": {
            "text/html": [
              "<div>\n",
              "<style scoped>\n",
              "    .dataframe tbody tr th:only-of-type {\n",
              "        vertical-align: middle;\n",
              "    }\n",
              "\n",
              "    .dataframe tbody tr th {\n",
              "        vertical-align: top;\n",
              "    }\n",
              "\n",
              "    .dataframe thead th {\n",
              "        text-align: right;\n",
              "    }\n",
              "</style>\n",
              "<table border=\"1\" class=\"dataframe\">\n",
              "  <thead>\n",
              "    <tr style=\"text-align: right;\">\n",
              "      <th></th>\n",
              "      <th>Gender</th>\n",
              "      <th>Student</th>\n",
              "      <th>Married</th>\n",
              "      <th>Ethnicity</th>\n",
              "    </tr>\n",
              "  </thead>\n",
              "  <tbody>\n",
              "    <tr>\n",
              "      <th>count</th>\n",
              "      <td>400</td>\n",
              "      <td>400</td>\n",
              "      <td>400</td>\n",
              "      <td>400</td>\n",
              "    </tr>\n",
              "    <tr>\n",
              "      <th>unique</th>\n",
              "      <td>2</td>\n",
              "      <td>2</td>\n",
              "      <td>2</td>\n",
              "      <td>3</td>\n",
              "    </tr>\n",
              "    <tr>\n",
              "      <th>top</th>\n",
              "      <td>Female</td>\n",
              "      <td>No</td>\n",
              "      <td>Yes</td>\n",
              "      <td>Caucasian</td>\n",
              "    </tr>\n",
              "    <tr>\n",
              "      <th>freq</th>\n",
              "      <td>207</td>\n",
              "      <td>360</td>\n",
              "      <td>245</td>\n",
              "      <td>199</td>\n",
              "    </tr>\n",
              "  </tbody>\n",
              "</table>\n",
              "</div>"
            ],
            "text/plain": [
              "        Gender Student Married  Ethnicity\n",
              "count      400     400     400        400\n",
              "unique       2       2       2          3\n",
              "top     Female      No     Yes  Caucasian\n",
              "freq       207     360     245        199"
            ]
          },
          "metadata": {
            "tags": []
          },
          "execution_count": 14
        }
      ]
    },
    {
      "cell_type": "markdown",
      "metadata": {
        "id": "YG4hQiyZ_o7C",
        "colab_type": "text"
      },
      "source": [
        "**Exploratory Data Analysis**"
      ]
    },
    {
      "cell_type": "code",
      "metadata": {
        "id": "UMlBLuc__q2v",
        "colab_type": "code",
        "colab": {
          "base_uri": "https://localhost:8080/",
          "height": 296
        },
        "outputId": "f59e9ec4-737f-4d76-814e-2298e71308b0"
      },
      "source": [
        "sns.distplot(credit_df.Balance)"
      ],
      "execution_count": 15,
      "outputs": [
        {
          "output_type": "execute_result",
          "data": {
            "text/plain": [
              "<matplotlib.axes._subplots.AxesSubplot at 0x7fd808df4b70>"
            ]
          },
          "metadata": {
            "tags": []
          },
          "execution_count": 15
        },
        {
          "output_type": "display_data",
          "data": {
            "image/png": "[encoded data removed]",
            "text/plain": [
              "<Figure size 432x288 with 1 Axes>"
            ]
          },
          "metadata": {
            "tags": [],
            "needs_background": "light"
          }
        }
      ]
    },
    {
      "cell_type": "markdown",
      "metadata": {
        "id": "-IxdlY1OAX2T",
        "colab_type": "text"
      },
      "source": [
        "It can be noticed that a large portion of the sample consists of Zero Balance Cards. if the average credit card Balance for a given individual is zero, we conclude that the person does not make use of that credit card. As a credit card company, we may be interested in knowing the average balance across our frequent users.\n",
        "Additional data frame containaining the observations with a positive Balance."
      ]
    },
    {
      "cell_type": "code",
      "metadata": {
        "id": "HAQFWhK4AIdJ",
        "colab_type": "code",
        "colab": {
          "base_uri": "https://localhost:8080/",
          "height": 168
        },
        "outputId": "612d7b04-7b1a-42ca-c7ae-621986b96d42"
      },
      "source": [
        "active_credit_df = credit_df.loc[credit_df.Balance>0,].copy()\n",
        "active_credit_df.Balance.describe() "
      ],
      "execution_count": 16,
      "outputs": [
        {
          "output_type": "execute_result",
          "data": {
            "text/plain": [
              "count     310.000000\n",
              "mean      670.987097\n",
              "std       413.904019\n",
              "min         5.000000\n",
              "25%       338.000000\n",
              "50%       637.500000\n",
              "75%       960.750000\n",
              "max      1999.000000\n",
              "Name: Balance, dtype: float64"
            ]
          },
          "metadata": {
            "tags": []
          },
          "execution_count": 16
        }
      ]
    },
    {
      "cell_type": "code",
      "metadata": {
        "id": "tjo92shHApd4",
        "colab_type": "code",
        "colab": {
          "base_uri": "https://localhost:8080/",
          "height": 296
        },
        "outputId": "024a3442-34a3-4a70-c923-373fec5a8d07"
      },
      "source": [
        "sns.distplot(active_credit_df.Balance)"
      ],
      "execution_count": 17,
      "outputs": [
        {
          "output_type": "execute_result",
          "data": {
            "text/plain": [
              "<matplotlib.axes._subplots.AxesSubplot at 0x7fd808d484a8>"
            ]
          },
          "metadata": {
            "tags": []
          },
          "execution_count": 17
        },
        {
          "output_type": "display_data",
          "data": {
            "image/png": "[encoded data removed]",
            "text/plain": [
              "<Figure size 432x288 with 1 Axes>"
            ]
          },
          "metadata": {
            "tags": [],
            "needs_background": "light"
          }
        }
      ]
    },
    {
      "cell_type": "markdown",
      "metadata": {
        "id": "xxYdNNdQBIUT",
        "colab_type": "text"
      },
      "source": [
        "Without the zero Balances, the curve resembles a normal distribution. \n",
        "A new variable can be added to the original data frame which specifies whether an individual is a regular user of their credit card (i.e. whether they have a positive Balance)."
      ]
    },
    {
      "cell_type": "code",
      "metadata": {
        "id": "RAQH-OAvBV-M",
        "colab_type": "code",
        "colab": {
          "base_uri": "https://localhost:8080/",
          "height": 101
        },
        "outputId": "ce6818c6-57a3-443c-a061-bcca7ddf30cc"
      },
      "source": [
        "credit_df['Active'] = np.where(credit_df['Balance']>0, 'Yes', 'No')  \n",
        "credit_df.Active.describe()"
      ],
      "execution_count": 18,
      "outputs": [
        {
          "output_type": "execute_result",
          "data": {
            "text/plain": [
              "count     400\n",
              "unique      2\n",
              "top       Yes\n",
              "freq      310\n",
              "Name: Active, dtype: object"
            ]
          },
          "metadata": {
            "tags": []
          },
          "execution_count": 18
        }
      ]
    },
    {
      "cell_type": "code",
      "metadata": {
        "id": "Y0zIO6fxBZJF",
        "colab_type": "code",
        "colab": {
          "base_uri": "https://localhost:8080/",
          "height": 716
        },
        "outputId": "1e68709e-2dba-4a7b-ee42-209c65895418"
      },
      "source": [
        "numeric_credit_df = credit_df.select_dtypes(include=['int64', 'float64'])\n",
        "plt.figure(figsize=(8,8))\n",
        "plt.matshow(credit_df.corr(), cmap=plt.cm.Blues, fignum=1)\n",
        "plt.colorbar()\n",
        "tick_marks = [i for i in range(len(numeric_credit_df.columns))]\n",
        "plt.xticks(tick_marks, numeric_credit_df.columns)\n",
        "plt.yticks(tick_marks, numeric_credit_df.columns)"
      ],
      "execution_count": 19,
      "outputs": [
        {
          "output_type": "execute_result",
          "data": {
            "text/plain": [
              "([<matplotlib.axis.YTick at 0x7fd80882c438>,\n",
              "  <matplotlib.axis.YTick at 0x7fd80882bdd8>,\n",
              "  <matplotlib.axis.YTick at 0x7fd80882b400>,\n",
              "  <matplotlib.axis.YTick at 0x7fd808798e48>,\n",
              "  <matplotlib.axis.YTick at 0x7fd80879f320>,\n",
              "  <matplotlib.axis.YTick at 0x7fd80879f7b8>,\n",
              "  <matplotlib.axis.YTick at 0x7fd80879fc50>],\n",
              " [Text(0, 0, 'Income'),\n",
              "  Text(0, 0, 'Limit'),\n",
              "  Text(0, 0, 'Rating'),\n",
              "  Text(0, 0, 'Cards'),\n",
              "  Text(0, 0, 'Age'),\n",
              "  Text(0, 0, 'Education'),\n",
              "  Text(0, 0, 'Balance')])"
            ]
          },
          "metadata": {
            "tags": []
          },
          "execution_count": 19
        },
        {
          "output_type": "display_data",
          "data": {
            "image/png": "[encoded data removed]",
            "text/plain": [
              "<Figure size 576x576 with 2 Axes>"
            ]
          },
          "metadata": {
            "tags": [],
            "needs_background": "light"
          }
        }
      ]
    },
    {
      "cell_type": "markdown",
      "metadata": {
        "id": "ha0cn50uBi43",
        "colab_type": "text"
      },
      "source": [
        "Based on the correlation matrix, Balance appears correlated with Limit, Rating, and moderately correlated with Income. In addition, Limit and Rating are highly correlated with each other, and they both have a relationship with Income.\n",
        "\n",
        "However, this matrix does not confirm whether the correlation coefficients are statistically significant, hence further investigation is necessary."
      ]
    },
    {
      "cell_type": "code",
      "metadata": {
        "id": "mng9-px2BqN2",
        "colab_type": "code",
        "colab": {
          "base_uri": "https://localhost:8080/",
          "height": 319
        },
        "outputId": "74967b4d-14d2-4f66-cfc4-f7f24c4c1376"
      },
      "source": [
        "from scipy.stats import pearsonr\n",
        "r1, p1 = pearsonr(credit_df.Balance, credit_df.Limit)\n",
        "msg = \"Correlation coefficient Balance-Limit: {}\\n p-value: {}\\n\"\n",
        "print(msg.format(r1, p1))\n",
        "r2, p2 = pearsonr(credit_df.Balance, credit_df.Rating)\n",
        "msg = \"Correlation coefficient Balance-Rating: {}\\n p-value: {}\\n\"\n",
        "print(msg.format(r2, p2))\n",
        "r3, p3 = pearsonr(credit_df.Balance, credit_df.Income)\n",
        "msg = \"Correlation coefficient Balance-Income: {}\\n p-value: {}\\n\"\n",
        "print(msg.format(r3, p3))\n",
        "r4, p4 = pearsonr(credit_df.Limit, credit_df.Rating)\n",
        "msg = \"Correlation coefficient Limit-Rating: {}\\n p-value: {}\\n\"\n",
        "print(msg.format(r4, p4))\n",
        "r5, p5 = pearsonr(credit_df.Limit, credit_df.Income)\n",
        "msg = \"Correlation coefficient Limit-Income: {}\\n p-value: {}\\n\"\n",
        "print(msg.format(r5, p5))\n",
        "r6, p6 = pearsonr(credit_df.Rating, credit_df.Income)\n",
        "msg = \"Correlation coefficient Rating-Income: {}\\n p-value: {}\\n\"\n",
        "print(msg.format(r6, p6))"
      ],
      "execution_count": 20,
      "outputs": [
        {
          "output_type": "stream",
          "text": [
            "Correlation coefficient Balance-Limit: 0.8616972670153953\n",
            " p-value: 2.5305807117131246e-119\n",
            "\n",
            "Correlation coefficient Balance-Rating: 0.8636251606214953\n",
            " p-value: 1.8988990970393693e-120\n",
            "\n",
            "Correlation coefficient Balance-Income: 0.46365645701575736\n",
            " p-value: 1.0308858025891003e-22\n",
            "\n",
            "Correlation coefficient Limit-Rating: 0.9968797370016829\n",
            " p-value: 0.0\n",
            "\n",
            "Correlation coefficient Limit-Income: 0.7920883413369415\n",
            " p-value: 2.3917894422844805e-87\n",
            "\n",
            "Correlation coefficient Rating-Income: 0.7913776251121218\n",
            " p-value: 4.362691443088444e-87\n",
            "\n"
          ],
          "name": "stdout"
        }
      ]
    },
    {
      "cell_type": "markdown",
      "metadata": {
        "id": "AyJl2bs-B0hj",
        "colab_type": "text"
      },
      "source": [
        "All the relationships are significant. Additionally Limit and Rating have a remarkably high correlation coefficient."
      ]
    },
    {
      "cell_type": "code",
      "metadata": {
        "id": "BZBLbUW_Bwsv",
        "colab_type": "code",
        "colab": {
          "base_uri": "https://localhost:8080/",
          "height": 296
        },
        "outputId": "f36bddb9-34a6-4c9b-b8df-bc7d1d0ccaf4"
      },
      "source": [
        "sns.regplot(x='Limit',\n",
        "           y='Rating',\n",
        "           data=credit_df,\n",
        "           scatter_kws={'alpha':0.2},\n",
        "           line_kws={'color':'black'})"
      ],
      "execution_count": 21,
      "outputs": [
        {
          "output_type": "execute_result",
          "data": {
            "text/plain": [
              "<matplotlib.axes._subplots.AxesSubplot at 0x7fd8087ce128>"
            ]
          },
          "metadata": {
            "tags": []
          },
          "execution_count": 21
        },
        {
          "output_type": "display_data",
          "data": {
            "image/png": "[encoded data removed]",
            "text/plain": [
              "<Figure size 432x288 with 1 Axes>"
            ]
          },
          "metadata": {
            "tags": [],
            "needs_background": "light"
          }
        }
      ]
    },
    {
      "cell_type": "markdown",
      "metadata": {
        "id": "moixKErKCEh9",
        "colab_type": "text"
      },
      "source": [
        "Limit and Rating are highly correlated, introducing multi-colinearity in the model. More specifically, Rating as an antecedent of Limit is more meaningful for the model because it also drives Limit levels for card owners. Therefore, if one of the two should be removed to fix collinearity issues, Limit has a lower priority for the model.\n",
        "For clarity, the analysis will focus less on Rating and Limit, and more on those measures representing more direct indicators of credit profiling.\n",
        "\n",
        "We will now examine the categorical variables and their relationship to balance."
      ]
    },
    {
      "cell_type": "code",
      "metadata": {
        "id": "hPs6Ft-cCDUc",
        "colab_type": "code",
        "colab": {
          "base_uri": "https://localhost:8080/",
          "height": 474
        },
        "outputId": "4fb8a22b-d621-4b12-a0ec-87dd87286d1b"
      },
      "source": [
        "f, axes = plt.subplots(2, 2, figsize=(15, 6))\n",
        "f.subplots_adjust(hspace=.3, wspace=.25)\n",
        "credit_df.groupby('Gender').Balance.plot(kind='kde', ax=axes[0][0], legend=True, title='Balance by Gender')\n",
        "credit_df.groupby('Student').Balance.plot(kind='kde', ax=axes[0][1], legend=True, title='Balance by Student')\n",
        "credit_df.groupby('Married').Balance.plot(kind='kde', ax=axes[1][0], legend=True, title='Balance by Married')\n",
        "credit_df.groupby('Ethnicity').Balance.plot(kind='kde', ax=axes[1][1], legend=True, title='Balance by Ethnicity')"
      ],
      "execution_count": 22,
      "outputs": [
        {
          "output_type": "execute_result",
          "data": {
            "text/plain": [
              "Ethnicity\n",
              "African American    AxesSubplot(0.555556,0.125;0.344444x0.328261)\n",
              "Asian               AxesSubplot(0.555556,0.125;0.344444x0.328261)\n",
              "Caucasian           AxesSubplot(0.555556,0.125;0.344444x0.328261)\n",
              "Name: Balance, dtype: object"
            ]
          },
          "metadata": {
            "tags": []
          },
          "execution_count": 22
        },
        {
          "output_type": "display_data",
          "data": {
            "image/png": "[encoded data removed]",
            "text/plain": [
              "<Figure size 1080x432 with 4 Axes>"
            ]
          },
          "metadata": {
            "tags": [],
            "needs_background": "light"
          }
        }
      ]
    },
    {
      "cell_type": "markdown",
      "metadata": {
        "id": "nChqWsnrCXse",
        "colab_type": "text"
      },
      "source": [
        "Student appears to be the only predictor to influence the distribution of Balance. To verify, the same relationships can be analyzed on the active-only sample of the population"
      ]
    },
    {
      "cell_type": "code",
      "metadata": {
        "id": "OUvv8qvACWR4",
        "colab_type": "code",
        "colab": {
          "base_uri": "https://localhost:8080/",
          "height": 474
        },
        "outputId": "f2e60750-88e2-4131-91f9-707c6ecfe963"
      },
      "source": [
        "f, axes = plt.subplots(2, 2, figsize=(15, 6))\n",
        "f.subplots_adjust(hspace=.3, wspace=.25)\n",
        "active_credit_df.groupby('Gender').Balance.plot(kind='kde', ax=axes[0][0], legend=True, title='Balance by Gender')\n",
        "active_credit_df.groupby('Student').Balance.plot(kind='kde', ax=axes[0][1], legend=True, title='Balance by Student')\n",
        "active_credit_df.groupby('Married').Balance.plot(kind='kde', ax=axes[1][0], legend=True, title='Balance by Married')\n",
        "active_credit_df.groupby('Ethnicity').Balance.plot(kind='kde', ax=axes[1][1], legend=True, title='Balance by Ethnicity')"
      ],
      "execution_count": 23,
      "outputs": [
        {
          "output_type": "execute_result",
          "data": {
            "text/plain": [
              "Ethnicity\n",
              "African American    AxesSubplot(0.555556,0.125;0.344444x0.328261)\n",
              "Asian               AxesSubplot(0.555556,0.125;0.344444x0.328261)\n",
              "Caucasian           AxesSubplot(0.555556,0.125;0.344444x0.328261)\n",
              "Name: Balance, dtype: object"
            ]
          },
          "metadata": {
            "tags": []
          },
          "execution_count": 23
        },
        {
          "output_type": "display_data",
          "data": {
            "image/png": "[encoded data removed]",
            "text/plain": [
              "<Figure size 1080x432 with 4 Axes>"
            ]
          },
          "metadata": {
            "tags": [],
            "needs_background": "light"
          }
        }
      ]
    },
    {
      "cell_type": "markdown",
      "metadata": {
        "id": "3_5MPeZCCi_A",
        "colab_type": "text"
      },
      "source": [
        "Although the variables Gender, Married, and Ethnicity do not appear associated with Balance when observed in isolation, their interaction with one another might make them valuable. This will be investigated at a later point in the analysis.\n",
        "\n",
        "The Student variable should be closely examined at this point."
      ]
    },
    {
      "cell_type": "code",
      "metadata": {
        "id": "wdECOGZiClt1",
        "colab_type": "code",
        "colab": {
          "base_uri": "https://localhost:8080/",
          "height": 296
        },
        "outputId": "c8c9de86-4b5a-48cd-e0a1-0f92d20fac40"
      },
      "source": [
        "sns.boxplot(x='Student', y='Balance', data = credit_df)"
      ],
      "execution_count": 24,
      "outputs": [
        {
          "output_type": "execute_result",
          "data": {
            "text/plain": [
              "<matplotlib.axes._subplots.AxesSubplot at 0x7fd808509978>"
            ]
          },
          "metadata": {
            "tags": []
          },
          "execution_count": 24
        },
        {
          "output_type": "display_data",
          "data": {
            "image/png": "[encoded data removed]",
            "text/plain": [
              "<Figure size 432x288 with 1 Axes>"
            ]
          },
          "metadata": {
            "tags": [],
            "needs_background": "light"
          }
        }
      ]
    },
    {
      "cell_type": "markdown",
      "metadata": {
        "id": "BWaxzSjpC67J",
        "colab_type": "text"
      },
      "source": [
        "Students display on average higher credit card Balances. We infer that Students have a higher need for financing due to student loans and have generally lower personal income "
      ]
    },
    {
      "cell_type": "markdown",
      "metadata": {
        "id": "P9zxi2icDCc5",
        "colab_type": "text"
      },
      "source": [
        "**Multivariable Regression Model**"
      ]
    },
    {
      "cell_type": "markdown",
      "metadata": {
        "id": "1D_l7fZYD9nS",
        "colab_type": "text"
      },
      "source": [
        "After visually examining the predictors and their relationship with Balance, regression models can be fit using those predictors. feature selection will be used to determine which combination of variables best predicts credit card Balance.\n",
        "\n",
        "Given the choice of 9 predictors, the initial model could include all of them. Yet, as previously noted, due to potential collinearity issues, Limit will be eliminated."
      ]
    },
    {
      "cell_type": "code",
      "metadata": {
        "id": "L1DtHy1uC-52",
        "colab_type": "code",
        "colab": {
          "base_uri": "https://localhost:8080/",
          "height": 639
        },
        "outputId": "9618a1b6-2a77-4b5f-b916-ab7adcadc208"
      },
      "source": [
        "mod0 = smf.ols('Balance ~ Income + Rating + Cards + Age + Education + Gender + Student + Married + Ethnicity', data = credit_df).fit()\n",
        "mod0.summary()"
      ],
      "execution_count": 25,
      "outputs": [
        {
          "output_type": "execute_result",
          "data": {
            "text/html": [
              "<table class=\"simpletable\">\n",
              "<caption>OLS Regression Results</caption>\n",
              "<tr>\n",
              "  <th>Dep. Variable:</th>         <td>Balance</td>     <th>  R-squared:         </th> <td>   0.951</td> \n",
              "</tr>\n",
              "<tr>\n",
              "  <th>Model:</th>                   <td>OLS</td>       <th>  Adj. R-squared:    </th> <td>   0.950</td> \n",
              "</tr>\n",
              "<tr>\n",
              "  <th>Method:</th>             <td>Least Squares</td>  <th>  F-statistic:       </th> <td>   757.8</td> \n",
              "</tr>\n",
              "<tr>\n",
              "  <th>Date:</th>             <td>Tue, 18 Aug 2020</td> <th>  Prob (F-statistic):</th> <td>4.46e-248</td>\n",
              "</tr>\n",
              "<tr>\n",
              "  <th>Time:</th>                 <td>14:54:16</td>     <th>  Log-Likelihood:    </th> <td> -2415.4</td> \n",
              "</tr>\n",
              "<tr>\n",
              "  <th>No. Observations:</th>      <td>   400</td>      <th>  AIC:               </th> <td>   4853.</td> \n",
              "</tr>\n",
              "<tr>\n",
              "  <th>Df Residuals:</th>          <td>   389</td>      <th>  BIC:               </th> <td>   4897.</td> \n",
              "</tr>\n",
              "<tr>\n",
              "  <th>Df Model:</th>              <td>    10</td>      <th>                     </th>     <td> </td>    \n",
              "</tr>\n",
              "<tr>\n",
              "  <th>Covariance Type:</th>      <td>nonrobust</td>    <th>                     </th>     <td> </td>    \n",
              "</tr>\n",
              "</table>\n",
              "<table class=\"simpletable\">\n",
              "<tr>\n",
              "             <td></td>               <th>coef</th>     <th>std err</th>      <th>t</th>      <th>P>|t|</th>  <th>[0.025</th>    <th>0.975]</th>  \n",
              "</tr>\n",
              "<tr>\n",
              "  <th>Intercept</th>              <td> -549.3140</td> <td>   35.085</td> <td>  -15.657</td> <td> 0.000</td> <td> -618.293</td> <td> -480.335</td>\n",
              "</tr>\n",
              "<tr>\n",
              "  <th>Gender[T.Female]</th>       <td>  -10.7106</td> <td>   10.325</td> <td>   -1.037</td> <td> 0.300</td> <td>  -31.010</td> <td>    9.589</td>\n",
              "</tr>\n",
              "<tr>\n",
              "  <th>Student[T.Yes]</th>         <td>  416.4376</td> <td>   17.336</td> <td>   24.021</td> <td> 0.000</td> <td>  382.353</td> <td>  450.522</td>\n",
              "</tr>\n",
              "<tr>\n",
              "  <th>Married[T.Yes]</th>         <td>  -15.1096</td> <td>   10.728</td> <td>   -1.408</td> <td> 0.160</td> <td>  -36.202</td> <td>    5.983</td>\n",
              "</tr>\n",
              "<tr>\n",
              "  <th>Ethnicity[T.Asian]</th>     <td>   21.7616</td> <td>   14.678</td> <td>    1.483</td> <td> 0.139</td> <td>   -7.096</td> <td>   50.619</td>\n",
              "</tr>\n",
              "<tr>\n",
              "  <th>Ethnicity[T.Caucasian]</th> <td>   10.6492</td> <td>   12.716</td> <td>    0.837</td> <td> 0.403</td> <td>  -14.351</td> <td>   35.649</td>\n",
              "</tr>\n",
              "<tr>\n",
              "  <th>Income</th>                 <td>   -7.7746</td> <td>    0.244</td> <td>  -31.878</td> <td> 0.000</td> <td>   -8.254</td> <td>   -7.295</td>\n",
              "</tr>\n",
              "<tr>\n",
              "  <th>Rating</th>                 <td>    3.9790</td> <td>    0.055</td> <td>   72.332</td> <td> 0.000</td> <td>    3.871</td> <td>    4.087</td>\n",
              "</tr>\n",
              "<tr>\n",
              "  <th>Cards</th>                  <td>    3.9654</td> <td>    3.793</td> <td>    1.045</td> <td> 0.296</td> <td>   -3.492</td> <td>   11.422</td>\n",
              "</tr>\n",
              "<tr>\n",
              "  <th>Age</th>                    <td>   -0.6416</td> <td>    0.306</td> <td>   -2.096</td> <td> 0.037</td> <td>   -1.243</td> <td>   -0.040</td>\n",
              "</tr>\n",
              "<tr>\n",
              "  <th>Education</th>              <td>   -0.3799</td> <td>    1.659</td> <td>   -0.229</td> <td> 0.819</td> <td>   -3.642</td> <td>    2.882</td>\n",
              "</tr>\n",
              "</table>\n",
              "<table class=\"simpletable\">\n",
              "<tr>\n",
              "  <th>Omnibus:</th>       <td>15.651</td> <th>  Durbin-Watson:     </th> <td>   1.987</td>\n",
              "</tr>\n",
              "<tr>\n",
              "  <th>Prob(Omnibus):</th> <td> 0.000</td> <th>  Jarque-Bera (JB):  </th> <td>  16.769</td>\n",
              "</tr>\n",
              "<tr>\n",
              "  <th>Skew:</th>          <td> 0.490</td> <th>  Prob(JB):          </th> <td>0.000228</td>\n",
              "</tr>\n",
              "<tr>\n",
              "  <th>Kurtosis:</th>      <td> 2.789</td> <th>  Cond. No.          </th> <td>2.73e+03</td>\n",
              "</tr>\n",
              "</table><br/><br/>Warnings:<br/>[1] Standard Errors assume that the covariance matrix of the errors is correctly specified.<br/>[2] The condition number is large, 2.73e+03. This might indicate that there are<br/>strong multicollinearity or other numerical problems."
            ],
            "text/plain": [
              "<class 'statsmodels.iolib.summary.Summary'>\n",
              "\"\"\"\n",
              "                            OLS Regression Results                            \n",
              "==============================================================================\n",
              "Dep. Variable:                Balance   R-squared:                       0.951\n",
              "Model:                            OLS   Adj. R-squared:                  0.950\n",
              "Method:                 Least Squares   F-statistic:                     757.8\n",
              "Date:                Tue, 18 Aug 2020   Prob (F-statistic):          4.46e-248\n",
              "Time:                        14:54:16   Log-Likelihood:                -2415.4\n",
              "No. Observations:                 400   AIC:                             4853.\n",
              "Df Residuals:                     389   BIC:                             4897.\n",
              "Df Model:                          10                                         \n",
              "Covariance Type:            nonrobust                                         \n",
              "==========================================================================================\n",
              "                             coef    std err          t      P>|t|      [0.025      0.975]\n",
              "------------------------------------------------------------------------------------------\n",
              "Intercept               -549.3140     35.085    -15.657      0.000    -618.293    -480.335\n",
              "Gender[T.Female]         -10.7106     10.325     -1.037      0.300     -31.010       9.589\n",
              "Student[T.Yes]           416.4376     17.336     24.021      0.000     382.353     450.522\n",
              "Married[T.Yes]           -15.1096     10.728     -1.408      0.160     -36.202       5.983\n",
              "Ethnicity[T.Asian]        21.7616     14.678      1.483      0.139      -7.096      50.619\n",
              "Ethnicity[T.Caucasian]    10.6492     12.716      0.837      0.403     -14.351      35.649\n",
              "Income                    -7.7746      0.244    -31.878      0.000      -8.254      -7.295\n",
              "Rating                     3.9790      0.055     72.332      0.000       3.871       4.087\n",
              "Cards                      3.9654      3.793      1.045      0.296      -3.492      11.422\n",
              "Age                       -0.6416      0.306     -2.096      0.037      -1.243      -0.040\n",
              "Education                 -0.3799      1.659     -0.229      0.819      -3.642       2.882\n",
              "==============================================================================\n",
              "Omnibus:                       15.651   Durbin-Watson:                   1.987\n",
              "Prob(Omnibus):                  0.000   Jarque-Bera (JB):               16.769\n",
              "Skew:                           0.490   Prob(JB):                     0.000228\n",
              "Kurtosis:                       2.789   Cond. No.                     2.73e+03\n",
              "==============================================================================\n",
              "\n",
              "Warnings:\n",
              "[1] Standard Errors assume that the covariance matrix of the errors is correctly specified.\n",
              "[2] The condition number is large, 2.73e+03. This might indicate that there are\n",
              "strong multicollinearity or other numerical problems.\n",
              "\"\"\""
            ]
          },
          "metadata": {
            "tags": []
          },
          "execution_count": 25
        }
      ]
    },
    {
      "cell_type": "markdown",
      "metadata": {
        "id": "RELw2q3SENAy",
        "colab_type": "text"
      },
      "source": [
        "Income is negatively related to balance which could be interpreted in the sense that the higher the Income, the lower the need to access loans.\n",
        "\n",
        "Student has an expected positive impact. Similarly, these results are consistent with Age. This variable reveals that with Age, the credit card Balance decreases which corroborate the notion that people become more in charge of their finances over time.\n",
        "\n",
        "Surprisingly, the years of Education do not have a significant impact on the credit card Balance. Other variables with no impact are Cards, Ethnicity, Gender and Married.\n",
        "\n",
        "We fit the same model on our reduced dataset of only active customers."
      ]
    },
    {
      "cell_type": "code",
      "metadata": {
        "id": "ofMOSEXxEL4F",
        "colab_type": "code",
        "colab": {
          "base_uri": "https://localhost:8080/",
          "height": 639
        },
        "outputId": "2b30fe9a-ee5f-4fca-fd23-956221832e2a"
      },
      "source": [
        "active_mod0 = smf.ols('Balance ~ Income + Rating + Cards + Age + Education + Gender + Student + Married + Ethnicity', data = active_credit_df).fit()\n",
        "active_mod0.summary()"
      ],
      "execution_count": 26,
      "outputs": [
        {
          "output_type": "execute_result",
          "data": {
            "text/html": [
              "<table class=\"simpletable\">\n",
              "<caption>OLS Regression Results</caption>\n",
              "<tr>\n",
              "  <th>Dep. Variable:</th>         <td>Balance</td>     <th>  R-squared:         </th> <td>   0.985</td> \n",
              "</tr>\n",
              "<tr>\n",
              "  <th>Model:</th>                   <td>OLS</td>       <th>  Adj. R-squared:    </th> <td>   0.984</td> \n",
              "</tr>\n",
              "<tr>\n",
              "  <th>Method:</th>             <td>Least Squares</td>  <th>  F-statistic:       </th> <td>   1918.</td> \n",
              "</tr>\n",
              "<tr>\n",
              "  <th>Date:</th>             <td>Tue, 18 Aug 2020</td> <th>  Prob (F-statistic):</th> <td>1.38e-264</td>\n",
              "</tr>\n",
              "<tr>\n",
              "  <th>Time:</th>                 <td>14:55:21</td>     <th>  Log-Likelihood:    </th> <td> -1659.9</td> \n",
              "</tr>\n",
              "<tr>\n",
              "  <th>No. Observations:</th>      <td>   310</td>      <th>  AIC:               </th> <td>   3342.</td> \n",
              "</tr>\n",
              "<tr>\n",
              "  <th>Df Residuals:</th>          <td>   299</td>      <th>  BIC:               </th> <td>   3383.</td> \n",
              "</tr>\n",
              "<tr>\n",
              "  <th>Df Model:</th>              <td>    10</td>      <th>                     </th>     <td> </td>    \n",
              "</tr>\n",
              "<tr>\n",
              "  <th>Covariance Type:</th>      <td>nonrobust</td>    <th>                     </th>     <td> </td>    \n",
              "</tr>\n",
              "</table>\n",
              "<table class=\"simpletable\">\n",
              "<tr>\n",
              "             <td></td>               <th>coef</th>     <th>std err</th>      <th>t</th>      <th>P>|t|</th>  <th>[0.025</th>    <th>0.975]</th>  \n",
              "</tr>\n",
              "<tr>\n",
              "  <th>Intercept</th>              <td> -791.3689</td> <td>   21.193</td> <td>  -37.340</td> <td> 0.000</td> <td> -833.076</td> <td> -749.662</td>\n",
              "</tr>\n",
              "<tr>\n",
              "  <th>Gender[T.Female]</th>       <td>   -2.6107</td> <td>    5.961</td> <td>   -0.438</td> <td> 0.662</td> <td>  -14.341</td> <td>    9.119</td>\n",
              "</tr>\n",
              "<tr>\n",
              "  <th>Student[T.Yes]</th>         <td>  478.1566</td> <td>    9.239</td> <td>   51.752</td> <td> 0.000</td> <td>  459.974</td> <td>  496.339</td>\n",
              "</tr>\n",
              "<tr>\n",
              "  <th>Married[T.Yes]</th>         <td>  -14.0808</td> <td>    6.221</td> <td>   -2.263</td> <td> 0.024</td> <td>  -26.324</td> <td>   -1.837</td>\n",
              "</tr>\n",
              "<tr>\n",
              "  <th>Ethnicity[T.Asian]</th>     <td>    4.1786</td> <td>    8.590</td> <td>    0.486</td> <td> 0.627</td> <td>  -12.726</td> <td>   21.083</td>\n",
              "</tr>\n",
              "<tr>\n",
              "  <th>Ethnicity[T.Caucasian]</th> <td>   -1.8990</td> <td>    7.284</td> <td>   -0.261</td> <td> 0.794</td> <td>  -16.233</td> <td>   12.435</td>\n",
              "</tr>\n",
              "<tr>\n",
              "  <th>Income</th>                 <td>   -9.7126</td> <td>    0.145</td> <td>  -66.859</td> <td> 0.000</td> <td>   -9.999</td> <td>   -9.427</td>\n",
              "</tr>\n",
              "<tr>\n",
              "  <th>Rating</th>                 <td>    4.7767</td> <td>    0.040</td> <td>  120.602</td> <td> 0.000</td> <td>    4.699</td> <td>    4.855</td>\n",
              "</tr>\n",
              "<tr>\n",
              "  <th>Cards</th>                  <td>    3.0923</td> <td>    2.102</td> <td>    1.471</td> <td> 0.142</td> <td>   -1.045</td> <td>    7.229</td>\n",
              "</tr>\n",
              "<tr>\n",
              "  <th>Age</th>                    <td>   -1.1431</td> <td>    0.176</td> <td>   -6.481</td> <td> 0.000</td> <td>   -1.490</td> <td>   -0.796</td>\n",
              "</tr>\n",
              "<tr>\n",
              "  <th>Education</th>              <td>    1.2817</td> <td>    0.938</td> <td>    1.366</td> <td> 0.173</td> <td>   -0.564</td> <td>    3.128</td>\n",
              "</tr>\n",
              "</table>\n",
              "<table class=\"simpletable\">\n",
              "<tr>\n",
              "  <th>Omnibus:</th>       <td> 2.652</td> <th>  Durbin-Watson:     </th> <td>   2.008</td>\n",
              "</tr>\n",
              "<tr>\n",
              "  <th>Prob(Omnibus):</th> <td> 0.265</td> <th>  Jarque-Bera (JB):  </th> <td>   2.433</td>\n",
              "</tr>\n",
              "<tr>\n",
              "  <th>Skew:</th>          <td>-0.139</td> <th>  Prob(JB):          </th> <td>   0.296</td>\n",
              "</tr>\n",
              "<tr>\n",
              "  <th>Kurtosis:</th>      <td> 2.666</td> <th>  Cond. No.          </th> <td>3.14e+03</td>\n",
              "</tr>\n",
              "</table><br/><br/>Warnings:<br/>[1] Standard Errors assume that the covariance matrix of the errors is correctly specified.<br/>[2] The condition number is large, 3.14e+03. This might indicate that there are<br/>strong multicollinearity or other numerical problems."
            ],
            "text/plain": [
              "<class 'statsmodels.iolib.summary.Summary'>\n",
              "\"\"\"\n",
              "                            OLS Regression Results                            \n",
              "==============================================================================\n",
              "Dep. Variable:                Balance   R-squared:                       0.985\n",
              "Model:                            OLS   Adj. R-squared:                  0.984\n",
              "Method:                 Least Squares   F-statistic:                     1918.\n",
              "Date:                Tue, 18 Aug 2020   Prob (F-statistic):          1.38e-264\n",
              "Time:                        14:55:21   Log-Likelihood:                -1659.9\n",
              "No. Observations:                 310   AIC:                             3342.\n",
              "Df Residuals:                     299   BIC:                             3383.\n",
              "Df Model:                          10                                         \n",
              "Covariance Type:            nonrobust                                         \n",
              "==========================================================================================\n",
              "                             coef    std err          t      P>|t|      [0.025      0.975]\n",
              "------------------------------------------------------------------------------------------\n",
              "Intercept               -791.3689     21.193    -37.340      0.000    -833.076    -749.662\n",
              "Gender[T.Female]          -2.6107      5.961     -0.438      0.662     -14.341       9.119\n",
              "Student[T.Yes]           478.1566      9.239     51.752      0.000     459.974     496.339\n",
              "Married[T.Yes]           -14.0808      6.221     -2.263      0.024     -26.324      -1.837\n",
              "Ethnicity[T.Asian]         4.1786      8.590      0.486      0.627     -12.726      21.083\n",
              "Ethnicity[T.Caucasian]    -1.8990      7.284     -0.261      0.794     -16.233      12.435\n",
              "Income                    -9.7126      0.145    -66.859      0.000      -9.999      -9.427\n",
              "Rating                     4.7767      0.040    120.602      0.000       4.699       4.855\n",
              "Cards                      3.0923      2.102      1.471      0.142      -1.045       7.229\n",
              "Age                       -1.1431      0.176     -6.481      0.000      -1.490      -0.796\n",
              "Education                  1.2817      0.938      1.366      0.173      -0.564       3.128\n",
              "==============================================================================\n",
              "Omnibus:                        2.652   Durbin-Watson:                   2.008\n",
              "Prob(Omnibus):                  0.265   Jarque-Bera (JB):                2.433\n",
              "Skew:                          -0.139   Prob(JB):                        0.296\n",
              "Kurtosis:                       2.666   Cond. No.                     3.14e+03\n",
              "==============================================================================\n",
              "\n",
              "Warnings:\n",
              "[1] Standard Errors assume that the covariance matrix of the errors is correctly specified.\n",
              "[2] The condition number is large, 3.14e+03. This might indicate that there are\n",
              "strong multicollinearity or other numerical problems.\n",
              "\"\"\""
            ]
          },
          "metadata": {
            "tags": []
          },
          "execution_count": 26
        }
      ]
    },
    {
      "cell_type": "markdown",
      "metadata": {
        "id": "Hwk1y2Y1Ebs2",
        "colab_type": "text"
      },
      "source": [
        "The model has a superior fit for the Active customers dataset. This points to the hypothesis that perhaps the non-active customers are driven by some reason other than the ones present in our variables. Since they rarely make use of their credit card, it is difficult to draw conclusions. Perhaps they, in fact, have credit card debt, yet we do not have the relevant data, potentially their credit card is provided by a different company. An alternative explanation could be that the card owners maintain a zero-balance card in order to decrease their credit utilization and boost their credit rating, assuming they also own a positive balance credit card elsewhere.\n",
        "\n",
        "We could exclude the variables which yield a high p-value from the model. Nevertheless, these variables could have an interaction with other variables and might still be significant.\n",
        "\n",
        "We continue by fitting a model with only the variables that proved significant, yet as part of the analysis, we will return to examining the other variables."
      ]
    },
    {
      "cell_type": "code",
      "metadata": {
        "id": "dHEu0pNnEdAH",
        "colab_type": "code",
        "colab": {
          "base_uri": "https://localhost:8080/",
          "height": 519
        },
        "outputId": "368f3a48-c32b-4244-e43a-4435e2d39608"
      },
      "source": [
        "mod1 = smf.ols('Balance ~ Income + Rating + Age + Student', data = credit_df).fit()\n",
        "mod1.summary()"
      ],
      "execution_count": 27,
      "outputs": [
        {
          "output_type": "execute_result",
          "data": {
            "text/html": [
              "<table class=\"simpletable\">\n",
              "<caption>OLS Regression Results</caption>\n",
              "<tr>\n",
              "  <th>Dep. Variable:</th>         <td>Balance</td>     <th>  R-squared:         </th> <td>   0.950</td> \n",
              "</tr>\n",
              "<tr>\n",
              "  <th>Model:</th>                   <td>OLS</td>       <th>  Adj. R-squared:    </th> <td>   0.950</td> \n",
              "</tr>\n",
              "<tr>\n",
              "  <th>Method:</th>             <td>Least Squares</td>  <th>  F-statistic:       </th> <td>   1892.</td> \n",
              "</tr>\n",
              "<tr>\n",
              "  <th>Date:</th>             <td>Tue, 18 Aug 2020</td> <th>  Prob (F-statistic):</th> <td>4.17e-256</td>\n",
              "</tr>\n",
              "<tr>\n",
              "  <th>Time:</th>                 <td>14:56:03</td>     <th>  Log-Likelihood:    </th> <td> -2418.6</td> \n",
              "</tr>\n",
              "<tr>\n",
              "  <th>No. Observations:</th>      <td>   400</td>      <th>  AIC:               </th> <td>   4847.</td> \n",
              "</tr>\n",
              "<tr>\n",
              "  <th>Df Residuals:</th>          <td>   395</td>      <th>  BIC:               </th> <td>   4867.</td> \n",
              "</tr>\n",
              "<tr>\n",
              "  <th>Df Model:</th>              <td>     4</td>      <th>                     </th>     <td> </td>    \n",
              "</tr>\n",
              "<tr>\n",
              "  <th>Covariance Type:</th>      <td>nonrobust</td>    <th>                     </th>     <td> </td>    \n",
              "</tr>\n",
              "</table>\n",
              "<table class=\"simpletable\">\n",
              "<tr>\n",
              "         <td></td>           <th>coef</th>     <th>std err</th>      <th>t</th>      <th>P>|t|</th>  <th>[0.025</th>    <th>0.975]</th>  \n",
              "</tr>\n",
              "<tr>\n",
              "  <th>Intercept</th>      <td> -547.3047</td> <td>   21.461</td> <td>  -25.503</td> <td> 0.000</td> <td> -589.496</td> <td> -505.113</td>\n",
              "</tr>\n",
              "<tr>\n",
              "  <th>Student[T.Yes]</th> <td>  417.5056</td> <td>   17.172</td> <td>   24.314</td> <td> 0.000</td> <td>  383.746</td> <td>  451.265</td>\n",
              "</tr>\n",
              "<tr>\n",
              "  <th>Income</th>         <td>   -7.7977</td> <td>    0.242</td> <td>  -32.198</td> <td> 0.000</td> <td>   -8.274</td> <td>   -7.322</td>\n",
              "</tr>\n",
              "<tr>\n",
              "  <th>Rating</th>         <td>    3.9807</td> <td>    0.055</td> <td>   72.927</td> <td> 0.000</td> <td>    3.873</td> <td>    4.088</td>\n",
              "</tr>\n",
              "<tr>\n",
              "  <th>Age</th>            <td>   -0.6242</td> <td>    0.304</td> <td>   -2.053</td> <td> 0.041</td> <td>   -1.222</td> <td>   -0.026</td>\n",
              "</tr>\n",
              "</table>\n",
              "<table class=\"simpletable\">\n",
              "<tr>\n",
              "  <th>Omnibus:</th>       <td>15.838</td> <th>  Durbin-Watson:     </th> <td>   1.953</td>\n",
              "</tr>\n",
              "<tr>\n",
              "  <th>Prob(Omnibus):</th> <td> 0.000</td> <th>  Jarque-Bera (JB):  </th> <td>  17.000</td>\n",
              "</tr>\n",
              "<tr>\n",
              "  <th>Skew:</th>          <td> 0.494</td> <th>  Prob(JB):          </th> <td>0.000203</td>\n",
              "</tr>\n",
              "<tr>\n",
              "  <th>Kurtosis:</th>      <td> 2.793</td> <th>  Cond. No.          </th> <td>1.66e+03</td>\n",
              "</tr>\n",
              "</table><br/><br/>Warnings:<br/>[1] Standard Errors assume that the covariance matrix of the errors is correctly specified.<br/>[2] The condition number is large, 1.66e+03. This might indicate that there are<br/>strong multicollinearity or other numerical problems."
            ],
            "text/plain": [
              "<class 'statsmodels.iolib.summary.Summary'>\n",
              "\"\"\"\n",
              "                            OLS Regression Results                            \n",
              "==============================================================================\n",
              "Dep. Variable:                Balance   R-squared:                       0.950\n",
              "Model:                            OLS   Adj. R-squared:                  0.950\n",
              "Method:                 Least Squares   F-statistic:                     1892.\n",
              "Date:                Tue, 18 Aug 2020   Prob (F-statistic):          4.17e-256\n",
              "Time:                        14:56:03   Log-Likelihood:                -2418.6\n",
              "No. Observations:                 400   AIC:                             4847.\n",
              "Df Residuals:                     395   BIC:                             4867.\n",
              "Df Model:                           4                                         \n",
              "Covariance Type:            nonrobust                                         \n",
              "==================================================================================\n",
              "                     coef    std err          t      P>|t|      [0.025      0.975]\n",
              "----------------------------------------------------------------------------------\n",
              "Intercept       -547.3047     21.461    -25.503      0.000    -589.496    -505.113\n",
              "Student[T.Yes]   417.5056     17.172     24.314      0.000     383.746     451.265\n",
              "Income            -7.7977      0.242    -32.198      0.000      -8.274      -7.322\n",
              "Rating             3.9807      0.055     72.927      0.000       3.873       4.088\n",
              "Age               -0.6242      0.304     -2.053      0.041      -1.222      -0.026\n",
              "==============================================================================\n",
              "Omnibus:                       15.838   Durbin-Watson:                   1.953\n",
              "Prob(Omnibus):                  0.000   Jarque-Bera (JB):               17.000\n",
              "Skew:                           0.494   Prob(JB):                     0.000203\n",
              "Kurtosis:                       2.793   Cond. No.                     1.66e+03\n",
              "==============================================================================\n",
              "\n",
              "Warnings:\n",
              "[1] Standard Errors assume that the covariance matrix of the errors is correctly specified.\n",
              "[2] The condition number is large, 1.66e+03. This might indicate that there are\n",
              "strong multicollinearity or other numerical problems.\n",
              "\"\"\""
            ]
          },
          "metadata": {
            "tags": []
          },
          "execution_count": 27
        }
      ]
    },
    {
      "cell_type": "markdown",
      "metadata": {
        "id": "8cmTwTp1EjlS",
        "colab_type": "text"
      },
      "source": [
        "Now all the variables are significant, but the R-squared has, in fact, decreased.\n",
        "\n",
        "The potential relationships among these 4 variables should be analyzed."
      ]
    },
    {
      "cell_type": "code",
      "metadata": {
        "id": "b2JCoG5eEo52",
        "colab_type": "code",
        "colab": {
          "base_uri": "https://localhost:8080/",
          "height": 725
        },
        "outputId": "5955bf88-643a-4dd4-b1b9-8ec43a9eea4b"
      },
      "source": [
        "f, axes = plt.subplots(3, 2, figsize=(12, 10))\n",
        "f.subplots_adjust(hspace=.5, wspace=.25)\n",
        "credit_df.groupby('Student').Income.plot(kind='kde', ax=axes[0][0], title='Income by Student')\n",
        "credit_df.groupby('Student').Rating.plot(kind='kde', ax=axes[0][1], title='Rating by Student')\n",
        "credit_df.plot(kind='scatter', x='Age' , y='Income' , ax=axes[1][0], title='Income and Age')\n",
        "credit_df.plot(kind='scatter', x='Age' , y='Rating' , ax=axes[1][1], color='orange', title='Rating and Age')\n",
        "credit_df.plot(kind='scatter', x='Rating' , y='Income' , ax=axes[2][0], color='orange', title='Income and Rating')\n",
        "credit_df.groupby('Student').Age.plot(kind='kde', ax=axes[2][1], legend=True, title='Age by Student')"
      ],
      "execution_count": 28,
      "outputs": [
        {
          "output_type": "stream",
          "text": [
            "*c* argument looks like a single numeric RGB or RGBA sequence, which should be avoided as value-mapping will have precedence in case its length matches with *x* & *y*.  Please use the *color* keyword-argument or provide a 2-D array with a single row if you intend to specify the same RGB or RGBA value for all points.\n"
          ],
          "name": "stderr"
        },
        {
          "output_type": "execute_result",
          "data": {
            "text/plain": [
              "Student\n",
              "No     AxesSubplot(0.555556,0.125;0.344444x0.18875)\n",
              "Yes    AxesSubplot(0.555556,0.125;0.344444x0.18875)\n",
              "Name: Age, dtype: object"
            ]
          },
          "metadata": {
            "tags": []
          },
          "execution_count": 28
        },
        {
          "output_type": "display_data",
          "data": {
            "image/png": "[encoded data removed]",
            "text/plain": [
              "<Figure size 864x720 with 6 Axes>"
            ]
          },
          "metadata": {
            "tags": [],
            "needs_background": "light"
          }
        }
      ]
    },
    {
      "cell_type": "markdown",
      "metadata": {
        "id": "FeVlO6zhE2JD",
        "colab_type": "text"
      },
      "source": [
        "As expected, we notice a positive relationship between Income and Rating. This could be explained by the fact that credit Rating is a score assigned to individuals based on their creditworthiness, including the level of personal Income.\n",
        "\n",
        "Furthermore, as we predicted earlier, Students display lower values of Income compared to non-Students.\n",
        "\n",
        "Surprisingly, in this dataset, the Income does not Increase with Age, and the Age of Students compared to non-Students does not differ significantly. This observation could lead us to be concerned about the data quality or to seek further attributes of this population to conduct additional investigation. Nonetheless, given the simulated nature of this dataset additional inquiries are not feasible, yet it is worth noting that on a different population, we expect a stronger relationship among Age, Student, and Income."
      ]
    },
    {
      "cell_type": "code",
      "metadata": {
        "id": "RzBIR55bE3jH",
        "colab_type": "code",
        "colab": {
          "base_uri": "https://localhost:8080/",
          "height": 386
        },
        "outputId": "e7e03946-fe74-44c0-d12a-396a23ac845e"
      },
      "source": [
        "sns.lmplot(x='Income',\n",
        "          y='Balance',\n",
        "          data=active_credit_df,\n",
        "          line_kws={'color':'black'},\n",
        "          lowess=True,\n",
        "          col='Student')"
      ],
      "execution_count": 29,
      "outputs": [
        {
          "output_type": "execute_result",
          "data": {
            "text/plain": [
              "<seaborn.axisgrid.FacetGrid at 0x7fd808598588>"
            ]
          },
          "metadata": {
            "tags": []
          },
          "execution_count": 29
        },
        {
          "output_type": "display_data",
          "data": {
            "image/png": "[encoded data removed]",
            "text/plain": [
              "<Figure size 720x360 with 2 Axes>"
            ]
          },
          "metadata": {
            "tags": [],
            "needs_background": "light"
          }
        }
      ]
    },
    {
      "cell_type": "markdown",
      "metadata": {
        "id": "e2JyZPPfFBFd",
        "colab_type": "text"
      },
      "source": [
        "We observe a positive relationship between Balance and Income for non-Students, however, in the case of Students, changes in Income do not impact their average credit card Balance. A further step would be to fit a regression model on non-Students only and observe Balance. For Students, the line appears to behave differently in 3 sections, so perhaps a Spline model might be appropriate. However, the sample size of Students is not large enough (no. of observations = 40) for the results to add significant value to the overall analysis.\n",
        "\n",
        "An interesting observation is that the regression analysis showed that Income was negatively related to Balance, yet this figure appears to show a positive relationship. We should verify whether the relationship is in fact non-linear."
      ]
    },
    {
      "cell_type": "markdown",
      "metadata": {
        "id": "ACwVk8FGFD4u",
        "colab_type": "text"
      },
      "source": [
        "**Non-linear Relationships**"
      ]
    },
    {
      "cell_type": "code",
      "metadata": {
        "id": "KA_h7vPFFL77",
        "colab_type": "code",
        "colab": {
          "base_uri": "https://localhost:8080/",
          "height": 539
        },
        "outputId": "61d62918-b2a0-467f-a5dd-fd2d01e6d168"
      },
      "source": [
        "mod2 = smf.ols('Balance ~ Income + I(Income**2) + Age + Student + Rating', data = credit_df).fit()\n",
        "mod2.summary()"
      ],
      "execution_count": 30,
      "outputs": [
        {
          "output_type": "execute_result",
          "data": {
            "text/html": [
              "<table class=\"simpletable\">\n",
              "<caption>OLS Regression Results</caption>\n",
              "<tr>\n",
              "  <th>Dep. Variable:</th>         <td>Balance</td>     <th>  R-squared:         </th> <td>   0.951</td> \n",
              "</tr>\n",
              "<tr>\n",
              "  <th>Model:</th>                   <td>OLS</td>       <th>  Adj. R-squared:    </th> <td>   0.950</td> \n",
              "</tr>\n",
              "<tr>\n",
              "  <th>Method:</th>             <td>Least Squares</td>  <th>  F-statistic:       </th> <td>   1524.</td> \n",
              "</tr>\n",
              "<tr>\n",
              "  <th>Date:</th>             <td>Tue, 18 Aug 2020</td> <th>  Prob (F-statistic):</th> <td>3.68e-255</td>\n",
              "</tr>\n",
              "<tr>\n",
              "  <th>Time:</th>                 <td>14:59:21</td>     <th>  Log-Likelihood:    </th> <td> -2416.9</td> \n",
              "</tr>\n",
              "<tr>\n",
              "  <th>No. Observations:</th>      <td>   400</td>      <th>  AIC:               </th> <td>   4846.</td> \n",
              "</tr>\n",
              "<tr>\n",
              "  <th>Df Residuals:</th>          <td>   394</td>      <th>  BIC:               </th> <td>   4870.</td> \n",
              "</tr>\n",
              "<tr>\n",
              "  <th>Df Model:</th>              <td>     5</td>      <th>                     </th>     <td> </td>    \n",
              "</tr>\n",
              "<tr>\n",
              "  <th>Covariance Type:</th>      <td>nonrobust</td>    <th>                     </th>     <td> </td>    \n",
              "</tr>\n",
              "</table>\n",
              "<table class=\"simpletable\">\n",
              "<tr>\n",
              "         <td></td>           <th>coef</th>     <th>std err</th>      <th>t</th>      <th>P>|t|</th>  <th>[0.025</th>    <th>0.975]</th>  \n",
              "</tr>\n",
              "<tr>\n",
              "  <th>Intercept</th>      <td> -527.6722</td> <td>   23.950</td> <td>  -22.032</td> <td> 0.000</td> <td> -574.757</td> <td> -480.587</td>\n",
              "</tr>\n",
              "<tr>\n",
              "  <th>Student[T.Yes]</th> <td>  416.9706</td> <td>   17.124</td> <td>   24.350</td> <td> 0.000</td> <td>  383.305</td> <td>  450.636</td>\n",
              "</tr>\n",
              "<tr>\n",
              "  <th>Income</th>         <td>   -8.6268</td> <td>    0.514</td> <td>  -16.768</td> <td> 0.000</td> <td>   -9.638</td> <td>   -7.615</td>\n",
              "</tr>\n",
              "<tr>\n",
              "  <th>I(Income ** 2)</th> <td>    0.0055</td> <td>    0.003</td> <td>    1.825</td> <td> 0.069</td> <td>   -0.000</td> <td>    0.011</td>\n",
              "</tr>\n",
              "<tr>\n",
              "  <th>Age</th>            <td>   -0.6161</td> <td>    0.303</td> <td>   -2.032</td> <td> 0.043</td> <td>   -1.212</td> <td>   -0.020</td>\n",
              "</tr>\n",
              "<tr>\n",
              "  <th>Rating</th>         <td>    3.9790</td> <td>    0.054</td> <td>   73.098</td> <td> 0.000</td> <td>    3.872</td> <td>    4.086</td>\n",
              "</tr>\n",
              "</table>\n",
              "<table class=\"simpletable\">\n",
              "<tr>\n",
              "  <th>Omnibus:</th>       <td>14.185</td> <th>  Durbin-Watson:     </th> <td>   1.954</td>\n",
              "</tr>\n",
              "<tr>\n",
              "  <th>Prob(Omnibus):</th> <td> 0.001</td> <th>  Jarque-Bera (JB):  </th> <td>  14.920</td>\n",
              "</tr>\n",
              "<tr>\n",
              "  <th>Skew:</th>          <td> 0.456</td> <th>  Prob(JB):          </th> <td>0.000576</td>\n",
              "</tr>\n",
              "<tr>\n",
              "  <th>Kurtosis:</th>      <td> 2.748</td> <th>  Cond. No.          </th> <td>3.05e+04</td>\n",
              "</tr>\n",
              "</table><br/><br/>Warnings:<br/>[1] Standard Errors assume that the covariance matrix of the errors is correctly specified.<br/>[2] The condition number is large, 3.05e+04. This might indicate that there are<br/>strong multicollinearity or other numerical problems."
            ],
            "text/plain": [
              "<class 'statsmodels.iolib.summary.Summary'>\n",
              "\"\"\"\n",
              "                            OLS Regression Results                            \n",
              "==============================================================================\n",
              "Dep. Variable:                Balance   R-squared:                       0.951\n",
              "Model:                            OLS   Adj. R-squared:                  0.950\n",
              "Method:                 Least Squares   F-statistic:                     1524.\n",
              "Date:                Tue, 18 Aug 2020   Prob (F-statistic):          3.68e-255\n",
              "Time:                        14:59:21   Log-Likelihood:                -2416.9\n",
              "No. Observations:                 400   AIC:                             4846.\n",
              "Df Residuals:                     394   BIC:                             4870.\n",
              "Df Model:                           5                                         \n",
              "Covariance Type:            nonrobust                                         \n",
              "==================================================================================\n",
              "                     coef    std err          t      P>|t|      [0.025      0.975]\n",
              "----------------------------------------------------------------------------------\n",
              "Intercept       -527.6722     23.950    -22.032      0.000    -574.757    -480.587\n",
              "Student[T.Yes]   416.9706     17.124     24.350      0.000     383.305     450.636\n",
              "Income            -8.6268      0.514    -16.768      0.000      -9.638      -7.615\n",
              "I(Income ** 2)     0.0055      0.003      1.825      0.069      -0.000       0.011\n",
              "Age               -0.6161      0.303     -2.032      0.043      -1.212      -0.020\n",
              "Rating             3.9790      0.054     73.098      0.000       3.872       4.086\n",
              "==============================================================================\n",
              "Omnibus:                       14.185   Durbin-Watson:                   1.954\n",
              "Prob(Omnibus):                  0.001   Jarque-Bera (JB):               14.920\n",
              "Skew:                           0.456   Prob(JB):                     0.000576\n",
              "Kurtosis:                       2.748   Cond. No.                     3.05e+04\n",
              "==============================================================================\n",
              "\n",
              "Warnings:\n",
              "[1] Standard Errors assume that the covariance matrix of the errors is correctly specified.\n",
              "[2] The condition number is large, 3.05e+04. This might indicate that there are\n",
              "strong multicollinearity or other numerical problems.\n",
              "\"\"\""
            ]
          },
          "metadata": {
            "tags": []
          },
          "execution_count": 30
        }
      ]
    },
    {
      "cell_type": "markdown",
      "metadata": {
        "id": "sSkS3H0FFS4A",
        "colab_type": "text"
      },
      "source": [
        "The model has improved and the non-linear term is marginally significant. Additionally, while Income has a negative impact on Balance, Income squared has a slightly positive impact. We expect Balance to have a negative slope initially, and a positive one at higher levels of Income. We can plot this relationship."
      ]
    },
    {
      "cell_type": "code",
      "metadata": {
        "id": "OdY1zmOAFUy_",
        "colab_type": "code",
        "colab": {
          "base_uri": "https://localhost:8080/",
          "height": 296
        },
        "outputId": "7bc2b1bb-b0cd-4faa-ddcd-24934f17bee4"
      },
      "source": [
        "sns.regplot('Balance', 'Income',\n",
        "           data = active_credit_df,\n",
        "           ci=None,\n",
        "           order=2,\n",
        "           line_kws={'color':'black'})"
      ],
      "execution_count": 31,
      "outputs": [
        {
          "output_type": "execute_result",
          "data": {
            "text/plain": [
              "<matplotlib.axes._subplots.AxesSubplot at 0x7fd80347d208>"
            ]
          },
          "metadata": {
            "tags": []
          },
          "execution_count": 31
        },
        {
          "output_type": "display_data",
          "data": {
            "image/png": "[encoded data removed]",
            "text/plain": [
              "<Figure size 432x288 with 1 Axes>"
            ]
          },
          "metadata": {
            "tags": [],
            "needs_background": "light"
          }
        }
      ]
    },
    {
      "cell_type": "markdown",
      "metadata": {
        "id": "p6mG4tAdFa5a",
        "colab_type": "text"
      },
      "source": [
        "As anticipated, at lower levels of Income, increases in personal Income cause a decrease in credit card Balance, which can be interpreted as individuals requiring less financing as they make use of personal finances instead of credit debt.\n",
        "\n",
        "However, at high levels of income, Balance increases, meaning that those individuals are in higher need of loans, potentially due to increased investment activities and a greater risk tolerance."
      ]
    },
    {
      "cell_type": "markdown",
      "metadata": {
        "id": "JduXaKJRFelb",
        "colab_type": "text"
      },
      "source": [
        "**Interactions Between Predictors**"
      ]
    },
    {
      "cell_type": "markdown",
      "metadata": {
        "id": "o8CNpeboF9mn",
        "colab_type": "text"
      },
      "source": [
        "An interaction term could be considered between Income and Rating. This stems from the assumption that there could be a synergy between Income and Rating"
      ]
    },
    {
      "cell_type": "code",
      "metadata": {
        "id": "tLGXFJl3Fg6Z",
        "colab_type": "code",
        "colab": {
          "base_uri": "https://localhost:8080/",
          "height": 559
        },
        "outputId": "9ba3fd89-61d4-43dc-a023-d75755e5ef4e"
      },
      "source": [
        "mod3 = smf.ols('Balance ~ Income + I(Income**2) + Age + Student + Income*Rating', data = credit_df).fit()\n",
        "mod3.summary()"
      ],
      "execution_count": 32,
      "outputs": [
        {
          "output_type": "execute_result",
          "data": {
            "text/html": [
              "<table class=\"simpletable\">\n",
              "<caption>OLS Regression Results</caption>\n",
              "<tr>\n",
              "  <th>Dep. Variable:</th>         <td>Balance</td>     <th>  R-squared:         </th> <td>   0.957</td> \n",
              "</tr>\n",
              "<tr>\n",
              "  <th>Model:</th>                   <td>OLS</td>       <th>  Adj. R-squared:    </th> <td>   0.956</td> \n",
              "</tr>\n",
              "<tr>\n",
              "  <th>Method:</th>             <td>Least Squares</td>  <th>  F-statistic:       </th> <td>   1458.</td> \n",
              "</tr>\n",
              "<tr>\n",
              "  <th>Date:</th>             <td>Tue, 18 Aug 2020</td> <th>  Prob (F-statistic):</th> <td>5.13e-265</td>\n",
              "</tr>\n",
              "<tr>\n",
              "  <th>Time:</th>                 <td>15:02:42</td>     <th>  Log-Likelihood:    </th> <td> -2390.0</td> \n",
              "</tr>\n",
              "<tr>\n",
              "  <th>No. Observations:</th>      <td>   400</td>      <th>  AIC:               </th> <td>   4794.</td> \n",
              "</tr>\n",
              "<tr>\n",
              "  <th>Df Residuals:</th>          <td>   393</td>      <th>  BIC:               </th> <td>   4822.</td> \n",
              "</tr>\n",
              "<tr>\n",
              "  <th>Df Model:</th>              <td>     6</td>      <th>                     </th>     <td> </td>    \n",
              "</tr>\n",
              "<tr>\n",
              "  <th>Covariance Type:</th>      <td>nonrobust</td>    <th>                     </th>     <td> </td>    \n",
              "</tr>\n",
              "</table>\n",
              "<table class=\"simpletable\">\n",
              "<tr>\n",
              "         <td></td>           <th>coef</th>     <th>std err</th>      <th>t</th>      <th>P>|t|</th>  <th>[0.025</th>    <th>0.975]</th>  \n",
              "</tr>\n",
              "<tr>\n",
              "  <th>Intercept</th>      <td> -429.1239</td> <td>   25.969</td> <td>  -16.524</td> <td> 0.000</td> <td> -480.180</td> <td> -378.068</td>\n",
              "</tr>\n",
              "<tr>\n",
              "  <th>Student[T.Yes]</th> <td>  425.7135</td> <td>   16.073</td> <td>   26.487</td> <td> 0.000</td> <td>  394.114</td> <td>  457.313</td>\n",
              "</tr>\n",
              "<tr>\n",
              "  <th>Income</th>         <td>   -9.0837</td> <td>    0.485</td> <td>  -18.712</td> <td> 0.000</td> <td>  -10.038</td> <td>   -8.129</td>\n",
              "</tr>\n",
              "<tr>\n",
              "  <th>I(Income ** 2)</th> <td>   -0.0329</td> <td>    0.006</td> <td>   -5.638</td> <td> 0.000</td> <td>   -0.044</td> <td>   -0.021</td>\n",
              "</tr>\n",
              "<tr>\n",
              "  <th>Age</th>            <td>   -0.6821</td> <td>    0.284</td> <td>   -2.402</td> <td> 0.017</td> <td>   -1.240</td> <td>   -0.124</td>\n",
              "</tr>\n",
              "<tr>\n",
              "  <th>Rating</th>         <td>    3.4940</td> <td>    0.082</td> <td>   42.515</td> <td> 0.000</td> <td>    3.332</td> <td>    3.656</td>\n",
              "</tr>\n",
              "<tr>\n",
              "  <th>Income:Rating</th>  <td>    0.0110</td> <td>    0.001</td> <td>    7.521</td> <td> 0.000</td> <td>    0.008</td> <td>    0.014</td>\n",
              "</tr>\n",
              "</table>\n",
              "<table class=\"simpletable\">\n",
              "<tr>\n",
              "  <th>Omnibus:</th>       <td> 7.324</td> <th>  Durbin-Watson:     </th> <td>   1.967</td>\n",
              "</tr>\n",
              "<tr>\n",
              "  <th>Prob(Omnibus):</th> <td> 0.026</td> <th>  Jarque-Bera (JB):  </th> <td>   6.374</td>\n",
              "</tr>\n",
              "<tr>\n",
              "  <th>Skew:</th>          <td> 0.237</td> <th>  Prob(JB):          </th> <td>  0.0413</td>\n",
              "</tr>\n",
              "<tr>\n",
              "  <th>Kurtosis:</th>      <td> 2.604</td> <th>  Cond. No.          </th> <td>1.85e+05</td>\n",
              "</tr>\n",
              "</table><br/><br/>Warnings:<br/>[1] Standard Errors assume that the covariance matrix of the errors is correctly specified.<br/>[2] The condition number is large, 1.85e+05. This might indicate that there are<br/>strong multicollinearity or other numerical problems."
            ],
            "text/plain": [
              "<class 'statsmodels.iolib.summary.Summary'>\n",
              "\"\"\"\n",
              "                            OLS Regression Results                            \n",
              "==============================================================================\n",
              "Dep. Variable:                Balance   R-squared:                       0.957\n",
              "Model:                            OLS   Adj. R-squared:                  0.956\n",
              "Method:                 Least Squares   F-statistic:                     1458.\n",
              "Date:                Tue, 18 Aug 2020   Prob (F-statistic):          5.13e-265\n",
              "Time:                        15:02:42   Log-Likelihood:                -2390.0\n",
              "No. Observations:                 400   AIC:                             4794.\n",
              "Df Residuals:                     393   BIC:                             4822.\n",
              "Df Model:                           6                                         \n",
              "Covariance Type:            nonrobust                                         \n",
              "==================================================================================\n",
              "                     coef    std err          t      P>|t|      [0.025      0.975]\n",
              "----------------------------------------------------------------------------------\n",
              "Intercept       -429.1239     25.969    -16.524      0.000    -480.180    -378.068\n",
              "Student[T.Yes]   425.7135     16.073     26.487      0.000     394.114     457.313\n",
              "Income            -9.0837      0.485    -18.712      0.000     -10.038      -8.129\n",
              "I(Income ** 2)    -0.0329      0.006     -5.638      0.000      -0.044      -0.021\n",
              "Age               -0.6821      0.284     -2.402      0.017      -1.240      -0.124\n",
              "Rating             3.4940      0.082     42.515      0.000       3.332       3.656\n",
              "Income:Rating      0.0110      0.001      7.521      0.000       0.008       0.014\n",
              "==============================================================================\n",
              "Omnibus:                        7.324   Durbin-Watson:                   1.967\n",
              "Prob(Omnibus):                  0.026   Jarque-Bera (JB):                6.374\n",
              "Skew:                           0.237   Prob(JB):                       0.0413\n",
              "Kurtosis:                       2.604   Cond. No.                     1.85e+05\n",
              "==============================================================================\n",
              "\n",
              "Warnings:\n",
              "[1] Standard Errors assume that the covariance matrix of the errors is correctly specified.\n",
              "[2] The condition number is large, 1.85e+05. This might indicate that there are\n",
              "strong multicollinearity or other numerical problems.\n",
              "\"\"\""
            ]
          },
          "metadata": {
            "tags": []
          },
          "execution_count": 32
        }
      ]
    },
    {
      "cell_type": "markdown",
      "metadata": {
        "id": "p8MraPJUGEuT",
        "colab_type": "text"
      },
      "source": [
        "The Adjusted R-squared increased and the interaction term is statistically significant.\n",
        "\n",
        "We could examine how the variables that were originally removed interact with other variables, such as for example years spent in Education and personal Income."
      ]
    },
    {
      "cell_type": "code",
      "metadata": {
        "id": "AMvwyMWbGDeW",
        "colab_type": "code",
        "colab": {
          "base_uri": "https://localhost:8080/",
          "height": 579
        },
        "outputId": "e123a265-5e7c-4b80-bd93-927a80826e06"
      },
      "source": [
        "mod4 = smf.ols('Balance ~ Income + I(Income**2) + Rating + Age + Student + Education*Income', data = credit_df).fit()\n",
        "mod4.summary()"
      ],
      "execution_count": 33,
      "outputs": [
        {
          "output_type": "execute_result",
          "data": {
            "text/html": [
              "<table class=\"simpletable\">\n",
              "<caption>OLS Regression Results</caption>\n",
              "<tr>\n",
              "  <th>Dep. Variable:</th>         <td>Balance</td>     <th>  R-squared:         </th> <td>   0.951</td> \n",
              "</tr>\n",
              "<tr>\n",
              "  <th>Model:</th>                   <td>OLS</td>       <th>  Adj. R-squared:    </th> <td>   0.951</td> \n",
              "</tr>\n",
              "<tr>\n",
              "  <th>Method:</th>             <td>Least Squares</td>  <th>  F-statistic:       </th> <td>   1096.</td> \n",
              "</tr>\n",
              "<tr>\n",
              "  <th>Date:</th>             <td>Tue, 18 Aug 2020</td> <th>  Prob (F-statistic):</th> <td>5.89e-253</td>\n",
              "</tr>\n",
              "<tr>\n",
              "  <th>Time:</th>                 <td>15:03:11</td>     <th>  Log-Likelihood:    </th> <td> -2414.6</td> \n",
              "</tr>\n",
              "<tr>\n",
              "  <th>No. Observations:</th>      <td>   400</td>      <th>  AIC:               </th> <td>   4845.</td> \n",
              "</tr>\n",
              "<tr>\n",
              "  <th>Df Residuals:</th>          <td>   392</td>      <th>  BIC:               </th> <td>   4877.</td> \n",
              "</tr>\n",
              "<tr>\n",
              "  <th>Df Model:</th>              <td>     7</td>      <th>                     </th>     <td> </td>    \n",
              "</tr>\n",
              "<tr>\n",
              "  <th>Covariance Type:</th>      <td>nonrobust</td>    <th>                     </th>     <td> </td>    \n",
              "</tr>\n",
              "</table>\n",
              "<table class=\"simpletable\">\n",
              "<tr>\n",
              "          <td></td>            <th>coef</th>     <th>std err</th>      <th>t</th>      <th>P>|t|</th>  <th>[0.025</th>    <th>0.975]</th>  \n",
              "</tr>\n",
              "<tr>\n",
              "  <th>Intercept</th>        <td> -455.5497</td> <td>   44.548</td> <td>  -10.226</td> <td> 0.000</td> <td> -543.133</td> <td> -367.966</td>\n",
              "</tr>\n",
              "<tr>\n",
              "  <th>Student[T.Yes]</th>   <td>  416.8402</td> <td>   17.116</td> <td>   24.354</td> <td> 0.000</td> <td>  383.189</td> <td>  450.491</td>\n",
              "</tr>\n",
              "<tr>\n",
              "  <th>Income</th>           <td>   -9.9373</td> <td>    0.807</td> <td>  -12.308</td> <td> 0.000</td> <td>  -11.525</td> <td>   -8.350</td>\n",
              "</tr>\n",
              "<tr>\n",
              "  <th>I(Income ** 2)</th>   <td>    0.0060</td> <td>    0.003</td> <td>    1.977</td> <td> 0.049</td> <td> 3.17e-05</td> <td>    0.012</td>\n",
              "</tr>\n",
              "<tr>\n",
              "  <th>Rating</th>           <td>    3.9711</td> <td>    0.054</td> <td>   73.019</td> <td> 0.000</td> <td>    3.864</td> <td>    4.078</td>\n",
              "</tr>\n",
              "<tr>\n",
              "  <th>Age</th>              <td>   -0.6240</td> <td>    0.302</td> <td>   -2.064</td> <td> 0.040</td> <td>   -1.218</td> <td>   -0.030</td>\n",
              "</tr>\n",
              "<tr>\n",
              "  <th>Education</th>        <td>   -5.0695</td> <td>    2.673</td> <td>   -1.897</td> <td> 0.059</td> <td>  -10.324</td> <td>    0.185</td>\n",
              "</tr>\n",
              "<tr>\n",
              "  <th>Education:Income</th> <td>    0.0943</td> <td>    0.045</td> <td>    2.091</td> <td> 0.037</td> <td>    0.006</td> <td>    0.183</td>\n",
              "</tr>\n",
              "</table>\n",
              "<table class=\"simpletable\">\n",
              "<tr>\n",
              "  <th>Omnibus:</th>       <td>13.655</td> <th>  Durbin-Watson:     </th> <td>   1.959</td>\n",
              "</tr>\n",
              "<tr>\n",
              "  <th>Prob(Omnibus):</th> <td> 0.001</td> <th>  Jarque-Bera (JB):  </th> <td>  14.400</td>\n",
              "</tr>\n",
              "<tr>\n",
              "  <th>Skew:</th>          <td> 0.450</td> <th>  Prob(JB):          </th> <td>0.000747</td>\n",
              "</tr>\n",
              "<tr>\n",
              "  <th>Kurtosis:</th>      <td> 2.771</td> <th>  Cond. No.          </th> <td>5.70e+04</td>\n",
              "</tr>\n",
              "</table><br/><br/>Warnings:<br/>[1] Standard Errors assume that the covariance matrix of the errors is correctly specified.<br/>[2] The condition number is large, 5.7e+04. This might indicate that there are<br/>strong multicollinearity or other numerical problems."
            ],
            "text/plain": [
              "<class 'statsmodels.iolib.summary.Summary'>\n",
              "\"\"\"\n",
              "                            OLS Regression Results                            \n",
              "==============================================================================\n",
              "Dep. Variable:                Balance   R-squared:                       0.951\n",
              "Model:                            OLS   Adj. R-squared:                  0.951\n",
              "Method:                 Least Squares   F-statistic:                     1096.\n",
              "Date:                Tue, 18 Aug 2020   Prob (F-statistic):          5.89e-253\n",
              "Time:                        15:03:11   Log-Likelihood:                -2414.6\n",
              "No. Observations:                 400   AIC:                             4845.\n",
              "Df Residuals:                     392   BIC:                             4877.\n",
              "Df Model:                           7                                         \n",
              "Covariance Type:            nonrobust                                         \n",
              "====================================================================================\n",
              "                       coef    std err          t      P>|t|      [0.025      0.975]\n",
              "------------------------------------------------------------------------------------\n",
              "Intercept         -455.5497     44.548    -10.226      0.000    -543.133    -367.966\n",
              "Student[T.Yes]     416.8402     17.116     24.354      0.000     383.189     450.491\n",
              "Income              -9.9373      0.807    -12.308      0.000     -11.525      -8.350\n",
              "I(Income ** 2)       0.0060      0.003      1.977      0.049    3.17e-05       0.012\n",
              "Rating               3.9711      0.054     73.019      0.000       3.864       4.078\n",
              "Age                 -0.6240      0.302     -2.064      0.040      -1.218      -0.030\n",
              "Education           -5.0695      2.673     -1.897      0.059     -10.324       0.185\n",
              "Education:Income     0.0943      0.045      2.091      0.037       0.006       0.183\n",
              "==============================================================================\n",
              "Omnibus:                       13.655   Durbin-Watson:                   1.959\n",
              "Prob(Omnibus):                  0.001   Jarque-Bera (JB):               14.400\n",
              "Skew:                           0.450   Prob(JB):                     0.000747\n",
              "Kurtosis:                       2.771   Cond. No.                     5.70e+04\n",
              "==============================================================================\n",
              "\n",
              "Warnings:\n",
              "[1] Standard Errors assume that the covariance matrix of the errors is correctly specified.\n",
              "[2] The condition number is large, 5.7e+04. This might indicate that there are\n",
              "strong multicollinearity or other numerical problems.\n",
              "\"\"\""
            ]
          },
          "metadata": {
            "tags": []
          },
          "execution_count": 33
        }
      ]
    },
    {
      "cell_type": "markdown",
      "metadata": {
        "id": "MGf_ajHdGMAd",
        "colab_type": "text"
      },
      "source": [
        "Interestingly, while education did not appear significant at first, it does interact with Income, with a positive effect. Moreover, in this model Education itself seems marginally significant, meaning that the longer the time spent in education, the lower the Balance and the more financially cautious an individual is. Yet the effect reverses at high levels of Income and Education were highly educated high earning individuals appear to have higher needs for financing.\n",
        "\n",
        "Let us consider further interactions, such as the one between Married and Age."
      ]
    },
    {
      "cell_type": "code",
      "metadata": {
        "id": "C9vwLtrqGOam",
        "colab_type": "code",
        "colab": {
          "base_uri": "https://localhost:8080/",
          "height": 579
        },
        "outputId": "668cb487-1f85-414f-84a0-f3bc62bba60b"
      },
      "source": [
        "mod5 = smf.ols('Balance ~ Income + I(Income**2) + Rating + Age + Student + Married*Age', data = credit_df).fit()\n",
        "mod5.summary()\n"
      ],
      "execution_count": 34,
      "outputs": [
        {
          "output_type": "execute_result",
          "data": {
            "text/html": [
              "<table class=\"simpletable\">\n",
              "<caption>OLS Regression Results</caption>\n",
              "<tr>\n",
              "  <th>Dep. Variable:</th>         <td>Balance</td>     <th>  R-squared:         </th> <td>   0.952</td> \n",
              "</tr>\n",
              "<tr>\n",
              "  <th>Model:</th>                   <td>OLS</td>       <th>  Adj. R-squared:    </th> <td>   0.951</td> \n",
              "</tr>\n",
              "<tr>\n",
              "  <th>Method:</th>             <td>Least Squares</td>  <th>  F-statistic:       </th> <td>   1101.</td> \n",
              "</tr>\n",
              "<tr>\n",
              "  <th>Date:</th>             <td>Tue, 18 Aug 2020</td> <th>  Prob (F-statistic):</th> <td>2.35e-253</td>\n",
              "</tr>\n",
              "<tr>\n",
              "  <th>Time:</th>                 <td>15:03:45</td>     <th>  Log-Likelihood:    </th> <td> -2413.6</td> \n",
              "</tr>\n",
              "<tr>\n",
              "  <th>No. Observations:</th>      <td>   400</td>      <th>  AIC:               </th> <td>   4843.</td> \n",
              "</tr>\n",
              "<tr>\n",
              "  <th>Df Residuals:</th>          <td>   392</td>      <th>  BIC:               </th> <td>   4875.</td> \n",
              "</tr>\n",
              "<tr>\n",
              "  <th>Df Model:</th>              <td>     7</td>      <th>                     </th>     <td> </td>    \n",
              "</tr>\n",
              "<tr>\n",
              "  <th>Covariance Type:</th>      <td>nonrobust</td>    <th>                     </th>     <td> </td>    \n",
              "</tr>\n",
              "</table>\n",
              "<table class=\"simpletable\">\n",
              "<tr>\n",
              "           <td></td>             <th>coef</th>     <th>std err</th>      <th>t</th>      <th>P>|t|</th>  <th>[0.025</th>    <th>0.975]</th>  \n",
              "</tr>\n",
              "<tr>\n",
              "  <th>Intercept</th>          <td> -561.6504</td> <td>   32.973</td> <td>  -17.033</td> <td> 0.000</td> <td> -626.477</td> <td> -496.823</td>\n",
              "</tr>\n",
              "<tr>\n",
              "  <th>Student[T.Yes]</th>     <td>  417.3806</td> <td>   17.121</td> <td>   24.378</td> <td> 0.000</td> <td>  383.720</td> <td>  451.041</td>\n",
              "</tr>\n",
              "<tr>\n",
              "  <th>Married[T.Yes]</th>     <td>   58.2726</td> <td>   35.992</td> <td>    1.619</td> <td> 0.106</td> <td>  -12.489</td> <td>  129.035</td>\n",
              "</tr>\n",
              "<tr>\n",
              "  <th>Income</th>             <td>   -8.6631</td> <td>    0.512</td> <td>  -16.924</td> <td> 0.000</td> <td>   -9.670</td> <td>   -7.657</td>\n",
              "</tr>\n",
              "<tr>\n",
              "  <th>I(Income ** 2)</th>     <td>    0.0059</td> <td>    0.003</td> <td>    1.949</td> <td> 0.052</td> <td>-5.12e-05</td> <td>    0.012</td>\n",
              "</tr>\n",
              "<tr>\n",
              "  <th>Rating</th>             <td>    3.9786</td> <td>    0.054</td> <td>   73.496</td> <td> 0.000</td> <td>    3.872</td> <td>    4.085</td>\n",
              "</tr>\n",
              "<tr>\n",
              "  <th>Age</th>                <td>    0.1420</td> <td>    0.481</td> <td>    0.295</td> <td> 0.768</td> <td>   -0.804</td> <td>    1.088</td>\n",
              "</tr>\n",
              "<tr>\n",
              "  <th>Married[T.Yes]:Age</th> <td>   -1.2944</td> <td>    0.611</td> <td>   -2.118</td> <td> 0.035</td> <td>   -2.496</td> <td>   -0.093</td>\n",
              "</tr>\n",
              "</table>\n",
              "<table class=\"simpletable\">\n",
              "<tr>\n",
              "  <th>Omnibus:</th>       <td>12.889</td> <th>  Durbin-Watson:     </th> <td>   1.958</td>\n",
              "</tr>\n",
              "<tr>\n",
              "  <th>Prob(Omnibus):</th> <td> 0.002</td> <th>  Jarque-Bera (JB):  </th> <td>  13.569</td>\n",
              "</tr>\n",
              "<tr>\n",
              "  <th>Skew:</th>          <td> 0.438</td> <th>  Prob(JB):          </th> <td> 0.00113</td>\n",
              "</tr>\n",
              "<tr>\n",
              "  <th>Kurtosis:</th>      <td> 2.786</td> <th>  Cond. No.          </th> <td>5.73e+04</td>\n",
              "</tr>\n",
              "</table><br/><br/>Warnings:<br/>[1] Standard Errors assume that the covariance matrix of the errors is correctly specified.<br/>[2] The condition number is large, 5.73e+04. This might indicate that there are<br/>strong multicollinearity or other numerical problems."
            ],
            "text/plain": [
              "<class 'statsmodels.iolib.summary.Summary'>\n",
              "\"\"\"\n",
              "                            OLS Regression Results                            \n",
              "==============================================================================\n",
              "Dep. Variable:                Balance   R-squared:                       0.952\n",
              "Model:                            OLS   Adj. R-squared:                  0.951\n",
              "Method:                 Least Squares   F-statistic:                     1101.\n",
              "Date:                Tue, 18 Aug 2020   Prob (F-statistic):          2.35e-253\n",
              "Time:                        15:03:45   Log-Likelihood:                -2413.6\n",
              "No. Observations:                 400   AIC:                             4843.\n",
              "Df Residuals:                     392   BIC:                             4875.\n",
              "Df Model:                           7                                         \n",
              "Covariance Type:            nonrobust                                         \n",
              "======================================================================================\n",
              "                         coef    std err          t      P>|t|      [0.025      0.975]\n",
              "--------------------------------------------------------------------------------------\n",
              "Intercept           -561.6504     32.973    -17.033      0.000    -626.477    -496.823\n",
              "Student[T.Yes]       417.3806     17.121     24.378      0.000     383.720     451.041\n",
              "Married[T.Yes]        58.2726     35.992      1.619      0.106     -12.489     129.035\n",
              "Income                -8.6631      0.512    -16.924      0.000      -9.670      -7.657\n",
              "I(Income ** 2)         0.0059      0.003      1.949      0.052   -5.12e-05       0.012\n",
              "Rating                 3.9786      0.054     73.496      0.000       3.872       4.085\n",
              "Age                    0.1420      0.481      0.295      0.768      -0.804       1.088\n",
              "Married[T.Yes]:Age    -1.2944      0.611     -2.118      0.035      -2.496      -0.093\n",
              "==============================================================================\n",
              "Omnibus:                       12.889   Durbin-Watson:                   1.958\n",
              "Prob(Omnibus):                  0.002   Jarque-Bera (JB):               13.569\n",
              "Skew:                           0.438   Prob(JB):                      0.00113\n",
              "Kurtosis:                       2.786   Cond. No.                     5.73e+04\n",
              "==============================================================================\n",
              "\n",
              "Warnings:\n",
              "[1] Standard Errors assume that the covariance matrix of the errors is correctly specified.\n",
              "[2] The condition number is large, 5.73e+04. This might indicate that there are\n",
              "strong multicollinearity or other numerical problems.\n",
              "\"\"\""
            ]
          },
          "metadata": {
            "tags": []
          },
          "execution_count": 34
        }
      ]
    },
    {
      "cell_type": "markdown",
      "metadata": {
        "id": "pmsey74fGYOD",
        "colab_type": "text"
      },
      "source": [
        "While neither Married nor Age by themselves are significant, the interaction term is. This reveals the fact that individuals with higher values for Age who are also Married have lower credit card Balances pointing to higher financial prudence or risk aversion. We can visualize this relationship."
      ]
    },
    {
      "cell_type": "code",
      "metadata": {
        "id": "iJj7PQSMGUF1",
        "colab_type": "code",
        "colab": {
          "base_uri": "https://localhost:8080/",
          "height": 369
        },
        "outputId": "f2101777-0b46-4d5a-b5bb-7064c8f2dd8b"
      },
      "source": [
        "sns.lmplot(x=\"Age\", \n",
        "           y=\"Balance\", \n",
        "           hue=\"Married\", \n",
        "           ci=None,\n",
        "           data=active_credit_df);"
      ],
      "execution_count": 35,
      "outputs": [
        {
          "output_type": "display_data",
          "data": {
            "image/png": "[encoded data removed]",
            "text/plain": [
              "<Figure size 412x360 with 1 Axes>"
            ]
          },
          "metadata": {
            "tags": [],
            "needs_background": "light"
          }
        }
      ]
    },
    {
      "cell_type": "code",
      "metadata": {
        "id": "3zk3xXohGd9v",
        "colab_type": "code",
        "colab": {
          "base_uri": "https://localhost:8080/",
          "height": 599
        },
        "outputId": "918621d3-997a-42f7-b324-0dbbce8b27d2"
      },
      "source": [
        "mod6 = smf.ols('Balance ~ Income + I(Income**2) + Rating + Age + Student + Gender*Cards', data = credit_df).fit()\n",
        "mod6.summary()"
      ],
      "execution_count": 36,
      "outputs": [
        {
          "output_type": "execute_result",
          "data": {
            "text/html": [
              "<table class=\"simpletable\">\n",
              "<caption>OLS Regression Results</caption>\n",
              "<tr>\n",
              "  <th>Dep. Variable:</th>         <td>Balance</td>     <th>  R-squared:         </th> <td>   0.952</td> \n",
              "</tr>\n",
              "<tr>\n",
              "  <th>Model:</th>                   <td>OLS</td>       <th>  Adj. R-squared:    </th> <td>   0.951</td> \n",
              "</tr>\n",
              "<tr>\n",
              "  <th>Method:</th>             <td>Least Squares</td>  <th>  F-statistic:       </th> <td>   961.4</td> \n",
              "</tr>\n",
              "<tr>\n",
              "  <th>Date:</th>             <td>Tue, 18 Aug 2020</td> <th>  Prob (F-statistic):</th> <td>7.75e-252</td>\n",
              "</tr>\n",
              "<tr>\n",
              "  <th>Time:</th>                 <td>15:04:47</td>     <th>  Log-Likelihood:    </th> <td> -2413.6</td> \n",
              "</tr>\n",
              "<tr>\n",
              "  <th>No. Observations:</th>      <td>   400</td>      <th>  AIC:               </th> <td>   4845.</td> \n",
              "</tr>\n",
              "<tr>\n",
              "  <th>Df Residuals:</th>          <td>   391</td>      <th>  BIC:               </th> <td>   4881.</td> \n",
              "</tr>\n",
              "<tr>\n",
              "  <th>Df Model:</th>              <td>     8</td>      <th>                     </th>     <td> </td>    \n",
              "</tr>\n",
              "<tr>\n",
              "  <th>Covariance Type:</th>      <td>nonrobust</td>    <th>                     </th>     <td> </td>    \n",
              "</tr>\n",
              "</table>\n",
              "<table class=\"simpletable\">\n",
              "<tr>\n",
              "             <td></td>               <th>coef</th>     <th>std err</th>      <th>t</th>      <th>P>|t|</th>  <th>[0.025</th>    <th>0.975]</th>  \n",
              "</tr>\n",
              "<tr>\n",
              "  <th>Intercept</th>              <td> -505.5063</td> <td>   29.280</td> <td>  -17.264</td> <td> 0.000</td> <td> -563.073</td> <td> -447.939</td>\n",
              "</tr>\n",
              "<tr>\n",
              "  <th>Student[T.Yes]</th>         <td>  414.7916</td> <td>   17.165</td> <td>   24.165</td> <td> 0.000</td> <td>  381.045</td> <td>  448.538</td>\n",
              "</tr>\n",
              "<tr>\n",
              "  <th>Gender[T.Female]</th>       <td>  -56.9505</td> <td>   24.573</td> <td>   -2.318</td> <td> 0.021</td> <td> -105.262</td> <td>   -8.639</td>\n",
              "</tr>\n",
              "<tr>\n",
              "  <th>Income</th>                 <td>   -8.6253</td> <td>    0.514</td> <td>  -16.766</td> <td> 0.000</td> <td>   -9.637</td> <td>   -7.614</td>\n",
              "</tr>\n",
              "<tr>\n",
              "  <th>I(Income ** 2)</th>         <td>    0.0058</td> <td>    0.003</td> <td>    1.932</td> <td> 0.054</td> <td>   -0.000</td> <td>    0.012</td>\n",
              "</tr>\n",
              "<tr>\n",
              "  <th>Rating</th>                 <td>    3.9674</td> <td>    0.055</td> <td>   72.561</td> <td> 0.000</td> <td>    3.860</td> <td>    4.075</td>\n",
              "</tr>\n",
              "<tr>\n",
              "  <th>Age</th>                    <td>   -0.6826</td> <td>    0.303</td> <td>   -2.250</td> <td> 0.025</td> <td>   -1.279</td> <td>   -0.086</td>\n",
              "</tr>\n",
              "<tr>\n",
              "  <th>Cards</th>                  <td>   -3.2603</td> <td>    5.083</td> <td>   -0.641</td> <td> 0.522</td> <td>  -13.254</td> <td>    6.734</td>\n",
              "</tr>\n",
              "<tr>\n",
              "  <th>Gender[T.Female]:Cards</th> <td>   15.7543</td> <td>    7.584</td> <td>    2.077</td> <td> 0.038</td> <td>    0.843</td> <td>   30.666</td>\n",
              "</tr>\n",
              "</table>\n",
              "<table class=\"simpletable\">\n",
              "<tr>\n",
              "  <th>Omnibus:</th>       <td>13.489</td> <th>  Durbin-Watson:     </th> <td>   1.972</td>\n",
              "</tr>\n",
              "<tr>\n",
              "  <th>Prob(Omnibus):</th> <td> 0.001</td> <th>  Jarque-Bera (JB):  </th> <td>  14.150</td>\n",
              "</tr>\n",
              "<tr>\n",
              "  <th>Skew:</th>          <td> 0.444</td> <th>  Prob(JB):          </th> <td>0.000846</td>\n",
              "</tr>\n",
              "<tr>\n",
              "  <th>Kurtosis:</th>      <td> 2.755</td> <th>  Cond. No.          </th> <td>4.30e+04</td>\n",
              "</tr>\n",
              "</table><br/><br/>Warnings:<br/>[1] Standard Errors assume that the covariance matrix of the errors is correctly specified.<br/>[2] The condition number is large, 4.3e+04. This might indicate that there are<br/>strong multicollinearity or other numerical problems."
            ],
            "text/plain": [
              "<class 'statsmodels.iolib.summary.Summary'>\n",
              "\"\"\"\n",
              "                            OLS Regression Results                            \n",
              "==============================================================================\n",
              "Dep. Variable:                Balance   R-squared:                       0.952\n",
              "Model:                            OLS   Adj. R-squared:                  0.951\n",
              "Method:                 Least Squares   F-statistic:                     961.4\n",
              "Date:                Tue, 18 Aug 2020   Prob (F-statistic):          7.75e-252\n",
              "Time:                        15:04:47   Log-Likelihood:                -2413.6\n",
              "No. Observations:                 400   AIC:                             4845.\n",
              "Df Residuals:                     391   BIC:                             4881.\n",
              "Df Model:                           8                                         \n",
              "Covariance Type:            nonrobust                                         \n",
              "==========================================================================================\n",
              "                             coef    std err          t      P>|t|      [0.025      0.975]\n",
              "------------------------------------------------------------------------------------------\n",
              "Intercept               -505.5063     29.280    -17.264      0.000    -563.073    -447.939\n",
              "Student[T.Yes]           414.7916     17.165     24.165      0.000     381.045     448.538\n",
              "Gender[T.Female]         -56.9505     24.573     -2.318      0.021    -105.262      -8.639\n",
              "Income                    -8.6253      0.514    -16.766      0.000      -9.637      -7.614\n",
              "I(Income ** 2)             0.0058      0.003      1.932      0.054      -0.000       0.012\n",
              "Rating                     3.9674      0.055     72.561      0.000       3.860       4.075\n",
              "Age                       -0.6826      0.303     -2.250      0.025      -1.279      -0.086\n",
              "Cards                     -3.2603      5.083     -0.641      0.522     -13.254       6.734\n",
              "Gender[T.Female]:Cards    15.7543      7.584      2.077      0.038       0.843      30.666\n",
              "==============================================================================\n",
              "Omnibus:                       13.489   Durbin-Watson:                   1.972\n",
              "Prob(Omnibus):                  0.001   Jarque-Bera (JB):               14.150\n",
              "Skew:                           0.444   Prob(JB):                     0.000846\n",
              "Kurtosis:                       2.755   Cond. No.                     4.30e+04\n",
              "==============================================================================\n",
              "\n",
              "Warnings:\n",
              "[1] Standard Errors assume that the covariance matrix of the errors is correctly specified.\n",
              "[2] The condition number is large, 4.3e+04. This might indicate that there are\n",
              "strong multicollinearity or other numerical problems.\n",
              "\"\"\""
            ]
          },
          "metadata": {
            "tags": []
          },
          "execution_count": 36
        }
      ]
    },
    {
      "cell_type": "code",
      "metadata": {
        "id": "gIxRnd7tGifx",
        "colab_type": "code",
        "colab": {
          "base_uri": "https://localhost:8080/",
          "height": 369
        },
        "outputId": "0b7ba2c0-1911-41a7-ebf5-5a0fe07f714e"
      },
      "source": [
        "sns.lmplot(x=\"Cards\", \n",
        "           y=\"Balance\", \n",
        "           hue=\"Gender\", \n",
        "           ci=None,\n",
        "           data = credit_df);"
      ],
      "execution_count": 37,
      "outputs": [
        {
          "output_type": "display_data",
          "data": {
            "image/png": "[encoded data removed]",
            "text/plain": [
              "<Figure size 432.125x360 with 1 Axes>"
            ]
          },
          "metadata": {
            "tags": [],
            "needs_background": "light"
          }
        }
      ]
    },
    {
      "cell_type": "markdown",
      "metadata": {
        "id": "tZMkABRSGoAx",
        "colab_type": "text"
      },
      "source": [
        "The interaction between Gender and Cards is significant with a high coefficient, which demonstrates that Females who own more Cards have on average higher Balance. In this dataset we make the assumption that the Balance is recorded per person and not per credit card, implying that the balance recorded is calculated as an average across all the cards belonging to the same individual. While owning more credit Cards suggests in itself higher financing needs (perhaps the multiple cards offer different benefits), the relation with Gender is worth noting. We should also mention the fact that Gender in isolation has a negative impact on Balance, suggesting that females, in general, have less credit card debt, except when that individual also owns multiple Cards."
      ]
    },
    {
      "cell_type": "markdown",
      "metadata": {
        "id": "kW7OIl1zGrO0",
        "colab_type": "text"
      },
      "source": [
        "**Finding the Best Model**"
      ]
    },
    {
      "cell_type": "markdown",
      "metadata": {
        "id": "pcPoM7yYHDuc",
        "colab_type": "text"
      },
      "source": [
        "After investigating polynomial relationships and interaction among terms, the last part of the analysis will focus on finding the best model and using it to predict credit card Balance for a generated sample of individuals. The purpose of this exercise is to employ the model and make inferences on the target variable, given a set of predictors. In other words, if an individual applies for a credit card, this model will predict an average credit card balance given the demographic factors (i.e. Income, Age, Rating). The information can be further utilized to estimate the risk of credit default or other customer behavior indicators of the given card owner.\n",
        "\n",
        "For this part of the analysis, we will focus separately on the active and non-active samples of the population.\n",
        "\n",
        "The best performing model so far on the entire sample included a polynomial relationship between Income and Balance and an interaction term between Income and Rating."
      ]
    },
    {
      "cell_type": "code",
      "metadata": {
        "id": "cr7UjZv3GpCI",
        "colab_type": "code",
        "colab": {
          "base_uri": "https://localhost:8080/",
          "height": 559
        },
        "outputId": "2080e53f-b5a4-4455-bd88-a1b52821c01f"
      },
      "source": [
        "active_mod7 = smf.ols('Balance ~ Income + I(Income**2) + Rating + Age + Student + Income*Rating', \n",
        "                      data = active_credit_df).fit()\n",
        "active_mod7.summary()"
      ],
      "execution_count": 38,
      "outputs": [
        {
          "output_type": "execute_result",
          "data": {
            "text/html": [
              "<table class=\"simpletable\">\n",
              "<caption>OLS Regression Results</caption>\n",
              "<tr>\n",
              "  <th>Dep. Variable:</th>         <td>Balance</td>     <th>  R-squared:         </th> <td>   0.984</td> \n",
              "</tr>\n",
              "<tr>\n",
              "  <th>Model:</th>                   <td>OLS</td>       <th>  Adj. R-squared:    </th> <td>   0.984</td> \n",
              "</tr>\n",
              "<tr>\n",
              "  <th>Method:</th>             <td>Least Squares</td>  <th>  F-statistic:       </th> <td>   3170.</td> \n",
              "</tr>\n",
              "<tr>\n",
              "  <th>Date:</th>             <td>Tue, 18 Aug 2020</td> <th>  Prob (F-statistic):</th> <td>4.43e-270</td>\n",
              "</tr>\n",
              "<tr>\n",
              "  <th>Time:</th>                 <td>15:07:31</td>     <th>  Log-Likelihood:    </th> <td> -1663.2</td> \n",
              "</tr>\n",
              "<tr>\n",
              "  <th>No. Observations:</th>      <td>   310</td>      <th>  AIC:               </th> <td>   3340.</td> \n",
              "</tr>\n",
              "<tr>\n",
              "  <th>Df Residuals:</th>          <td>   303</td>      <th>  BIC:               </th> <td>   3367.</td> \n",
              "</tr>\n",
              "<tr>\n",
              "  <th>Df Model:</th>              <td>     6</td>      <th>                     </th>     <td> </td>    \n",
              "</tr>\n",
              "<tr>\n",
              "  <th>Covariance Type:</th>      <td>nonrobust</td>    <th>                     </th>     <td> </td>    \n",
              "</tr>\n",
              "</table>\n",
              "<table class=\"simpletable\">\n",
              "<tr>\n",
              "         <td></td>           <th>coef</th>     <th>std err</th>      <th>t</th>      <th>P>|t|</th>  <th>[0.025</th>    <th>0.975]</th>  \n",
              "</tr>\n",
              "<tr>\n",
              "  <th>Intercept</th>      <td> -780.4994</td> <td>   20.847</td> <td>  -37.439</td> <td> 0.000</td> <td> -821.523</td> <td> -739.475</td>\n",
              "</tr>\n",
              "<tr>\n",
              "  <th>Student[T.Yes]</th> <td>  482.1976</td> <td>    9.149</td> <td>   52.705</td> <td> 0.000</td> <td>  464.194</td> <td>  500.201</td>\n",
              "</tr>\n",
              "<tr>\n",
              "  <th>Income</th>         <td>   -9.4049</td> <td>    0.290</td> <td>  -32.466</td> <td> 0.000</td> <td>   -9.975</td> <td>   -8.835</td>\n",
              "</tr>\n",
              "<tr>\n",
              "  <th>I(Income ** 2)</th> <td>   -0.0045</td> <td>    0.003</td> <td>   -1.333</td> <td> 0.184</td> <td>   -0.011</td> <td>    0.002</td>\n",
              "</tr>\n",
              "<tr>\n",
              "  <th>Rating</th>         <td>    4.7559</td> <td>    0.066</td> <td>   72.197</td> <td> 0.000</td> <td>    4.626</td> <td>    4.886</td>\n",
              "</tr>\n",
              "<tr>\n",
              "  <th>Age</th>            <td>   -1.1266</td> <td>    0.177</td> <td>   -6.374</td> <td> 0.000</td> <td>   -1.474</td> <td>   -0.779</td>\n",
              "</tr>\n",
              "<tr>\n",
              "  <th>Income:Rating</th>  <td>    0.0006</td> <td>    0.001</td> <td>    0.658</td> <td> 0.511</td> <td>   -0.001</td> <td>    0.002</td>\n",
              "</tr>\n",
              "</table>\n",
              "<table class=\"simpletable\">\n",
              "<tr>\n",
              "  <th>Omnibus:</th>       <td> 2.411</td> <th>  Durbin-Watson:     </th> <td>   1.956</td>\n",
              "</tr>\n",
              "<tr>\n",
              "  <th>Prob(Omnibus):</th> <td> 0.300</td> <th>  Jarque-Bera (JB):  </th> <td>   2.335</td>\n",
              "</tr>\n",
              "<tr>\n",
              "  <th>Skew:</th>          <td>-0.152</td> <th>  Prob(JB):          </th> <td>   0.311</td>\n",
              "</tr>\n",
              "<tr>\n",
              "  <th>Kurtosis:</th>      <td> 2.703</td> <th>  Cond. No.          </th> <td>2.72e+05</td>\n",
              "</tr>\n",
              "</table><br/><br/>Warnings:<br/>[1] Standard Errors assume that the covariance matrix of the errors is correctly specified.<br/>[2] The condition number is large, 2.72e+05. This might indicate that there are<br/>strong multicollinearity or other numerical problems."
            ],
            "text/plain": [
              "<class 'statsmodels.iolib.summary.Summary'>\n",
              "\"\"\"\n",
              "                            OLS Regression Results                            \n",
              "==============================================================================\n",
              "Dep. Variable:                Balance   R-squared:                       0.984\n",
              "Model:                            OLS   Adj. R-squared:                  0.984\n",
              "Method:                 Least Squares   F-statistic:                     3170.\n",
              "Date:                Tue, 18 Aug 2020   Prob (F-statistic):          4.43e-270\n",
              "Time:                        15:07:31   Log-Likelihood:                -1663.2\n",
              "No. Observations:                 310   AIC:                             3340.\n",
              "Df Residuals:                     303   BIC:                             3367.\n",
              "Df Model:                           6                                         \n",
              "Covariance Type:            nonrobust                                         \n",
              "==================================================================================\n",
              "                     coef    std err          t      P>|t|      [0.025      0.975]\n",
              "----------------------------------------------------------------------------------\n",
              "Intercept       -780.4994     20.847    -37.439      0.000    -821.523    -739.475\n",
              "Student[T.Yes]   482.1976      9.149     52.705      0.000     464.194     500.201\n",
              "Income            -9.4049      0.290    -32.466      0.000      -9.975      -8.835\n",
              "I(Income ** 2)    -0.0045      0.003     -1.333      0.184      -0.011       0.002\n",
              "Rating             4.7559      0.066     72.197      0.000       4.626       4.886\n",
              "Age               -1.1266      0.177     -6.374      0.000      -1.474      -0.779\n",
              "Income:Rating      0.0006      0.001      0.658      0.511      -0.001       0.002\n",
              "==============================================================================\n",
              "Omnibus:                        2.411   Durbin-Watson:                   1.956\n",
              "Prob(Omnibus):                  0.300   Jarque-Bera (JB):                2.335\n",
              "Skew:                          -0.152   Prob(JB):                        0.311\n",
              "Kurtosis:                       2.703   Cond. No.                     2.72e+05\n",
              "==============================================================================\n",
              "\n",
              "Warnings:\n",
              "[1] Standard Errors assume that the covariance matrix of the errors is correctly specified.\n",
              "[2] The condition number is large, 2.72e+05. This might indicate that there are\n",
              "strong multicollinearity or other numerical problems.\n",
              "\"\"\""
            ]
          },
          "metadata": {
            "tags": []
          },
          "execution_count": 38
        }
      ]
    },
    {
      "cell_type": "markdown",
      "metadata": {
        "id": "3P4T2KS1HK3m",
        "colab_type": "text"
      },
      "source": [
        "In the case of the active user population, neither non-linear relationships nor interaction among variables displayed low p-values. Nevertheless, other variables might explain the variance in Balance, such as Limit or Cards."
      ]
    },
    {
      "cell_type": "code",
      "metadata": {
        "id": "q1_OPhQMHNLP",
        "colab_type": "code",
        "colab": {
          "base_uri": "https://localhost:8080/",
          "height": 559
        },
        "outputId": "8fbf7e3e-c19a-4ec3-a256-1d3c5b047d52"
      },
      "source": [
        "active_mod8 = smf.ols('Balance ~ Limit + Rating + Income + Age + Student + Cards', data = active_credit_df).fit()\n",
        "active_mod8.summary()"
      ],
      "execution_count": 39,
      "outputs": [
        {
          "output_type": "execute_result",
          "data": {
            "text/html": [
              "<table class=\"simpletable\">\n",
              "<caption>OLS Regression Results</caption>\n",
              "<tr>\n",
              "  <th>Dep. Variable:</th>         <td>Balance</td>     <th>  R-squared:         </th> <td>   0.999</td> \n",
              "</tr>\n",
              "<tr>\n",
              "  <th>Model:</th>                   <td>OLS</td>       <th>  Adj. R-squared:    </th> <td>   0.999</td> \n",
              "</tr>\n",
              "<tr>\n",
              "  <th>Method:</th>             <td>Least Squares</td>  <th>  F-statistic:       </th> <td>8.031e+04</td>\n",
              "</tr>\n",
              "<tr>\n",
              "  <th>Date:</th>             <td>Tue, 18 Aug 2020</td> <th>  Prob (F-statistic):</th>  <td>  0.00</td>  \n",
              "</tr>\n",
              "<tr>\n",
              "  <th>Time:</th>                 <td>15:08:00</td>     <th>  Log-Likelihood:    </th> <td> -1164.6</td> \n",
              "</tr>\n",
              "<tr>\n",
              "  <th>No. Observations:</th>      <td>   310</td>      <th>  AIC:               </th> <td>   2343.</td> \n",
              "</tr>\n",
              "<tr>\n",
              "  <th>Df Residuals:</th>          <td>   303</td>      <th>  BIC:               </th> <td>   2369.</td> \n",
              "</tr>\n",
              "<tr>\n",
              "  <th>Df Model:</th>              <td>     6</td>      <th>                     </th>     <td> </td>    \n",
              "</tr>\n",
              "<tr>\n",
              "  <th>Covariance Type:</th>      <td>nonrobust</td>    <th>                     </th>     <td> </td>    \n",
              "</tr>\n",
              "</table>\n",
              "<table class=\"simpletable\">\n",
              "<tr>\n",
              "         <td></td>           <th>coef</th>     <th>std err</th>      <th>t</th>      <th>P>|t|</th>  <th>[0.025</th>    <th>0.975]</th>  \n",
              "</tr>\n",
              "<tr>\n",
              "  <th>Intercept</th>      <td> -698.5009</td> <td>    3.294</td> <td> -212.053</td> <td> 0.000</td> <td> -704.983</td> <td> -692.019</td>\n",
              "</tr>\n",
              "<tr>\n",
              "  <th>Student[T.Yes]</th> <td>  501.0420</td> <td>    1.843</td> <td>  271.823</td> <td> 0.000</td> <td>  497.415</td> <td>  504.669</td>\n",
              "</tr>\n",
              "<tr>\n",
              "  <th>Limit</th>          <td>    0.3365</td> <td>    0.004</td> <td>   85.333</td> <td> 0.000</td> <td>    0.329</td> <td>    0.344</td>\n",
              "</tr>\n",
              "<tr>\n",
              "  <th>Rating</th>         <td>   -0.1501</td> <td>    0.058</td> <td>   -2.574</td> <td> 0.011</td> <td>   -0.265</td> <td>   -0.035</td>\n",
              "</tr>\n",
              "<tr>\n",
              "  <th>Income</th>         <td>   -9.9930</td> <td>    0.029</td> <td> -340.893</td> <td> 0.000</td> <td>  -10.051</td> <td>   -9.935</td>\n",
              "</tr>\n",
              "<tr>\n",
              "  <th>Age</th>            <td>   -1.0000</td> <td>    0.035</td> <td>  -28.260</td> <td> 0.000</td> <td>   -1.070</td> <td>   -0.930</td>\n",
              "</tr>\n",
              "<tr>\n",
              "  <th>Cards</th>          <td>   25.5015</td> <td>    0.497</td> <td>   51.278</td> <td> 0.000</td> <td>   24.523</td> <td>   26.480</td>\n",
              "</tr>\n",
              "</table>\n",
              "<table class=\"simpletable\">\n",
              "<tr>\n",
              "  <th>Omnibus:</th>       <td> 3.568</td> <th>  Durbin-Watson:     </th> <td>   2.067</td>\n",
              "</tr>\n",
              "<tr>\n",
              "  <th>Prob(Omnibus):</th> <td> 0.168</td> <th>  Jarque-Bera (JB):  </th> <td>   3.625</td>\n",
              "</tr>\n",
              "<tr>\n",
              "  <th>Skew:</th>          <td>-0.258</td> <th>  Prob(JB):          </th> <td>   0.163</td>\n",
              "</tr>\n",
              "<tr>\n",
              "  <th>Kurtosis:</th>      <td> 2.882</td> <th>  Cond. No.          </th> <td>3.27e+04</td>\n",
              "</tr>\n",
              "</table><br/><br/>Warnings:<br/>[1] Standard Errors assume that the covariance matrix of the errors is correctly specified.<br/>[2] The condition number is large, 3.27e+04. This might indicate that there are<br/>strong multicollinearity or other numerical problems."
            ],
            "text/plain": [
              "<class 'statsmodels.iolib.summary.Summary'>\n",
              "\"\"\"\n",
              "                            OLS Regression Results                            \n",
              "==============================================================================\n",
              "Dep. Variable:                Balance   R-squared:                       0.999\n",
              "Model:                            OLS   Adj. R-squared:                  0.999\n",
              "Method:                 Least Squares   F-statistic:                 8.031e+04\n",
              "Date:                Tue, 18 Aug 2020   Prob (F-statistic):               0.00\n",
              "Time:                        15:08:00   Log-Likelihood:                -1164.6\n",
              "No. Observations:                 310   AIC:                             2343.\n",
              "Df Residuals:                     303   BIC:                             2369.\n",
              "Df Model:                           6                                         \n",
              "Covariance Type:            nonrobust                                         \n",
              "==================================================================================\n",
              "                     coef    std err          t      P>|t|      [0.025      0.975]\n",
              "----------------------------------------------------------------------------------\n",
              "Intercept       -698.5009      3.294   -212.053      0.000    -704.983    -692.019\n",
              "Student[T.Yes]   501.0420      1.843    271.823      0.000     497.415     504.669\n",
              "Limit              0.3365      0.004     85.333      0.000       0.329       0.344\n",
              "Rating            -0.1501      0.058     -2.574      0.011      -0.265      -0.035\n",
              "Income            -9.9930      0.029   -340.893      0.000     -10.051      -9.935\n",
              "Age               -1.0000      0.035    -28.260      0.000      -1.070      -0.930\n",
              "Cards             25.5015      0.497     51.278      0.000      24.523      26.480\n",
              "==============================================================================\n",
              "Omnibus:                        3.568   Durbin-Watson:                   2.067\n",
              "Prob(Omnibus):                  0.168   Jarque-Bera (JB):                3.625\n",
              "Skew:                          -0.258   Prob(JB):                        0.163\n",
              "Kurtosis:                       2.882   Cond. No.                     3.27e+04\n",
              "==============================================================================\n",
              "\n",
              "Warnings:\n",
              "[1] Standard Errors assume that the covariance matrix of the errors is correctly specified.\n",
              "[2] The condition number is large, 3.27e+04. This might indicate that there are\n",
              "strong multicollinearity or other numerical problems.\n",
              "\"\"\""
            ]
          },
          "metadata": {
            "tags": []
          },
          "execution_count": 39
        }
      ]
    },
    {
      "cell_type": "markdown",
      "metadata": {
        "id": "JppuBMrZHRqJ",
        "colab_type": "text"
      },
      "source": [
        "This is the best model so far, with an R-squared of 99%. Adding the Limit term seems to have had a strong impact. This is a relationship which can be further analyzed."
      ]
    },
    {
      "cell_type": "code",
      "metadata": {
        "id": "zGiUC64pHU2B",
        "colab_type": "code",
        "colab": {
          "base_uri": "https://localhost:8080/",
          "height": 296
        },
        "outputId": "eceffe59-fc6c-46f9-d10d-b3892f49eb56"
      },
      "source": [
        "sns.regplot(x='Limit',\n",
        "          y='Balance',\n",
        "          data=active_credit_df,\n",
        "          line_kws={'color':'black'},\n",
        "          lowess=True)"
      ],
      "execution_count": 40,
      "outputs": [
        {
          "output_type": "execute_result",
          "data": {
            "text/plain": [
              "<matplotlib.axes._subplots.AxesSubplot at 0x7fd803230c18>"
            ]
          },
          "metadata": {
            "tags": []
          },
          "execution_count": 40
        },
        {
          "output_type": "display_data",
          "data": {
            "image/png": "[encoded data removed]",
            "text/plain": [
              "<Figure size 432x288 with 1 Axes>"
            ]
          },
          "metadata": {
            "tags": [],
            "needs_background": "light"
          }
        }
      ]
    },
    {
      "cell_type": "markdown",
      "metadata": {
        "id": "LV_VRwEyHZRY",
        "colab_type": "text"
      },
      "source": [
        "Credit Limit appears to be a strong predictor for credit card Balance. This is an expected finding since we assume that a card owner is not allowed to have a Balance that exceeds their Limit. Consequently, this relationship simply articulates that, the higher the credit Limit, the greater the credit card expenses are for a given individual, and hence the insightfulness of this relationship is debatable."
      ]
    },
    {
      "cell_type": "code",
      "metadata": {
        "id": "bisfKHh5Hbbs",
        "colab_type": "code",
        "colab": {
          "base_uri": "https://localhost:8080/",
          "height": 426
        },
        "outputId": "cd759fc2-525e-439c-8334-99d0663c3276"
      },
      "source": [
        "mod9 = smf.ols('Balance ~ Rating', data = credit_df).fit()\n",
        "mod9.summary()"
      ],
      "execution_count": 41,
      "outputs": [
        {
          "output_type": "execute_result",
          "data": {
            "text/html": [
              "<table class=\"simpletable\">\n",
              "<caption>OLS Regression Results</caption>\n",
              "<tr>\n",
              "  <th>Dep. Variable:</th>         <td>Balance</td>     <th>  R-squared:         </th> <td>   0.746</td> \n",
              "</tr>\n",
              "<tr>\n",
              "  <th>Model:</th>                   <td>OLS</td>       <th>  Adj. R-squared:    </th> <td>   0.745</td> \n",
              "</tr>\n",
              "<tr>\n",
              "  <th>Method:</th>             <td>Least Squares</td>  <th>  F-statistic:       </th> <td>   1168.</td> \n",
              "</tr>\n",
              "<tr>\n",
              "  <th>Date:</th>             <td>Tue, 18 Aug 2020</td> <th>  Prob (F-statistic):</th> <td>1.90e-120</td>\n",
              "</tr>\n",
              "<tr>\n",
              "  <th>Time:</th>                 <td>15:08:59</td>     <th>  Log-Likelihood:    </th> <td> -2745.4</td> \n",
              "</tr>\n",
              "<tr>\n",
              "  <th>No. Observations:</th>      <td>   400</td>      <th>  AIC:               </th> <td>   5495.</td> \n",
              "</tr>\n",
              "<tr>\n",
              "  <th>Df Residuals:</th>          <td>   398</td>      <th>  BIC:               </th> <td>   5503.</td> \n",
              "</tr>\n",
              "<tr>\n",
              "  <th>Df Model:</th>              <td>     1</td>      <th>                     </th>     <td> </td>    \n",
              "</tr>\n",
              "<tr>\n",
              "  <th>Covariance Type:</th>      <td>nonrobust</td>    <th>                     </th>     <td> </td>    \n",
              "</tr>\n",
              "</table>\n",
              "<table class=\"simpletable\">\n",
              "<tr>\n",
              "      <td></td>         <th>coef</th>     <th>std err</th>      <th>t</th>      <th>P>|t|</th>  <th>[0.025</th>    <th>0.975]</th>  \n",
              "</tr>\n",
              "<tr>\n",
              "  <th>Intercept</th> <td> -390.8463</td> <td>   29.069</td> <td>  -13.446</td> <td> 0.000</td> <td> -447.993</td> <td> -333.699</td>\n",
              "</tr>\n",
              "<tr>\n",
              "  <th>Rating</th>    <td>    2.5662</td> <td>    0.075</td> <td>   34.176</td> <td> 0.000</td> <td>    2.419</td> <td>    2.714</td>\n",
              "</tr>\n",
              "</table>\n",
              "<table class=\"simpletable\">\n",
              "<tr>\n",
              "  <th>Omnibus:</th>       <td>23.223</td> <th>  Durbin-Watson:     </th> <td>   1.966</td>\n",
              "</tr>\n",
              "<tr>\n",
              "  <th>Prob(Omnibus):</th> <td> 0.000</td> <th>  Jarque-Bera (JB):  </th> <td>  38.802</td>\n",
              "</tr>\n",
              "<tr>\n",
              "  <th>Skew:</th>          <td> 0.390</td> <th>  Prob(JB):          </th> <td>3.75e-09</td>\n",
              "</tr>\n",
              "<tr>\n",
              "  <th>Kurtosis:</th>      <td> 4.311</td> <th>  Cond. No.          </th> <td>    970.</td>\n",
              "</tr>\n",
              "</table><br/><br/>Warnings:<br/>[1] Standard Errors assume that the covariance matrix of the errors is correctly specified."
            ],
            "text/plain": [
              "<class 'statsmodels.iolib.summary.Summary'>\n",
              "\"\"\"\n",
              "                            OLS Regression Results                            \n",
              "==============================================================================\n",
              "Dep. Variable:                Balance   R-squared:                       0.746\n",
              "Model:                            OLS   Adj. R-squared:                  0.745\n",
              "Method:                 Least Squares   F-statistic:                     1168.\n",
              "Date:                Tue, 18 Aug 2020   Prob (F-statistic):          1.90e-120\n",
              "Time:                        15:08:59   Log-Likelihood:                -2745.4\n",
              "No. Observations:                 400   AIC:                             5495.\n",
              "Df Residuals:                     398   BIC:                             5503.\n",
              "Df Model:                           1                                         \n",
              "Covariance Type:            nonrobust                                         \n",
              "==============================================================================\n",
              "                 coef    std err          t      P>|t|      [0.025      0.975]\n",
              "------------------------------------------------------------------------------\n",
              "Intercept   -390.8463     29.069    -13.446      0.000    -447.993    -333.699\n",
              "Rating         2.5662      0.075     34.176      0.000       2.419       2.714\n",
              "==============================================================================\n",
              "Omnibus:                       23.223   Durbin-Watson:                   1.966\n",
              "Prob(Omnibus):                  0.000   Jarque-Bera (JB):               38.802\n",
              "Skew:                           0.390   Prob(JB):                     3.75e-09\n",
              "Kurtosis:                       4.311   Cond. No.                         970.\n",
              "==============================================================================\n",
              "\n",
              "Warnings:\n",
              "[1] Standard Errors assume that the covariance matrix of the errors is correctly specified.\n",
              "\"\"\""
            ]
          },
          "metadata": {
            "tags": []
          },
          "execution_count": 41
        }
      ]
    },
    {
      "cell_type": "markdown",
      "metadata": {
        "id": "KoI8STh0HfX0",
        "colab_type": "text"
      },
      "source": [
        "Similarly, credit Rating is a highly accurate predictor of Balance. This could suggest that individuals with high Rating are more willing to incur credit debt as they are confident that they will be able to pay off the balance. Nevertheless, Rating is a complex variable, related to other predictors such as Income.\n",
        "\n",
        "For the entire dataset, the best model predicted 96% of the variance, while the model fit on the active-only population predicted 99%. The difference suggests that there are other factors influencing non-active cardholders which are not present in our data, or their spending behaviour is reflected on other lending platforms."
      ]
    },
    {
      "cell_type": "markdown",
      "metadata": {
        "id": "ugi2CQByHkI0",
        "colab_type": "text"
      },
      "source": [
        "**Logistic Regression**"
      ]
    },
    {
      "cell_type": "markdown",
      "metadata": {
        "id": "YR3dH3gGHv3r",
        "colab_type": "text"
      },
      "source": [
        "In order to determine the factors that influence whether a card owner is an active credit card user, a logistic regression can be fit."
      ]
    },
    {
      "cell_type": "code",
      "metadata": {
        "id": "NocpthDAH0jY",
        "colab_type": "code",
        "colab": {
          "base_uri": "https://localhost:8080/",
          "height": 377
        },
        "outputId": "95e45658-654a-4412-ca35-96e3f31370e1"
      },
      "source": [
        "log_mod = smf.glm('Active ~ Limit + Rating + Income + Age + Cards + Education', \n",
        "                   data = credit_df,\n",
        "                   family=sm.families.Binomial()).fit()\n",
        "log_mod.summary()"
      ],
      "execution_count": 42,
      "outputs": [
        {
          "output_type": "execute_result",
          "data": {
            "text/html": [
              "<table class=\"simpletable\">\n",
              "<caption>Generalized Linear Model Regression Results</caption>\n",
              "<tr>\n",
              "  <th>Dep. Variable:</th>   <td>['Active[No]', 'Active[Yes]']</td> <th>  No. Observations:  </th>  <td>   400</td> \n",
              "</tr>\n",
              "<tr>\n",
              "  <th>Model:</th>                        <td>GLM</td>              <th>  Df Residuals:      </th>  <td>   393</td> \n",
              "</tr>\n",
              "<tr>\n",
              "  <th>Model Family:</th>              <td>Binomial</td>            <th>  Df Model:          </th>  <td>     6</td> \n",
              "</tr>\n",
              "<tr>\n",
              "  <th>Link Function:</th>               <td>logit</td>             <th>  Scale:             </th> <td>  1.0000</td>\n",
              "</tr>\n",
              "<tr>\n",
              "  <th>Method:</th>                      <td>IRLS</td>              <th>  Log-Likelihood:    </th> <td> -53.379</td>\n",
              "</tr>\n",
              "<tr>\n",
              "  <th>Date:</th>                  <td>Tue, 18 Aug 2020</td>        <th>  Deviance:          </th> <td>  106.76</td>\n",
              "</tr>\n",
              "<tr>\n",
              "  <th>Time:</th>                      <td>15:10:41</td>            <th>  Pearson chi2:      </th>  <td>  464.</td> \n",
              "</tr>\n",
              "<tr>\n",
              "  <th>No. Iterations:</th>                <td>9</td>               <th>                     </th>     <td> </td>   \n",
              "</tr>\n",
              "<tr>\n",
              "  <th>Covariance Type:</th>           <td>nonrobust</td>           <th>                     </th>     <td> </td>   \n",
              "</tr>\n",
              "</table>\n",
              "<table class=\"simpletable\">\n",
              "<tr>\n",
              "      <td></td>         <th>coef</th>     <th>std err</th>      <th>z</th>      <th>P>|z|</th>  <th>[0.025</th>    <th>0.975]</th>  \n",
              "</tr>\n",
              "<tr>\n",
              "  <th>Intercept</th> <td>    8.3924</td> <td>    2.040</td> <td>    4.114</td> <td> 0.000</td> <td>    4.394</td> <td>   12.390</td>\n",
              "</tr>\n",
              "<tr>\n",
              "  <th>Limit</th>     <td>   -0.0024</td> <td>    0.002</td> <td>   -1.368</td> <td> 0.171</td> <td>   -0.006</td> <td>    0.001</td>\n",
              "</tr>\n",
              "<tr>\n",
              "  <th>Rating</th>    <td>   -0.0210</td> <td>    0.026</td> <td>   -0.792</td> <td> 0.429</td> <td>   -0.073</td> <td>    0.031</td>\n",
              "</tr>\n",
              "<tr>\n",
              "  <th>Income</th>    <td>    0.1114</td> <td>    0.021</td> <td>    5.291</td> <td> 0.000</td> <td>    0.070</td> <td>    0.153</td>\n",
              "</tr>\n",
              "<tr>\n",
              "  <th>Age</th>       <td>   -0.0021</td> <td>    0.015</td> <td>   -0.143</td> <td> 0.886</td> <td>   -0.031</td> <td>    0.027</td>\n",
              "</tr>\n",
              "<tr>\n",
              "  <th>Cards</th>     <td>   -0.1709</td> <td>    0.256</td> <td>   -0.668</td> <td> 0.504</td> <td>   -0.673</td> <td>    0.331</td>\n",
              "</tr>\n",
              "<tr>\n",
              "  <th>Education</th> <td>    0.0444</td> <td>    0.088</td> <td>    0.503</td> <td> 0.615</td> <td>   -0.128</td> <td>    0.217</td>\n",
              "</tr>\n",
              "</table>"
            ],
            "text/plain": [
              "<class 'statsmodels.iolib.summary.Summary'>\n",
              "\"\"\"\n",
              "                       Generalized Linear Model Regression Results                       \n",
              "=========================================================================================\n",
              "Dep. Variable:     ['Active[No]', 'Active[Yes]']   No. Observations:                  400\n",
              "Model:                                       GLM   Df Residuals:                      393\n",
              "Model Family:                           Binomial   Df Model:                            6\n",
              "Link Function:                             logit   Scale:                          1.0000\n",
              "Method:                                     IRLS   Log-Likelihood:                -53.379\n",
              "Date:                           Tue, 18 Aug 2020   Deviance:                       106.76\n",
              "Time:                                   15:10:41   Pearson chi2:                     464.\n",
              "No. Iterations:                                9                                         \n",
              "Covariance Type:                       nonrobust                                         \n",
              "==============================================================================\n",
              "                 coef    std err          z      P>|z|      [0.025      0.975]\n",
              "------------------------------------------------------------------------------\n",
              "Intercept      8.3924      2.040      4.114      0.000       4.394      12.390\n",
              "Limit         -0.0024      0.002     -1.368      0.171      -0.006       0.001\n",
              "Rating        -0.0210      0.026     -0.792      0.429      -0.073       0.031\n",
              "Income         0.1114      0.021      5.291      0.000       0.070       0.153\n",
              "Age           -0.0021      0.015     -0.143      0.886      -0.031       0.027\n",
              "Cards         -0.1709      0.256     -0.668      0.504      -0.673       0.331\n",
              "Education      0.0444      0.088      0.503      0.615      -0.128       0.217\n",
              "==============================================================================\n",
              "\"\"\""
            ]
          },
          "metadata": {
            "tags": []
          },
          "execution_count": 42
        }
      ]
    },
    {
      "cell_type": "markdown",
      "metadata": {
        "id": "G5TQHtnAH-i0",
        "colab_type": "text"
      },
      "source": [
        "The results unveil that Income is the only statistically significant predictor of whether the card owner is active or not, high earners having a greater probability of being active. This could be explained by low earners maintaining a zero-balance card in order to boost their creditworthiness."
      ]
    },
    {
      "cell_type": "markdown",
      "metadata": {
        "id": "bceXQ_eQIBNW",
        "colab_type": "text"
      },
      "source": [
        "**Making Predictions**"
      ]
    },
    {
      "cell_type": "code",
      "metadata": {
        "id": "3u_TjSLTIGX1",
        "colab_type": "code",
        "colab": {
          "base_uri": "https://localhost:8080/",
          "height": 620
        },
        "outputId": "80dbc911-a77e-478d-d2ba-a9f18225b2e3"
      },
      "source": [
        "df_new=pd.DataFrame({'Income':np.random.normal(45, 20, 40),\n",
        "                    'Rating':np.random.normal(355, 55, 40),\n",
        "                    'Limit':np.random.normal(4735, 200, 40),\n",
        "                    'Age':np.random.normal(56, 17, 40),\n",
        "                    'Cards':list(range(0,10))*4,\n",
        "                    'Student':['Yes']*20+['No']*20})\n",
        "df_new.Cards[df_new.Cards == 0] = 3\n",
        "df_new.Income[df_new.Income <= 0] = df_new.Income.mean()\n",
        "df_new.Rating[df_new.Rating <= 0] = df_new.Rating.mean()\n",
        "df_new.Limit[df_new.Limit <= 0] = df_new.Limit.mean()\n",
        "df_new['Balance']= active_mod8.predict(df_new)\n",
        "df_new.describe()"
      ],
      "execution_count": 43,
      "outputs": [
        {
          "output_type": "stream",
          "text": [
            "/usr/local/lib/python3.6/dist-packages/ipykernel_launcher.py:7: SettingWithCopyWarning: \n",
            "A value is trying to be set on a copy of a slice from a DataFrame\n",
            "\n",
            "See the caveats in the documentation: https://pandas.pydata.org/pandas-docs/stable/user_guide/indexing.html#returning-a-view-versus-a-copy\n",
            "  import sys\n",
            "/usr/local/lib/python3.6/dist-packages/ipykernel_launcher.py:8: SettingWithCopyWarning: \n",
            "A value is trying to be set on a copy of a slice from a DataFrame\n",
            "\n",
            "See the caveats in the documentation: https://pandas.pydata.org/pandas-docs/stable/user_guide/indexing.html#returning-a-view-versus-a-copy\n",
            "  \n",
            "/usr/local/lib/python3.6/dist-packages/ipykernel_launcher.py:9: SettingWithCopyWarning: \n",
            "A value is trying to be set on a copy of a slice from a DataFrame\n",
            "\n",
            "See the caveats in the documentation: https://pandas.pydata.org/pandas-docs/stable/user_guide/indexing.html#returning-a-view-versus-a-copy\n",
            "  if __name__ == '__main__':\n",
            "/usr/local/lib/python3.6/dist-packages/ipykernel_launcher.py:10: SettingWithCopyWarning: \n",
            "A value is trying to be set on a copy of a slice from a DataFrame\n",
            "\n",
            "See the caveats in the documentation: https://pandas.pydata.org/pandas-docs/stable/user_guide/indexing.html#returning-a-view-versus-a-copy\n",
            "  # Remove the CWD from sys.path while we load stuff.\n"
          ],
          "name": "stderr"
        },
        {
          "output_type": "execute_result",
          "data": {
            "text/html": [
              "<div>\n",
              "<style scoped>\n",
              "    .dataframe tbody tr th:only-of-type {\n",
              "        vertical-align: middle;\n",
              "    }\n",
              "\n",
              "    .dataframe tbody tr th {\n",
              "        vertical-align: top;\n",
              "    }\n",
              "\n",
              "    .dataframe thead th {\n",
              "        text-align: right;\n",
              "    }\n",
              "</style>\n",
              "<table border=\"1\" class=\"dataframe\">\n",
              "  <thead>\n",
              "    <tr style=\"text-align: right;\">\n",
              "      <th></th>\n",
              "      <th>Income</th>\n",
              "      <th>Rating</th>\n",
              "      <th>Limit</th>\n",
              "      <th>Age</th>\n",
              "      <th>Cards</th>\n",
              "      <th>Balance</th>\n",
              "    </tr>\n",
              "  </thead>\n",
              "  <tbody>\n",
              "    <tr>\n",
              "      <th>count</th>\n",
              "      <td>40.000000</td>\n",
              "      <td>40.000000</td>\n",
              "      <td>40.000000</td>\n",
              "      <td>40.000000</td>\n",
              "      <td>40.000000</td>\n",
              "      <td>40.000000</td>\n",
              "    </tr>\n",
              "    <tr>\n",
              "      <th>mean</th>\n",
              "      <td>44.327085</td>\n",
              "      <td>358.215193</td>\n",
              "      <td>4672.072575</td>\n",
              "      <td>58.281705</td>\n",
              "      <td>4.800000</td>\n",
              "      <td>691.581966</td>\n",
              "    </tr>\n",
              "    <tr>\n",
              "      <th>std</th>\n",
              "      <td>20.946226</td>\n",
              "      <td>58.108786</td>\n",
              "      <td>201.661363</td>\n",
              "      <td>18.833286</td>\n",
              "      <td>2.554032</td>\n",
              "      <td>311.468968</td>\n",
              "    </tr>\n",
              "    <tr>\n",
              "      <th>min</th>\n",
              "      <td>10.709182</td>\n",
              "      <td>197.935312</td>\n",
              "      <td>4049.488381</td>\n",
              "      <td>15.181698</td>\n",
              "      <td>1.000000</td>\n",
              "      <td>-5.384491</td>\n",
              "    </tr>\n",
              "    <tr>\n",
              "      <th>25%</th>\n",
              "      <td>24.727313</td>\n",
              "      <td>314.401064</td>\n",
              "      <td>4544.164992</td>\n",
              "      <td>44.332195</td>\n",
              "      <td>3.000000</td>\n",
              "      <td>472.084131</td>\n",
              "    </tr>\n",
              "    <tr>\n",
              "      <th>50%</th>\n",
              "      <td>44.611602</td>\n",
              "      <td>368.098979</td>\n",
              "      <td>4708.224625</td>\n",
              "      <td>62.622048</td>\n",
              "      <td>4.500000</td>\n",
              "      <td>754.682790</td>\n",
              "    </tr>\n",
              "    <tr>\n",
              "      <th>75%</th>\n",
              "      <td>57.696347</td>\n",
              "      <td>399.181783</td>\n",
              "      <td>4799.698700</td>\n",
              "      <td>71.697393</td>\n",
              "      <td>7.000000</td>\n",
              "      <td>888.685187</td>\n",
              "    </tr>\n",
              "    <tr>\n",
              "      <th>max</th>\n",
              "      <td>84.560433</td>\n",
              "      <td>441.075656</td>\n",
              "      <td>5191.172230</td>\n",
              "      <td>89.729448</td>\n",
              "      <td>9.000000</td>\n",
              "      <td>1261.020772</td>\n",
              "    </tr>\n",
              "  </tbody>\n",
              "</table>\n",
              "</div>"
            ],
            "text/plain": [
              "          Income      Rating        Limit        Age      Cards      Balance\n",
              "count  40.000000   40.000000    40.000000  40.000000  40.000000    40.000000\n",
              "mean   44.327085  358.215193  4672.072575  58.281705   4.800000   691.581966\n",
              "std    20.946226   58.108786   201.661363  18.833286   2.554032   311.468968\n",
              "min    10.709182  197.935312  4049.488381  15.181698   1.000000    -5.384491\n",
              "25%    24.727313  314.401064  4544.164992  44.332195   3.000000   472.084131\n",
              "50%    44.611602  368.098979  4708.224625  62.622048   4.500000   754.682790\n",
              "75%    57.696347  399.181783  4799.698700  71.697393   7.000000   888.685187\n",
              "max    84.560433  441.075656  5191.172230  89.729448   9.000000  1261.020772"
            ]
          },
          "metadata": {
            "tags": []
          },
          "execution_count": 43
        }
      ]
    },
    {
      "cell_type": "code",
      "metadata": {
        "id": "2mnkmYGVIKnU",
        "colab_type": "code",
        "colab": {
          "base_uri": "https://localhost:8080/",
          "height": 599
        },
        "outputId": "b82b75a0-b2e0-4174-8183-dfc88ddf41c7"
      },
      "source": [
        "mod8 = smf.ols('Balance ~ Income + I(Income**2) + Age + Student + Income*Rating + Limit + Cards', data = credit_df).fit()\n",
        "mod8.summary()"
      ],
      "execution_count": 44,
      "outputs": [
        {
          "output_type": "execute_result",
          "data": {
            "text/html": [
              "<table class=\"simpletable\">\n",
              "<caption>OLS Regression Results</caption>\n",
              "<tr>\n",
              "  <th>Dep. Variable:</th>         <td>Balance</td>     <th>  R-squared:         </th> <td>   0.962</td> \n",
              "</tr>\n",
              "<tr>\n",
              "  <th>Model:</th>                   <td>OLS</td>       <th>  Adj. R-squared:    </th> <td>   0.961</td> \n",
              "</tr>\n",
              "<tr>\n",
              "  <th>Method:</th>             <td>Least Squares</td>  <th>  F-statistic:       </th> <td>   1221.</td> \n",
              "</tr>\n",
              "<tr>\n",
              "  <th>Date:</th>             <td>Tue, 18 Aug 2020</td> <th>  Prob (F-statistic):</th> <td>3.04e-271</td>\n",
              "</tr>\n",
              "<tr>\n",
              "  <th>Time:</th>                 <td>15:12:40</td>     <th>  Log-Likelihood:    </th> <td> -2367.9</td> \n",
              "</tr>\n",
              "<tr>\n",
              "  <th>No. Observations:</th>      <td>   400</td>      <th>  AIC:               </th> <td>   4754.</td> \n",
              "</tr>\n",
              "<tr>\n",
              "  <th>Df Residuals:</th>          <td>   391</td>      <th>  BIC:               </th> <td>   4790.</td> \n",
              "</tr>\n",
              "<tr>\n",
              "  <th>Df Model:</th>              <td>     8</td>      <th>                     </th>     <td> </td>    \n",
              "</tr>\n",
              "<tr>\n",
              "  <th>Covariance Type:</th>      <td>nonrobust</td>    <th>                     </th>     <td> </td>    \n",
              "</tr>\n",
              "</table>\n",
              "<table class=\"simpletable\">\n",
              "<tr>\n",
              "         <td></td>           <th>coef</th>     <th>std err</th>      <th>t</th>      <th>P>|t|</th>  <th>[0.025</th>    <th>0.975]</th>  \n",
              "</tr>\n",
              "<tr>\n",
              "  <th>Intercept</th>      <td> -368.0046</td> <td>   28.204</td> <td>  -13.048</td> <td> 0.000</td> <td> -423.455</td> <td> -312.554</td>\n",
              "</tr>\n",
              "<tr>\n",
              "  <th>Student[T.Yes]</th> <td>  433.8736</td> <td>   15.294</td> <td>   28.368</td> <td> 0.000</td> <td>  403.804</td> <td>  463.943</td>\n",
              "</tr>\n",
              "<tr>\n",
              "  <th>Income</th>         <td>   -9.3145</td> <td>    0.464</td> <td>  -20.074</td> <td> 0.000</td> <td>  -10.227</td> <td>   -8.402</td>\n",
              "</tr>\n",
              "<tr>\n",
              "  <th>I(Income ** 2)</th> <td>   -0.0313</td> <td>    0.006</td> <td>   -5.633</td> <td> 0.000</td> <td>   -0.042</td> <td>   -0.020</td>\n",
              "</tr>\n",
              "<tr>\n",
              "  <th>Age</th>            <td>   -0.6784</td> <td>    0.270</td> <td>   -2.514</td> <td> 0.012</td> <td>   -1.209</td> <td>   -0.148</td>\n",
              "</tr>\n",
              "<tr>\n",
              "  <th>Rating</th>         <td>    0.5141</td> <td>    0.454</td> <td>    1.133</td> <td> 0.258</td> <td>   -0.378</td> <td>    1.406</td>\n",
              "</tr>\n",
              "<tr>\n",
              "  <th>Income:Rating</th>  <td>    0.0109</td> <td>    0.001</td> <td>    7.903</td> <td> 0.000</td> <td>    0.008</td> <td>    0.014</td>\n",
              "</tr>\n",
              "<tr>\n",
              "  <th>Limit</th>          <td>    0.1998</td> <td>    0.030</td> <td>    6.650</td> <td> 0.000</td> <td>    0.141</td> <td>    0.259</td>\n",
              "</tr>\n",
              "<tr>\n",
              "  <th>Cards</th>          <td>   18.5345</td> <td>    3.991</td> <td>    4.644</td> <td> 0.000</td> <td>   10.688</td> <td>   26.381</td>\n",
              "</tr>\n",
              "</table>\n",
              "<table class=\"simpletable\">\n",
              "<tr>\n",
              "  <th>Omnibus:</th>       <td>11.908</td> <th>  Durbin-Watson:     </th> <td>   1.961</td>\n",
              "</tr>\n",
              "<tr>\n",
              "  <th>Prob(Omnibus):</th> <td> 0.003</td> <th>  Jarque-Bera (JB):  </th> <td>  12.521</td>\n",
              "</tr>\n",
              "<tr>\n",
              "  <th>Skew:</th>          <td> 0.432</td> <th>  Prob(JB):          </th> <td> 0.00191</td>\n",
              "</tr>\n",
              "<tr>\n",
              "  <th>Kurtosis:</th>      <td> 2.932</td> <th>  Cond. No.          </th> <td>2.14e+05</td>\n",
              "</tr>\n",
              "</table><br/><br/>Warnings:<br/>[1] Standard Errors assume that the covariance matrix of the errors is correctly specified.<br/>[2] The condition number is large, 2.14e+05. This might indicate that there are<br/>strong multicollinearity or other numerical problems."
            ],
            "text/plain": [
              "<class 'statsmodels.iolib.summary.Summary'>\n",
              "\"\"\"\n",
              "                            OLS Regression Results                            \n",
              "==============================================================================\n",
              "Dep. Variable:                Balance   R-squared:                       0.962\n",
              "Model:                            OLS   Adj. R-squared:                  0.961\n",
              "Method:                 Least Squares   F-statistic:                     1221.\n",
              "Date:                Tue, 18 Aug 2020   Prob (F-statistic):          3.04e-271\n",
              "Time:                        15:12:40   Log-Likelihood:                -2367.9\n",
              "No. Observations:                 400   AIC:                             4754.\n",
              "Df Residuals:                     391   BIC:                             4790.\n",
              "Df Model:                           8                                         \n",
              "Covariance Type:            nonrobust                                         \n",
              "==================================================================================\n",
              "                     coef    std err          t      P>|t|      [0.025      0.975]\n",
              "----------------------------------------------------------------------------------\n",
              "Intercept       -368.0046     28.204    -13.048      0.000    -423.455    -312.554\n",
              "Student[T.Yes]   433.8736     15.294     28.368      0.000     403.804     463.943\n",
              "Income            -9.3145      0.464    -20.074      0.000     -10.227      -8.402\n",
              "I(Income ** 2)    -0.0313      0.006     -5.633      0.000      -0.042      -0.020\n",
              "Age               -0.6784      0.270     -2.514      0.012      -1.209      -0.148\n",
              "Rating             0.5141      0.454      1.133      0.258      -0.378       1.406\n",
              "Income:Rating      0.0109      0.001      7.903      0.000       0.008       0.014\n",
              "Limit              0.1998      0.030      6.650      0.000       0.141       0.259\n",
              "Cards             18.5345      3.991      4.644      0.000      10.688      26.381\n",
              "==============================================================================\n",
              "Omnibus:                       11.908   Durbin-Watson:                   1.961\n",
              "Prob(Omnibus):                  0.003   Jarque-Bera (JB):               12.521\n",
              "Skew:                           0.432   Prob(JB):                      0.00191\n",
              "Kurtosis:                       2.932   Cond. No.                     2.14e+05\n",
              "==============================================================================\n",
              "\n",
              "Warnings:\n",
              "[1] Standard Errors assume that the covariance matrix of the errors is correctly specified.\n",
              "[2] The condition number is large, 2.14e+05. This might indicate that there are\n",
              "strong multicollinearity or other numerical problems.\n",
              "\"\"\""
            ]
          },
          "metadata": {
            "tags": []
          },
          "execution_count": 44
        }
      ]
    }
  ]
}
